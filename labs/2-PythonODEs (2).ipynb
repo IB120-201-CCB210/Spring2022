{
 "cells": [
  {
   "cell_type": "markdown",
   "metadata": {},
   "source": [
    "# Python Basics II\n",
    "## Review"
   ]
  },
  {
   "cell_type": "code",
   "execution_count": null,
   "metadata": {
    "code_folding": [
     0
    ]
   },
   "outputs": [],
   "source": [
    "#####SECRET CODE#####\n",
    "\"\"\"\n",
    "In this block I am activating a new function to print out dictionaries \n",
    "in a pretty fashion - it's not part of the lesson\n",
    "\"\"\"\n",
    "import json\n",
    "\n",
    "def dprint(d):\n",
    "    print(json.dumps(d,\n",
    "                     sort_keys=True,\n",
    "                     indent=4))\n"
   ]
  },
  {
   "cell_type": "code",
   "execution_count": null,
   "metadata": {
    "code_folding": [
     0
    ]
   },
   "outputs": [],
   "source": [
    "## REVIEW\n",
    "\n",
    "\"\"\"\n",
    "What will the result of the below code snippet be?\n",
    "\"\"\"\n",
    "\n",
    "a=[1,2,3,4,5,6]\n",
    "b=[3,4,5,6,7,8]\n"
   ]
  },
  {
   "cell_type": "code",
   "execution_count": 1,
   "metadata": {
    "code_folding": [
     0
    ]
   },
   "outputs": [
    {
     "name": "stdout",
     "output_type": "stream",
     "text": [
      "['The Invisible Man,91', ' Onward,87', ' Star Wars: The Rise of Skywalker,52']\n"
     ]
    }
   ],
   "source": [
    "## REVIEW 2 How about this snippet\n",
    "\n",
    "my_string = \"The Invisible Man, Score 91; Onward, Score 87; Star Wars: The Rise of Skywalker, Score 52;,,,\"\n",
    "\n",
    "print(my_string.rstrip(\",\").replace(\" Score \",\"\").rstrip(\";\").split(\";\"))\n",
    "\n",
    "             "
   ]
  },
  {
   "cell_type": "code",
   "execution_count": null,
   "metadata": {},
   "outputs": [],
   "source": [
    "## What would happen if you tried splitting the string before the strips?"
   ]
  },
  {
   "cell_type": "markdown",
   "metadata": {},
   "source": [
    "## Loops"
   ]
  },
  {
   "cell_type": "code",
   "execution_count": null,
   "metadata": {
    "code_folding": [
     0
    ]
   },
   "outputs": [],
   "source": [
    "## loops\n",
    "\n",
    "x = [\"pigs\",\"sheep\",\"wolves\"]\n",
    "\n",
    "#syntax - for item in iterable object (lists, strings, etc.)\n",
    "for item in x:  # for each item in the list x\n",
    "    print(item) # indented code is run each time"
   ]
  },
  {
   "cell_type": "code",
   "execution_count": null,
   "metadata": {
    "code_folding": [
     0
    ]
   },
   "outputs": [],
   "source": [
    "## loops continued\n",
    "\n",
    "x = [\"pigs\",\"sheep\",\"wolves\"]\n",
    "print(list(enumerate(x)))\n",
    "\n",
    "#syntax - for counter, value in enumerate(iterable_list)\n",
    "for idx, item in enumerate(x):  # ***for each item and its index \"idx, item\"***\n",
    "    print(\"{i}:{item}\".format(i=idx,item=item)) # indented code is run each time\n",
    "    #print(idx,item)"
   ]
  },
  {
   "cell_type": "code",
   "execution_count": null,
   "metadata": {
    "code_folding": [
     0
    ]
   },
   "outputs": [],
   "source": [
    "## loops continued\n",
    "\n",
    "x = [\"pigs\",\"sheep\",\"wolves\"]\n",
    "\n",
    "idx=0\n",
    "for item in x:\n",
    "    print(\"{i}:{item}\".format(i=idx,item=item))\n",
    "    #print(idx,item)\n",
    "    idx=idx+1\n",
    "\n",
    "print(\"\\n\") ##new line character\n"
   ]
  },
  {
   "cell_type": "code",
   "execution_count": null,
   "metadata": {
    "code_folding": [
     0
    ]
   },
   "outputs": [],
   "source": [
    "## constructing lists in loops\n",
    "\n",
    "x = [\"pigs\",\"sheep\",\"wolves\"]\n",
    "y  = [] #this is how you create an empty list of an unspecified dimension that you can fill in later\n",
    "\n",
    "for item in x:\n",
    "    y.append(len(item))\n",
    "\n",
    "print(y)"
   ]
  },
  {
   "cell_type": "code",
   "execution_count": null,
   "metadata": {
    "code_folding": [
     0
    ]
   },
   "outputs": [],
   "source": [
    "## the range function\n",
    "\n",
    "for i in range(5):\n",
    "    print(i)"
   ]
  },
  {
   "cell_type": "code",
   "execution_count": null,
   "metadata": {
    "code_folding": [
     0
    ]
   },
   "outputs": [],
   "source": [
    "## we can nest loops too\n",
    "\n",
    "\"\"\"\n",
    "Note that the most inner level of the loop is indented twice\n",
    "\"\"\"\n",
    "\n",
    "y = []\n",
    "for i in range(4):\n",
    "    print(\"i={i}\".format(i = i))\n",
    "    for j in range(4): #indented one time \n",
    "        print(\"j={j}\".format(j = j))\n",
    "        y.append(i+j) #indented two times\n",
    "print(y)"
   ]
  },
  {
   "cell_type": "code",
   "execution_count": 3,
   "metadata": {
    "code_folding": [
     0
    ]
   },
   "outputs": [
    {
     "name": "stdout",
     "output_type": "stream",
     "text": [
      "method 1\n",
      "gene id 291910 : gene name FOXP2\n",
      "gene id 13004 : gene name APOE4\n",
      "gene id 23 : gene name CCL3L1\n",
      "\n",
      "method 2\n",
      "gene id 291910 : gene name FOXP2\n",
      "gene id 13004 : gene name APOE4\n",
      "gene id 23 : gene name CCL3L1\n"
     ]
    }
   ],
   "source": [
    "## looping over dictionaries\n",
    "\n",
    "gnames_by_id = {291910:\"FOXP2\", 13004:\"APOE4\", 23:\"CCL3L1\"}\n",
    "\n",
    "\n",
    "# method 1 \n",
    "print(\"method 1\")\n",
    "for k in gnames_by_id: # by default we will iterate over the dictionary keys\n",
    "    my_str = \"gene id {gid} : gene name {gname}\".format(gid=k,gname=gnames_by_id[k])\n",
    "    print(my_str)\n",
    "\n",
    "# method 2\n",
    "print(\"\\nmethod 2\")\n",
    "for k,v in gnames_by_id.items(): # the \"items\" keyword gives us key:value pairs\n",
    "    my_str = \"gene id {gid} : gene name {gname}\".format(gid=k,gname=v)\n",
    "    print(my_str)\n",
    "    \n",
    "\n",
    "\n"
   ]
  },
  {
   "cell_type": "code",
   "execution_count": null,
   "metadata": {
    "code_folding": [
     0
    ]
   },
   "outputs": [],
   "source": [
    "## while loops\n",
    "\n",
    "simple_list = []\n",
    "i = 0\n",
    "while len(simple_list) <10:\n",
    "    simple_list.append(i)\n",
    "    i+=1\n",
    "\n",
    "print(simple_list)"
   ]
  },
  {
   "cell_type": "markdown",
   "metadata": {},
   "source": [
    "## List comprehension and dictionary comprehension"
   ]
  },
  {
   "cell_type": "code",
   "execution_count": null,
   "metadata": {
    "code_folding": [
     0
    ]
   },
   "outputs": [],
   "source": [
    "## list comprehension\n",
    "\n",
    "x = [1,2,3]\n",
    "y = [i+1 for i in x]\n",
    "\n",
    "print(y)\n",
    "\n",
    "animals = [\"pigs\",\"sheep\",\"wolves\"]\n",
    "animal_lengths = [len(animal) for animal in animals] #instead of using the for loop example way above\n",
    "\n",
    "print(animal_lengths)\n"
   ]
  },
  {
   "cell_type": "code",
   "execution_count": null,
   "metadata": {
    "code_folding": [
     0
    ]
   },
   "outputs": [],
   "source": [
    "## dictionary comprehension\n",
    "\n",
    "animals = [\"pigs\", \"sheep\", \"wolves\"]\n",
    "\n",
    "animal_to_len = {a: len(a) for a in animals} #notice the curly brackets vs the square brackets\n",
    "print(animal_to_len)"
   ]
  },
  {
   "cell_type": "code",
   "execution_count": null,
   "metadata": {
    "code_folding": [
     0
    ]
   },
   "outputs": [],
   "source": [
    "## advanced comprehension\n",
    "\n",
    "nums = [0, 1, 2, 3, 4]\n",
    "num_to_square = {x: x ** 2 for x in nums }\n",
    "print(num_to_square)\n",
    "\n",
    "even_num_to_square = {x: x ** 2 for x in nums if x % 2 == 0}\n",
    "print(even_num_to_square)\n",
    "\n"
   ]
  },
  {
   "cell_type": "markdown",
   "metadata": {},
   "source": [
    "## If statements"
   ]
  },
  {
   "cell_type": "code",
   "execution_count": null,
   "metadata": {
    "code_folding": [
     0
    ]
   },
   "outputs": [],
   "source": [
    "## if Statements\n",
    "\n",
    "#only add even  numbers to our list\n",
    "\n",
    "y = []\n",
    "for i in range(8):\n",
    "    if (i % 2  == 0): #modulo operator\n",
    "        y.append(i) # the code to be executed if the condition is met is indented\n",
    "\n",
    "print(y)\n",
    "\n"
   ]
  },
  {
   "cell_type": "code",
   "execution_count": null,
   "metadata": {
    "code_folding": [
     0
    ]
   },
   "outputs": [],
   "source": [
    "## else if\n",
    "\n",
    "remainder_0  = []\n",
    "remainder_1  = []\n",
    "remainder_2  = []\n",
    "\n",
    "for i in range(9):\n",
    "    if (i % 3  == 0):\n",
    "        remainder_0.append(i)\n",
    "    elif (i % 3 == 1):\n",
    "        remainder_1.append(i)\n",
    "    else:\n",
    "        remainder_2.append(i)\n",
    "\n",
    "print(remainder_0)\n",
    "print(remainder_1)\n",
    "print(remainder_2)\n",
    "\n"
   ]
  },
  {
   "cell_type": "markdown",
   "metadata": {},
   "source": [
    "## Functions"
   ]
  },
  {
   "cell_type": "code",
   "execution_count": null,
   "metadata": {
    "code_folding": [
     0
    ]
   },
   "outputs": [],
   "source": [
    "## built in functions\n",
    "\"\"\"\n",
    "A list of included packages: https://docs.python.org/3/library/\n",
    "# Useful one: https://docs.python.org/3/library/math.html\n",
    "\n",
    "some of the functions included in this library include:\n",
    "    ceil(x)\n",
    "    floor(x)\n",
    "    fabs(x)\n",
    "    factorial(k)\n",
    "    etc...\n",
    "\"\"\"\n",
    "\n",
    "import math\n",
    "\n",
    "print(math.floor(12.4))\n",
    "print(math.ceil(12.4))\n",
    "print(math.fabs(-12.4)) #stands for float absolute\n",
    "print(math.factorial(4)) #4*3*2*1\n",
    "\n",
    "## abs vs fabs\n",
    "print(abs(-12.4), type(abs(-12.4)))\n",
    "print(math.fabs(-12.4), type(math.fabs(-12.4)))\n",
    "print(abs(12), type(abs(12)))\n",
    "print(math.fabs(12), type(math.fabs(12))) #fabs will convert an integer into a float"
   ]
  },
  {
   "cell_type": "code",
   "execution_count": null,
   "metadata": {
    "code_folding": [
     0
    ]
   },
   "outputs": [],
   "source": [
    "## importing functions \n",
    "\n",
    "import math as m\n",
    "print(m.floor(12.4))"
   ]
  },
  {
   "cell_type": "code",
   "execution_count": null,
   "metadata": {
    "code_folding": [
     0
    ]
   },
   "outputs": [],
   "source": [
    "## writing our own functions\n",
    "\n",
    "\"\"\"\n",
    "def function_name(parameter1, parameter2, ...):\n",
    "    function code\n",
    "    return value\n",
    "\"\"\"\n",
    "\n",
    "def test():\n",
    "    print(\"Hi\")\n",
    "    \n",
    "print(test()) #what's the output of the function without a return statement?\n",
    "\n",
    "def square(x):\n",
    "    return x**2 ##if you don't use return, the code will still run, python will still do the math, but no output\n",
    "\n",
    "print(square(3))\n"
   ]
  },
  {
   "cell_type": "code",
   "execution_count": null,
   "metadata": {
    "code_folding": [
     0
    ]
   },
   "outputs": [],
   "source": [
    "## nested functions\n",
    "\n",
    "def square(x):\n",
    "    return x**2\n",
    "\n",
    "def sum_of_squares(x1, x2):\n",
    "    return square(x1)+square(x2)\n",
    "\n",
    "print(sum_of_squares(2,3))"
   ]
  },
  {
   "cell_type": "code",
   "execution_count": null,
   "metadata": {
    "code_folding": [
     0
    ]
   },
   "outputs": [],
   "source": [
    "## nested functions + list comprehension\n",
    "\n",
    "\"\"\"\n",
    "a more complex set of functions to compute sum of powers\n",
    "\"\"\"\n",
    "\n",
    "def power(x, exponent):\n",
    "    return x**exponent\n",
    "\n",
    "\"\"\"\n",
    "this function takes in a list of values to exponentiate and sum\n",
    "\"\"\"\n",
    "\n",
    "def sum_of_powers(values, exponent):    \n",
    "    powers = [power(val,exponent) for val in values] ##list comprehension!!!\n",
    "    return sum(powers)\n",
    "\n",
    "print(sum_of_powers([1,2,3], 3)) #1^3+2^3+3^3 = 1+8+27\n"
   ]
  },
  {
   "cell_type": "code",
   "execution_count": 1,
   "metadata": {
    "code_folding": [
     0
    ]
   },
   "outputs": [
    {
     "name": "stdout",
     "output_type": "stream",
     "text": [
      "-1 is negative\n",
      "0 is zero\n",
      "1 is positive\n"
     ]
    }
   ],
   "source": [
    "## another function example, using 'if' statements\n",
    "\n",
    "def get_sign(x):\n",
    "    if x > 0:\n",
    "        return 'positive'\n",
    "    elif x < 0:\n",
    "        return 'negative'\n",
    "    else:\n",
    "        return 'zero'\n",
    "\n",
    "for x in [-1, 0, 1]:\n",
    "    print(x, \"is\", get_sign(x))"
   ]
  },
  {
   "cell_type": "code",
   "execution_count": 2,
   "metadata": {
    "code_folding": [
     0
    ]
   },
   "outputs": [
    {
     "name": "stdout",
     "output_type": "stream",
     "text": [
      "calling our function with default parameters\n",
      "1\n",
      "2\n",
      "3\n",
      "3\n",
      "3\n",
      "overriding the defaults\n",
      "1\n",
      "2\n",
      "3\n"
     ]
    },
    {
     "data": {
      "text/plain": [
       "6.0"
      ]
     },
     "execution_count": 2,
     "metadata": {},
     "output_type": "execute_result"
    }
   ],
   "source": [
    "## overriding function defaults\n",
    "\n",
    "def split_string_sum(string, delim=\",\"):\n",
    "    s = 0\n",
    "    for val in string.split(delim):\n",
    "        print(val)\n",
    "        s=s+float(val) # note that we have to cast val to a number, because it's a string\n",
    "    return(s)\n",
    "\n",
    "\n",
    "print(\"calling our function with default parameters\")\n",
    "my_string = \"1,2,3,3,3\"\n",
    "split_string_sum(my_string)\n",
    "\n",
    "print(\"overriding the defaults\")\n",
    "my_string = \"1;2;3\"\n",
    "split_string_sum(my_string, delim=\";\")\n",
    "\n",
    "\n"
   ]
  },
  {
   "cell_type": "code",
   "execution_count": 16,
   "metadata": {},
   "outputs": [
    {
     "name": "stdout",
     "output_type": "stream",
     "text": [
      "['The Invisible Man', '91']\n",
      "[' Onward', '87']\n",
      "[' Star Wars: The Rise of Skywalker', '52']\n"
     ]
    },
    {
     "data": {
      "text/plain": [
       "76.66666666666667"
      ]
     },
     "execution_count": 16,
     "metadata": {},
     "output_type": "execute_result"
    }
   ],
   "source": [
    "## PRACTICE PROBLEMS - breakout rooms\n",
    "\n",
    "\"\"\"\n",
    "consider the review problem with movie critic scores from above.\n",
    "\n",
    "my_string = \"The Invisible Man, Critics Score 91; Onward, Critics Score 87; Star Wars: The Rise of Skywalker, Critics Score 52;\"\n",
    "\n",
    "Write a function to parse this line and create a dictionary of\n",
    "movie scores based on their names. \n",
    "\n",
    "Write a function that takes in this dictionary and finds the mean \n",
    "movie score\n",
    "\n",
    "\n",
    "\"\"\"\n",
    "def dict(string):\n",
    "    info = string.replace(' Critics Score ','').rstrip(';').split(';')\n",
    "    #print(info)\n",
    "    dict = {}\n",
    "    for movie in info:\n",
    "        split = movie.split(',')\n",
    "        print(split)\n",
    "        dict[split[0]] = split[1]\n",
    "    return dict\n",
    "def mean_score(dict):\n",
    "    mean = 0\n",
    "    for i in dict.values():\n",
    "        mean = mean + int(i)\n",
    "    mean = mean/(len(dict.values()))\n",
    "    return mean\n",
    "    \n",
    "dict1 = dict(\"The Invisible Man, Critics Score 91; Onward, Critics Score 87; Star Wars: The Rise of Skywalker, Critics Score 52;\")\n",
    "mean_score(dict1)"
   ]
  },
  {
   "cell_type": "code",
   "execution_count": null,
   "metadata": {},
   "outputs": [],
   "source": [
    "my_string = \"The Invisible Man, Critics Score 91; Onward, Critics Score 87; Star Wars: The Rise of Skywalker, Critics Score 52;\"\n",
    "parsedStr = my_string.replace(\"Critics Score \",\"\").rstrip(\";\").split(\"; \")\n",
    "print(parsedStr)\n",
    "pairs = [pair.split(',') for pair in parsedStr]\n",
    "print(pairs)"
   ]
  },
  {
   "cell_type": "code",
   "execution_count": null,
   "metadata": {},
   "outputs": [],
   "source": [
    "my_string = \"The Invisible Man, Critics Score 91; Onward, Critics Score 87; Star Wars: The Rise of Skywalker, Critics Score 52;\"\n",
    "\n",
    "def stringToDict2(string):\n",
    "    parsedStr = string.replace(\"Critics Score \",\"\").rstrip(\";\").split(\"; \")\n",
    "    print(parsedStr)\n",
    "    moviePairs = [pair.split(',') for pair in parsedStr]\n",
    "    print(moviePairs)\n",
    "    \n",
    "    movieScores = {pair[0] : pair [1] for pair in moviePairs}\n",
    "    print(movieScores)\n",
    "    return movieScores\n",
    "\n",
    "movieDict = stringToDict2(my_string)\n"
   ]
  },
  {
   "cell_type": "code",
   "execution_count": null,
   "metadata": {},
   "outputs": [],
   "source": [
    "def meanDict(dict):\n",
    "    scores = []\n",
    "    for movie in dict:\n",
    "        scores.append(float(dict[movie]))\n",
    "    meanScore = sum(scores)/len(scores)\n",
    "    return meanScore\n",
    "\n",
    "meanDict(movieDict)"
   ]
  },
  {
   "cell_type": "markdown",
   "metadata": {},
   "source": [
    "## Numerical Solutions to ODEs"
   ]
  },
  {
   "cell_type": "code",
   "execution_count": 4,
   "metadata": {},
   "outputs": [],
   "source": [
    "##using solve_ivp() -> stands for solve an Initial Value Problem (IVP)\n",
    "\n",
    "\"\"\"\n",
    "solve_ivp() can take several arguments (you can look into them on your own time on the documentation page \n",
    "for the function through a simple Google search, or using 'solve_ivp?'). \n",
    "For right now, we'll focus on the 3 main arguments, 'fun', 'tspan', 'y0'. The syntax for the function is:\n",
    "solve_ivp(fun, tspan, y0), where the syntax for 'fun' is:\n",
    "fun(t, y)\n",
    "\"\"\"\n",
    "\n",
    "import numpy as np\n",
    "import matplotlib.pyplot as plt\n",
    "from scipy.integrate import solve_ivp\n"
   ]
  },
  {
   "cell_type": "markdown",
   "metadata": {},
   "source": [
    "You may recall that exponential decay can be expressed as the differential equation $\\frac{dN}{dt}=-\\lambda N$."
   ]
  },
  {
   "cell_type": "markdown",
   "metadata": {},
   "source": [
    "The analytical solution to this is $N(t) = N_0e^{-\\lambda t}$. But let's pretend we don't know this solution and plot the numerical solution..."
   ]
  },
  {
   "cell_type": "code",
   "execution_count": 5,
   "metadata": {},
   "outputs": [
    {
     "name": "stdout",
     "output_type": "stream",
     "text": [
      "[ 0.          0.11487653  1.26364188  3.06061781  4.81611105  6.57445806\n",
      "  8.33328988 10.        ]\n",
      "[[2.         1.88836035 1.06327177 0.43319312 0.18017253 0.07483045\n",
      "  0.03107158 0.01350781]\n",
      " [4.         3.7767207  2.12654355 0.86638624 0.36034507 0.14966091\n",
      "  0.06214316 0.02701561]\n",
      " [8.         7.5534414  4.25308709 1.73277247 0.72069014 0.29932181\n",
      "  0.12428631 0.05403123]]\n"
     ]
    }
   ],
   "source": [
    "# the 'fun' in solve_ivp(fun, tspan, y0)\n",
    "\n",
    "def exponential_decay(t, N):\n",
    "    dNdt = -l * N\n",
    "    return dNdt\n",
    "\n",
    "l = 0.5 # defining the constant 'lambda'\n",
    "tspan = [0,10] # the 'tspan' in solve_ivp(fun, tspan, y0)\n",
    "y0 = [2, 4, 8] # the 'y0' in solve_ivp(fun, tspan, y0)\n",
    "\n",
    "sol = solve_ivp(exponential_decay, tspan, y0) ##here I'm defining a vector of initial values\n",
    "print(sol.t)\n",
    "print(sol.y) ##returns a list of lists - pay attention to how you index this when plotting\n"
   ]
  },
  {
   "cell_type": "code",
   "execution_count": 6,
   "metadata": {},
   "outputs": [
    {
     "data": {
      "text/plain": [
       "[<matplotlib.lines.Line2D at 0x7f22606abca0>]"
      ]
     },
     "execution_count": 6,
     "metadata": {},
     "output_type": "execute_result"
    },
    {
     "data": {
      "image/png": "[encoded data removed]",
      "text/plain": [
       "<Figure size 432x288 with 1 Axes>"
      ]
     },
     "metadata": {
      "needs_background": "light"
     },
     "output_type": "display_data"
    }
   ],
   "source": [
    "plt.plot(sol.t, sol.y[0], 'r')"
   ]
  },
  {
   "cell_type": "code",
   "execution_count": 7,
   "metadata": {},
   "outputs": [
    {
     "data": {
      "text/plain": [
       "[<matplotlib.lines.Line2D at 0x7f2258539c70>]"
      ]
     },
     "execution_count": 7,
     "metadata": {},
     "output_type": "execute_result"
    },
    {
     "data": {
      "image/png": "[encoded data removed]",
      "text/plain": [
       "<Figure size 432x288 with 1 Axes>"
      ]
     },
     "metadata": {
      "needs_background": "light"
     },
     "output_type": "display_data"
    }
   ],
   "source": [
    "plt.plot(sol.t, sol.y[1], 'g')"
   ]
  },
  {
   "cell_type": "code",
   "execution_count": null,
   "metadata": {},
   "outputs": [],
   "source": [
    "plt.plot(sol.t, sol.y[2], 'b')"
   ]
  },
  {
   "cell_type": "code",
   "execution_count": null,
   "metadata": {},
   "outputs": [],
   "source": [
    "plt.plot(sol.t, sol.y[0], 'r', sol.t, sol.y[1], 'g', sol.t, sol.y[2], 'b')\n",
    "plt.xlabel(\"t\")\n",
    "plt.ylabel(\"N\",)\n",
    "plt.legend([\"N0=2\", \"N0=4\", \"N0=8\"])\n",
    "plt.show()"
   ]
  },
  {
   "cell_type": "code",
   "execution_count": null,
   "metadata": {},
   "outputs": [],
   "source": [
    "##changing t_eval\n",
    "##if we want to look at specific times, we can add the keyword argument t_eval\n",
    "sol = solve_ivp(exponential_decay, tspan, y0, t_eval=np.linspace(0,10,500)) \n",
    "\n",
    "plt.plot(sol.t, sol.y[0], sol.t, sol.y[1], sol.t, sol.y[2])\n",
    "plt.xlabel(\"t\")\n",
    "plt.ylabel(\"N\", rotation = \"horizontal\")\n",
    "plt.legend([\"N0=2\", \"N0=4\", \"N0=8\"])\n",
    "plt.show()"
   ]
  },
  {
   "cell_type": "code",
   "execution_count": null,
   "metadata": {},
   "outputs": [],
   "source": [
    "solve_ivp?"
   ]
  },
  {
   "cell_type": "code",
   "execution_count": null,
   "metadata": {},
   "outputs": [],
   "source": [
    "plt?"
   ]
  },
  {
   "cell_type": "markdown",
   "metadata": {},
   "source": [
    "## Extra - File i/o"
   ]
  },
  {
   "cell_type": "code",
   "execution_count": 1,
   "metadata": {
    "code_folding": [
     0
    ]
   },
   "outputs": [
    {
     "ename": "FileNotFoundError",
     "evalue": "[Errno 2] No such file or directory: 'inputs/example_file_1.txt'",
     "output_type": "error",
     "traceback": [
      "\u001b[0;31m---------------------------------------------------------------------------\u001b[0m",
      "\u001b[0;31mFileNotFoundError\u001b[0m                         Traceback (most recent call last)",
      "Input \u001b[0;32mIn [1]\u001b[0m, in \u001b[0;36m<module>\u001b[0;34m\u001b[0m\n\u001b[1;32m      3\u001b[0m \u001b[38;5;124;03m\"\"\"\u001b[39;00m\n\u001b[1;32m      4\u001b[0m \u001b[38;5;124;03mIt is often useful to take input from a file\u001b[39;00m\n\u001b[1;32m      5\u001b[0m \n\u001b[0;32m   (...)\u001b[0m\n\u001b[1;32m     20\u001b[0m \u001b[38;5;124;03minto a \u001b[39;00m\n\u001b[1;32m     21\u001b[0m \u001b[38;5;124;03m\"\"\"\u001b[39;00m\n\u001b[1;32m     23\u001b[0m \u001b[38;5;66;03m#reading a file in - example_file.txt is in the same directory as this notebook\u001b[39;00m\n\u001b[0;32m---> 24\u001b[0m \u001b[38;5;28;01mwith\u001b[39;00m \u001b[38;5;28;43mopen\u001b[39;49m\u001b[43m(\u001b[49m\u001b[38;5;124;43m\"\u001b[39;49m\u001b[38;5;124;43minputs/example_file_1.txt\u001b[39;49m\u001b[38;5;124;43m\"\u001b[39;49m\u001b[43m)\u001b[49m \u001b[38;5;28;01mas\u001b[39;00m f:\n\u001b[1;32m     25\u001b[0m     read_data \u001b[38;5;241m=\u001b[39m f\u001b[38;5;241m.\u001b[39mread()\n\u001b[1;32m     27\u001b[0m \u001b[38;5;28mprint\u001b[39m(read_data)\n",
      "\u001b[0;31mFileNotFoundError\u001b[0m: [Errno 2] No such file or directory: 'inputs/example_file_1.txt'"
     ]
    }
   ],
   "source": [
    "## File I/O\n",
    "\n",
    "\"\"\"\n",
    "It is often useful to take input from a file\n",
    "\n",
    "the \"open\" function returns a filehandle that \n",
    "can  be used to read / write to a file\n",
    "\n",
    "reading functions:\n",
    "    read() #read whole file\n",
    "    readline() # read one line of a file\n",
    "\n",
    "writing functions:\n",
    "    write() #write to a file\n",
    "    \n",
    "more details can be found here: https://docs.python.org/3/tutorial/inputoutput.html\n",
    "\n",
    "it is good practice to open files using a \"with\" statement, \n",
    "what this does is wrap everything inside the with statement \n",
    "into a \n",
    "\"\"\"\n",
    "\n",
    "#reading a file in - example_file.txt is in the same directory as this notebook\n",
    "with open(\"inputs/example_file_1.txt\") as f:\n",
    "    read_data = f.read()\n",
    "    \n",
    "print(read_data)"
   ]
  },
  {
   "cell_type": "code",
   "execution_count": null,
   "metadata": {
    "code_folding": [
     0
    ],
    "scrolled": true
   },
   "outputs": [],
   "source": [
    "## File I/O continued\n",
    "\n",
    "\"\"\"\n",
    "reading a file in line by line\n",
    "\"\"\"\n",
    "\n",
    "#reading a file in - example_file.txt is in the same directory as this notebook\n",
    "with open(\"inputs/example_file_1.txt\") as f:\n",
    "    for line in f:\n",
    "        print(line)"
   ]
  },
  {
   "cell_type": "code",
   "execution_count": null,
   "metadata": {
    "code_folding": [
     0
    ],
    "scrolled": true
   },
   "outputs": [],
   "source": [
    "## File I/O continued\n",
    "\"\"\"\n",
    "Advanced File I/O\n",
    "reading a file in line by line and constructing \n",
    "a list of dictionaries for all of the information\n",
    "\"\"\"\n",
    "\n",
    "#reading a file in - example_file.txt is in the same directory as this notebook\n",
    "\n",
    "file_info = []\n",
    "with open(\"inputs/example_file_1.txt\") as f:\n",
    "    header = f.readline()\n",
    "    columns = header.rstrip().split(\",\")\n",
    "    for line in f:\n",
    "        split_line = line.rstrip().split(\",\")\n",
    "        row_dict = {columns[i]: float(col) for i, col in enumerate(split_line)} \n",
    "        file_info.append(row_dict)\n",
    "\n",
    "dprint(file_info)\n",
    "    "
   ]
  },
  {
   "cell_type": "markdown",
   "metadata": {},
   "source": [
    "## Assignment"
   ]
  },
  {
   "cell_type": "code",
   "execution_count": 2,
   "metadata": {},
   "outputs": [],
   "source": [
    "import pandas as pd\n",
    "import matplotlib.pyplot as plt\n",
    "import numpy as np\n",
    "from scipy.integrate import solve_ivp"
   ]
  },
  {
   "cell_type": "markdown",
   "metadata": {},
   "source": [
    "#### Submission: Once done editing the notebook to answer the questions on the assignment sheet, download this notebook onto your local computer with the 'Notebook (.ipynb)' file format. Upload this file to bCourses.\n",
    "!! Pay attention to comments !!"
   ]
  },
  {
   "cell_type": "markdown",
   "metadata": {},
   "source": [
    "In this assignment, you will model the logistic growth of yeast. Below is data from an experiment in which brewer's yeast (S. cerevisiae) was grown over a 47 hour period. The population of yeast for this study was measured as a volume."
   ]
  },
  {
   "cell_type": "code",
   "execution_count": 3,
   "metadata": {},
   "outputs": [
    {
     "data": {
      "text/html": [
       "<div>\n",
       "<style scoped>\n",
       "    .dataframe tbody tr th:only-of-type {\n",
       "        vertical-align: middle;\n",
       "    }\n",
       "\n",
       "    .dataframe tbody tr th {\n",
       "        vertical-align: top;\n",
       "    }\n",
       "\n",
       "    .dataframe thead th {\n",
       "        text-align: right;\n",
       "    }\n",
       "</style>\n",
       "<table border=\"1\" class=\"dataframe\">\n",
       "  <thead>\n",
       "    <tr style=\"text-align: right;\">\n",
       "      <th></th>\n",
       "      <th>Time</th>\n",
       "      <th>Population</th>\n",
       "    </tr>\n",
       "  </thead>\n",
       "  <tbody>\n",
       "    <tr>\n",
       "      <th>0</th>\n",
       "      <td>0.0</td>\n",
       "      <td>0.37</td>\n",
       "    </tr>\n",
       "    <tr>\n",
       "      <th>1</th>\n",
       "      <td>1.5</td>\n",
       "      <td>1.63</td>\n",
       "    </tr>\n",
       "    <tr>\n",
       "      <th>2</th>\n",
       "      <td>9.0</td>\n",
       "      <td>6.20</td>\n",
       "    </tr>\n",
       "    <tr>\n",
       "      <th>3</th>\n",
       "      <td>10.0</td>\n",
       "      <td>8.87</td>\n",
       "    </tr>\n",
       "    <tr>\n",
       "      <th>4</th>\n",
       "      <td>18.0</td>\n",
       "      <td>10.66</td>\n",
       "    </tr>\n",
       "    <tr>\n",
       "      <th>5</th>\n",
       "      <td>23.0</td>\n",
       "      <td>12.50</td>\n",
       "    </tr>\n",
       "    <tr>\n",
       "      <th>6</th>\n",
       "      <td>25.5</td>\n",
       "      <td>12.60</td>\n",
       "    </tr>\n",
       "    <tr>\n",
       "      <th>7</th>\n",
       "      <td>27.0</td>\n",
       "      <td>12.90</td>\n",
       "    </tr>\n",
       "    <tr>\n",
       "      <th>8</th>\n",
       "      <td>34.0</td>\n",
       "      <td>13.27</td>\n",
       "    </tr>\n",
       "    <tr>\n",
       "      <th>9</th>\n",
       "      <td>38.0</td>\n",
       "      <td>12.77</td>\n",
       "    </tr>\n",
       "    <tr>\n",
       "      <th>10</th>\n",
       "      <td>42.0</td>\n",
       "      <td>12.87</td>\n",
       "    </tr>\n",
       "    <tr>\n",
       "      <th>11</th>\n",
       "      <td>45.5</td>\n",
       "      <td>12.90</td>\n",
       "    </tr>\n",
       "    <tr>\n",
       "      <th>12</th>\n",
       "      <td>47.0</td>\n",
       "      <td>12.70</td>\n",
       "    </tr>\n",
       "  </tbody>\n",
       "</table>\n",
       "</div>"
      ],
      "text/plain": [
       "    Time  Population\n",
       "0    0.0        0.37\n",
       "1    1.5        1.63\n",
       "2    9.0        6.20\n",
       "3   10.0        8.87\n",
       "4   18.0       10.66\n",
       "5   23.0       12.50\n",
       "6   25.5       12.60\n",
       "7   27.0       12.90\n",
       "8   34.0       13.27\n",
       "9   38.0       12.77\n",
       "10  42.0       12.87\n",
       "11  45.5       12.90\n",
       "12  47.0       12.70"
      ]
     },
     "execution_count": 3,
     "metadata": {},
     "output_type": "execute_result"
    }
   ],
   "source": [
    "# import yeast data\n",
    "\n",
    "df = pd.read_csv(\"inputs/lab_02_data.txt\", sep=\",\") # creating a data frame based on the text file input\n",
    "df"
   ]
  },
  {
   "cell_type": "markdown",
   "metadata": {},
   "source": [
    "You may recall that the general equation for logistic growth (in discrete time) is:\n",
    "<br>\n",
    "<br> $N(t+1) = N(t) + rN(t)\\big(1-\\frac{N(t)}{K}\\big)$ (1)\n",
    "<br>\n",
    "<br> This can also be written as: \n",
    "<br>\n",
    "<br> $\\frac{dN}{dt} = rN(t)\\big(1-\\frac{N(t)}{K}\\big)$ (2)"
   ]
  },
  {
   "cell_type": "markdown",
   "metadata": {},
   "source": [
    "### Part 1\n",
    "Plot the yeast data given in the table."
   ]
  },
  {
   "cell_type": "code",
   "execution_count": 9,
   "metadata": {},
   "outputs": [
    {
     "data": {
      "text/plain": [
       "Text(0, 0.5, 'N')"
      ]
     },
     "execution_count": 9,
     "metadata": {},
     "output_type": "execute_result"
    },
    {
     "data": {
      "image/png": "[encoded data removed]",
      "text/plain": [
       "<Figure size 432x288 with 1 Axes>"
      ]
     },
     "metadata": {
      "needs_background": "light"
     },
     "output_type": "display_data"
    }
   ],
   "source": [
    "# plot the yeast data below using the 'plt.plot' function, shown in lab - figure out how to index the dataframe above, \n",
    "# using the column names, to pass as the x, y arguments to the function\n",
    "\n",
    "Time = df['Time']\n",
    "population = df['Population']\n",
    "plt.plot(Time, population, 'orange')\n",
    "plt.xlabel(\"t\")\n",
    "plt.ylabel(\"N\",)"
   ]
  },
  {
   "cell_type": "markdown",
   "metadata": {},
   "source": [
    "### Part 2\n",
    "What is the approximate carrying capacity of yeast? (Eyeball it)"
   ]
  },
  {
   "cell_type": "code",
   "execution_count": null,
   "metadata": {},
   "outputs": [],
   "source": [
    "# enter your answer here #\n",
    "# It seems like 13"
   ]
  },
  {
   "cell_type": "markdown",
   "metadata": {},
   "source": [
    "### Part 3\n",
    "Write a function for the differential equation (2). Through trial and error, fit a logistic model of growth to the data presented in the table. To do this use the carrying capacity you approximated from part 2, the initial condition from the data and try the following reproductive factors (r = 1.5; r = 2.0; r = 0.4; r = 0.7). Which reproductive factor fits the data best?"
   ]
  },
  {
   "cell_type": "code",
   "execution_count": 10,
   "metadata": {},
   "outputs": [],
   "source": [
    "# parameters - !!! ENTER the missing carrying capacity, estimated from Part 2 !!!\n",
    "\n",
    "t_span = [0,50] # range - we use [0,50] to more accurately compare to the real data we have, which spans t=0:50\n",
    "y0 = [df[\"Population\"][0]] # initial condition \n",
    "K =  13# carrying capactiy - enter the carrying capacity you estimated in Part 2"
   ]
  },
  {
   "cell_type": "code",
   "execution_count": 11,
   "metadata": {},
   "outputs": [],
   "source": [
    "# write a function below for the differential equation \n",
    "def differential_equation(t,n):\n",
    "    dNdt = r*n*(1-n/K)\n",
    "    return dNdt"
   ]
  },
  {
   "cell_type": "code",
   "execution_count": 12,
   "metadata": {},
   "outputs": [
    {
     "data": {
      "text/plain": [
       "<matplotlib.legend.Legend at 0x7f1df82a9340>"
      ]
     },
     "execution_count": 12,
     "metadata": {},
     "output_type": "execute_result"
    },
    {
     "data": {
      "image/png": "[encoded data removed]",
      "text/plain": [
       "<Figure size 432x288 with 1 Axes>"
      ]
     },
     "metadata": {
      "needs_background": "light"
     },
     "output_type": "display_data"
    }
   ],
   "source": [
    "# solve using solve_ivp() for r = 1.5 below\n",
    "# plot the solution on the same plot with the graph of the data - include the legend\n",
    "\n",
    "r = 1.5 # reproductive factor\n",
    "sol_1 = solve_ivp(differential_equation, t_span, y0)\n",
    "plt.plot(sol_1.t, sol_1.y[0],'b',Time, population, 'orange')\n",
    "plt.xlabel(\"t\")\n",
    "plt.ylabel(\"N\",)\n",
    "plt.legend([\"r = 1.5\",'reality'])"
   ]
  },
  {
   "cell_type": "code",
   "execution_count": 13,
   "metadata": {},
   "outputs": [
    {
     "data": {
      "text/plain": [
       "Text(0, 0.5, 'N')"
      ]
     },
     "execution_count": 13,
     "metadata": {},
     "output_type": "execute_result"
    },
    {
     "data": {
      "image/png": "[encoded data removed]",
      "text/plain": [
       "<Figure size 432x288 with 1 Axes>"
      ]
     },
     "metadata": {
      "needs_background": "light"
     },
     "output_type": "display_data"
    }
   ],
   "source": [
    "# solve using solve_ivp() for r = 2 below\n",
    "# plot the solution on the same plot with the graph of the data - include the legend\n",
    "\n",
    "r = 2\n",
    "sol_2 = solve_ivp(differential_equation, t_span, y0)\n",
    "plt.plot(sol_2.t, sol_2.y[0],'y',Time, population, 'orange')\n",
    "plt.legend([\"r = 2\",'reality'])\n",
    "plt.xlabel(\"t\")\n",
    "plt.ylabel(\"N\",)"
   ]
  },
  {
   "cell_type": "code",
   "execution_count": 14,
   "metadata": {},
   "outputs": [
    {
     "data": {
      "text/plain": [
       "Text(0, 0.5, 'N')"
      ]
     },
     "execution_count": 14,
     "metadata": {},
     "output_type": "execute_result"
    },
    {
     "data": {
      "image/png": "[encoded data removed]",
      "text/plain": [
       "<Figure size 432x288 with 1 Axes>"
      ]
     },
     "metadata": {
      "needs_background": "light"
     },
     "output_type": "display_data"
    }
   ],
   "source": [
    "# solve using solve_ivp() for r = 0.4 below\n",
    "# plot the solution on the same plot with the graph of the data - include the legend\n",
    "\n",
    "r = 0.4\n",
    "sol_3 = solve_ivp(differential_equation, t_span, y0)\n",
    "plt.plot(sol_3.t, sol_3.y[0],'r',Time, population, 'orange')\n",
    "plt.legend([\"r = 0.4\",'reality'])\n",
    "plt.xlabel(\"t\")\n",
    "plt.ylabel(\"N\",)"
   ]
  },
  {
   "cell_type": "code",
   "execution_count": 15,
   "metadata": {},
   "outputs": [
    {
     "data": {
      "text/plain": [
       "Text(0, 0.5, 'N')"
      ]
     },
     "execution_count": 15,
     "metadata": {},
     "output_type": "execute_result"
    },
    {
     "data": {
      "image/png": "[encoded data removed]",
      "text/plain": [
       "<Figure size 432x288 with 1 Axes>"
      ]
     },
     "metadata": {
      "needs_background": "light"
     },
     "output_type": "display_data"
    }
   ],
   "source": [
    "# solve using solve_ivp() for r = 0.7 below\n",
    "# plot the solution on the same plot with the graph of the data - include the legend\n",
    "\n",
    "r = 0.7\n",
    "sol_4 = solve_ivp(differential_equation, t_span, y0)\n",
    "plt.plot(sol_4.t, sol_4.y[0],'pink',Time, population, 'orange')\n",
    "plt.legend([\"r = 0.7\",'reality'])\n",
    "plt.xlabel(\"t\")\n",
    "plt.ylabel(\"N\",)"
   ]
  },
  {
   "cell_type": "code",
   "execution_count": 16,
   "metadata": {},
   "outputs": [
    {
     "data": {
      "text/plain": [
       "Text(0, 0.5, 'N')"
      ]
     },
     "execution_count": 16,
     "metadata": {},
     "output_type": "execute_result"
    },
    {
     "data": {
      "image/png": "[encoded data removed]",
      "text/plain": [
       "<Figure size 432x288 with 1 Axes>"
      ]
     },
     "metadata": {
      "needs_background": "light"
     },
     "output_type": "display_data"
    }
   ],
   "source": [
    "# Which reproductive factor fits the data best?\n",
    "plt.plot(Time, population, 'orange',sol_1.t, sol_1.y[0],'b',sol_2.t, sol_2.y[0],'r',sol_3.t, sol_3.y[0],'y',sol_4.t, sol_4.y[0],'pink')\n",
    "plt.legend(['reality','r = 1.5', 'r = 2.0','r =0.4','r = 0.7' ])\n",
    "plt.xlabel(\"t\")\n",
    "plt.ylabel(\"N\")\n",
    "# we can see that 0.4(the yellow one) fits the data best"
   ]
  },
  {
   "cell_type": "markdown",
   "metadata": {},
   "source": [
    "### Part 4\n",
    "Suppose you have decided to go into the yeast selling business. Modify the logistic growth equation to include a constant daily harvest amount, denote this amount h."
   ]
  },
  {
   "cell_type": "code",
   "execution_count": 22,
   "metadata": {},
   "outputs": [],
   "source": [
    "# edit your logistic growth function below to account for the daily harvest - give the function a new name\n",
    "def harvest_equation(t,y):\n",
    "    dNdt = r*n*(1-n/K)-h # modified derivation equals the right side of equation 2 minus h \n",
    "    return dNdt"
   ]
  },
  {
   "cell_type": "markdown",
   "metadata": {},
   "source": [
    "### Part 5\n",
    "If you expand the harvest differential equation, it becomes a quadratic. Create a function to find the new equilibrium points for this harvest model. (Hint: You will have to use the quadratic equation, $N = \\frac{-b \\pm \\sqrt{b^2-4ac}}{2a}$ , to find the equilibrium points.) Have the function take in h, K, and r, as arguments, so that it can output a list of both equilibrium population values for any combination of the three parameters."
   ]
  },
  {
   "cell_type": "code",
   "execution_count": 4,
   "metadata": {},
   "outputs": [],
   "source": [
    "# write a function below for the quadratic solutions (equilibria) of the harvest model \n",
    "## use the function 'sqrt' within the math' package to take the square root - make sure to import the package below\n",
    "import math \n",
    "def find_new_equilibrium(h,K,r):\n",
    "    result = [] \n",
    "    if r**2 - (4*r*h)/K > 0:\n",
    "        first_sol = (r + math.sqrt(r**2 - (4*r*h)/K))/(2*r/K)\n",
    "        result.append(first_sol)\n",
    "        sec_sol = (r - math.sqrt(r**2 - (4*r*h)/K))/(2*r/K)\n",
    "        result.append(sec_sol)\n",
    "    else:\n",
    "        result = []\n",
    "    return result"
   ]
  },
  {
   "cell_type": "markdown",
   "metadata": {},
   "source": [
    "### Part 6\n",
    "Set h = 1. Starting at the carrying capacity you found in part 2. (i.e. set the initial population size to K) simulate 100 days of yeast growth. Make sure to plot your results to help visualize what is happening. What do equilibrium points in the harvest equation mean? Use your equation from part 5 to calculate the equilibrium points. Do any of the equilibria you notice in the graph match the equilibria you calculated? Is this a sustainable harvest amount?"
   ]
  },
  {
   "cell_type": "code",
   "execution_count": 17,
   "metadata": {},
   "outputs": [],
   "source": [
    "# parameters - !!! ENTER any missing values !!!\n",
    "\n",
    "t_span = [0,100] # range \n",
    "y0 = [13,] # initial condition \n",
    "r =  0.4# enter the reproductive factor you found to best fit the data\n",
    "K =  13# enter the carrying capacity corresponding to the initial condition above ^^\n",
    "h = 1 # harvest amount -  edit this for Part 8 if needed"
   ]
  },
  {
   "cell_type": "code",
   "execution_count": 18,
   "metadata": {},
   "outputs": [
    {
     "data": {
      "text/plain": [
       "[9.6224989991992, 3.3775010008008]"
      ]
     },
     "execution_count": 18,
     "metadata": {},
     "output_type": "execute_result"
    },
    {
     "data": {
      "image/png": "[encoded data removed]",
      "text/plain": [
       "<Figure size 432x288 with 1 Axes>"
      ]
     },
     "metadata": {
      "needs_background": "light"
     },
     "output_type": "display_data"
    }
   ],
   "source": [
    "# solve using solve_ivp() below, and then plot the solution\n",
    "def harvest_equation(t,n):\n",
    "    dNdt = r*n*(1-n/K)-h\n",
    "    return dNdt\n",
    "sol_harvest = solve_ivp(harvest_equation, t_span, y0)\n",
    "plt.plot(sol_harvest.t,sol_harvest.y[0],'r')\n",
    "plt.xlabel(\"t\")\n",
    "plt.ylabel(\"N\")\n",
    "find_new_equilibrium(1,13,0.4)"
   ]
  },
  {
   "cell_type": "code",
   "execution_count": 19,
   "metadata": {
    "scrolled": true
   },
   "outputs": [
    {
     "name": "stdout",
     "output_type": "stream",
     "text": [
      "calculating result = 9.62347372096918 and equilibria in the graph = 9.6224989991992\n",
      "the equilibria notice in the graph match the equilibria calculate using function from part 5\n",
      "This is a sustainable harvest amount\n"
     ]
    },
    {
     "data": {
      "image/png": "[encoded data removed]",
      "text/plain": [
       "<Figure size 432x288 with 1 Axes>"
      ]
     },
     "metadata": {
      "needs_background": "light"
     },
     "output_type": "display_data"
    }
   ],
   "source": [
    "# Do the equilibria you notice in the graph match the equilibria you calculate using your function from part 5? \n",
    "# Is this a sustainable harvest amount?\n",
    "print('calculating result = {i} and equilibria in the graph = {j}'.format(i = sol_harvest.y[0][-1], j = find_new_equilibrium(1,13,0.4)[0]))\n",
    "x_equilibrium = np.linspace(0,100,100)\n",
    "y_equilibrium = find_new_equilibrium(1,13,0.4)[0] + 0*x_equilibrium # calculating result\n",
    "plt.plot(sol_harvest.t,sol_harvest.y[0],'r',x_equilibrium,y_equilibrium,'y')\n",
    "plt.legend(['numerical','calculating'])\n",
    "plt.xlabel(\"t\")\n",
    "plt.ylabel(\"N\")\n",
    "print('the equilibria notice in the graph match the equilibria calculate using function from part 5')\n",
    "print('This is a sustainable harvest amount')"
   ]
  },
  {
   "cell_type": "markdown",
   "metadata": {},
   "source": [
    "### Extra - ungraded\n",
    "The following example is useful in better understanding how equations relate to their differentials (i.e. why do we care about differential equations?). Follow along to visually compare the plot of equation (1) to that of the solution of equation (2). "
   ]
  },
  {
   "cell_type": "code",
   "execution_count": 3,
   "metadata": {},
   "outputs": [
    {
     "name": "stdout",
     "output_type": "stream",
     "text": [
      "[ 0  1  2  3  4  5  6  7  8  9 10 11 12 13 14 15 16 17 18 19 20 21 22 23\n",
      " 24 25 26 27 28 29 30 31 32 33 34 35 36 37 38 39 40 41 42 43 44 45 46 47\n",
      " 48 49 50]\n"
     ]
    }
   ],
   "source": [
    "\"\"\"\n",
    "Below we'll be plotting a numerical approximation in discrete time\n",
    "\"\"\"\n",
    "\n",
    "# parameters - !!!ENTER the missing carrying capacity and reproductive factor\n",
    "\n",
    "start = 0 # start time\n",
    "stop = 50 # end time\n",
    "inc = 1 # steps to take between start and stop\n",
    "times = np.arange(start, stop+1, step=inc) # np.arange creates a sequence of numbers based on start, stop, and step\n",
    "print(times)\n",
    "\n",
    "r =  0.4# <--- reproductive factor - enter the reproductive factor you found to fit the best\n",
    "K = 13# <--- carrying capactiy - enter the carrying capacity you estimated in Part 2"
   ]
  },
  {
   "cell_type": "code",
   "execution_count": 4,
   "metadata": {},
   "outputs": [],
   "source": [
    "# logistic growth function\n",
    "## for this function, I'm using equation (1) in the assignment\n",
    "\n",
    "def myLogistic(times, r, K):\n",
    "    num=np.zeros(len(times)) # creates a vector of 0s that will be later replaced with actual values\n",
    "    num[0]=df[\"Population\"][0] # initial condition; taking it from the data frame \n",
    "    \n",
    "    for i in range(len(times)-1): # notice - what happens if you don't subtract 1 from the range? why? (no need to answer)\n",
    "        num[i+1] = num[i]+r*num[i]*(1-num[i]/K) # logistic growth expression from equation (1)\n",
    "    return num\n"
   ]
  },
  {
   "cell_type": "code",
   "execution_count": 5,
   "metadata": {},
   "outputs": [
    {
     "data": {
      "image/png": "[encoded data removed]",
      "text/plain": [
       "<Figure size 432x288 with 1 Axes>"
      ]
     },
     "metadata": {
      "needs_background": "light"
     },
     "output_type": "display_data"
    }
   ],
   "source": [
    "# plotting the numerical approximation\n",
    "\n",
    "num = myLogistic(times, r, K) # run the function\n",
    "\n",
    "plt.plot(df[\"Time\"],df[\"Population\"])\n",
    "plt.plot(times, num)\n",
    "plt.legend([\"Yeast Data\", \"Logistic Growth\"])\n",
    "plt.show()"
   ]
  },
  {
   "cell_type": "markdown",
   "metadata": {},
   "source": [
    "You'll notice that the two graphs (from the numerical approximation using (1), and the numerical solution of (2)) are very similar. This is to give you a better feel for how a differential equation, in this case $\\frac{dN}{dt} = rN(t)(1-\\frac{N(t)}{K})$, relates to the $change$ or $growth$ in the general equation, in this case $N(t+1) = N(t)+rN(t)(1-\\frac{N(t)}{K})$."
   ]
  }
 ],
 "metadata": {
  "kernelspec": {
   "display_name": "Python 3 (ipykernel)",
   "language": "python",
   "name": "python3"
  },
  "language_info": {
   "codemirror_mode": {
    "name": "ipython",
    "version": 3
   },
   "file_extension": ".py",
   "mimetype": "text/x-python",
   "name": "python",
   "nbconvert_exporter": "python",
   "pygments_lexer": "ipython3",
   "version": "3.9.10"
  }
 },
 "nbformat": 4,
 "nbformat_minor": 4
}
