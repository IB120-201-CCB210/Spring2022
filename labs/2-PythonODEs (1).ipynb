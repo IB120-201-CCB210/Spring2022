{
 "cells": [
  {
   "cell_type": "markdown",
   "metadata": {},
   "source": [
    "# Python Basics II\n",
    "## Review"
   ]
  },
  {
   "cell_type": "code",
   "execution_count": 1,
   "metadata": {
    "code_folding": [
     0
    ]
   },
   "outputs": [],
   "source": [
    "#####SECRET CODE#####\n",
    "\"\"\"\n",
    "In this block I am activating a new function to print out dictionaries \n",
    "in a pretty fashion - it's not part of the lesson\n",
    "\"\"\"\n",
    "import json\n",
    "\n",
    "def dprint(d):\n",
    "    print(json.dumps(d,\n",
    "                     sort_keys=True,\n",
    "                     indent=4))\n"
   ]
  },
  {
   "cell_type": "code",
   "execution_count": 4,
   "metadata": {
    "code_folding": [
     0
    ]
   },
   "outputs": [
    {
     "data": {
      "text/plain": [
       "[8, 7, 6, 6, 5, 4, 3, 2, 1]"
      ]
     },
     "execution_count": 4,
     "metadata": {},
     "output_type": "execute_result"
    }
   ],
   "source": [
    "## REVIEW\n",
    "\n",
    "\"\"\"\n",
    "What will the result of the below code snippet be?\n",
    "\"\"\"\n",
    "\n",
    "a=[1,2,3,4,5,6]\n",
    "b=[3,4,5,6,7,8]\n",
    "\n",
    "(a+b[3:])[::-1]\n",
    "#duplication of the 6s and in reverse order"
   ]
  },
  {
   "cell_type": "code",
   "execution_count": 3,
   "metadata": {
    "code_folding": [
     0
    ]
   },
   "outputs": [
    {
     "name": "stdout",
     "output_type": "stream",
     "text": [
      "['The Invisible Man,91', ' Onward,87', ' Star Wars: The Rise of Skywalker,52']\n"
     ]
    }
   ],
   "source": [
    "## REVIEW 2 How about this snippet\n",
    "\n",
    "my_string = \"The Invisible Man, Score 91; Onward, Score 87; Star Wars: The Rise of Skywalker, Score 52;,,,\"\n",
    "\n",
    "print(my_string.rstrip(\",\").replace(\" Score \",\"\").rstrip(\";\").split(\";\"))\n",
    "\n",
    "             "
   ]
  },
  {
   "cell_type": "code",
   "execution_count": null,
   "metadata": {},
   "outputs": [],
   "source": [
    "## What would happen if you tried splitting the string before the strips?\n",
    "\n",
    "#split breaks string into list, so the rest of the function won't be able to work since you're working on a list of strings \n"
   ]
  },
  {
   "cell_type": "markdown",
   "metadata": {},
   "source": [
    "## Loops"
   ]
  },
  {
   "cell_type": "code",
   "execution_count": 5,
   "metadata": {
    "code_folding": [
     0
    ]
   },
   "outputs": [
    {
     "name": "stdout",
     "output_type": "stream",
     "text": [
      "pigs\n",
      "sheep\n",
      "wolves\n"
     ]
    }
   ],
   "source": [
    "## loops\n",
    "\n",
    "x = [\"pigs\",\"sheep\",\"wolves\"]\n",
    "\n",
    "#syntax - for item in iterable object (lists, strings, etc.)\n",
    "for item in x:  # for each item in the list x\n",
    "    print(item) # indented code is run each time"
   ]
  },
  {
   "cell_type": "code",
   "execution_count": 6,
   "metadata": {
    "code_folding": [
     0
    ]
   },
   "outputs": [
    {
     "name": "stdout",
     "output_type": "stream",
     "text": [
      "[(0, 'pigs'), (1, 'sheep'), (2, 'wolves')]\n",
      "0:pigs\n",
      "1:sheep\n",
      "2:wolves\n"
     ]
    }
   ],
   "source": [
    "## loops continued\n",
    "\n",
    "x = [\"pigs\",\"sheep\",\"wolves\"]\n",
    "print(list(enumerate(x)))\n",
    "\n",
    "#syntax - for counter, value in enumerate(iterable_list)\n",
    "for idx, item in enumerate(x):  # ***for each item and its index \"idx, item\"*** specifying two objects\n",
    "    print(\"{i}:{item}\".format(i=idx,item=item)) # indented code is run each time\n",
    "    #print(idx,item)"
   ]
  },
  {
   "cell_type": "code",
   "execution_count": 8,
   "metadata": {
    "code_folding": [
     0
    ]
   },
   "outputs": [
    {
     "name": "stdout",
     "output_type": "stream",
     "text": [
      "0:pigs\n",
      "1:sheep\n",
      "2:wolves\n",
      "\n",
      "\n"
     ]
    }
   ],
   "source": [
    "## loops continued\n",
    "\n",
    "x = [\"pigs\",\"sheep\",\"wolves\"]\n",
    "\n",
    "idx=0\n",
    "for item in x: #setting up a counter, adding an extra counter\n",
    "    print(\"{i}:{item}\".format(i=idx,item=item))\n",
    "    #print(idx,item)\n",
    "    idx=idx+1 #for every implementation of the loop it will add 1\n",
    "\n",
    "print(\"\\n\") ##new line character\n",
    "\n",
    "#will stop the for loop once it reaches the end of this list"
   ]
  },
  {
   "cell_type": "code",
   "execution_count": 10,
   "metadata": {
    "code_folding": [
     0
    ]
   },
   "outputs": [
    {
     "name": "stdout",
     "output_type": "stream",
     "text": [
      "[4, 5, 6]\n"
     ]
    }
   ],
   "source": [
    "## constructing lists in loops\n",
    "\n",
    "x = [\"pigs\",\"sheep\",\"wolves\"]\n",
    "y  = [] #this is how you create an empty list of an unspecified dimension that you can fill in later\n",
    "\n",
    "for item in x:\n",
    "    y.append(len(item)) #new list with the lenght of each item in x\n",
    "\n",
    "print(y)"
   ]
  },
  {
   "cell_type": "code",
   "execution_count": 11,
   "metadata": {
    "code_folding": [
     0
    ]
   },
   "outputs": [
    {
     "name": "stdout",
     "output_type": "stream",
     "text": [
      "0\n",
      "1\n",
      "2\n",
      "3\n",
      "4\n"
     ]
    }
   ],
   "source": [
    "## the range function\n",
    "#if we don't have an explicit list to iterate over\n",
    "\n",
    "for i in range(5):\n",
    "    print(i)"
   ]
  },
  {
   "cell_type": "code",
   "execution_count": 12,
   "metadata": {
    "code_folding": [
     0
    ]
   },
   "outputs": [
    {
     "name": "stdout",
     "output_type": "stream",
     "text": [
      "i=0\n",
      "j=0\n",
      "j=1\n",
      "j=2\n",
      "j=3\n",
      "i=1\n",
      "j=0\n",
      "j=1\n",
      "j=2\n",
      "j=3\n",
      "i=2\n",
      "j=0\n",
      "j=1\n",
      "j=2\n",
      "j=3\n",
      "i=3\n",
      "j=0\n",
      "j=1\n",
      "j=2\n",
      "j=3\n",
      "[0, 1, 2, 3, 1, 2, 3, 4, 2, 3, 4, 5, 3, 4, 5, 6]\n"
     ]
    }
   ],
   "source": [
    "## we can nest loops too\n",
    "\n",
    "\"\"\"\n",
    "Note that the most inner level of the loop is indented twice\n",
    "\"\"\"\n",
    "\n",
    "y = []\n",
    "for i in range(4):\n",
    "    print(\"i={i}\".format(i = i))\n",
    "    for j in range(4): #indented one time \n",
    "        print(\"j={j}\".format(j = j))\n",
    "        y.append(i+j) #indented two times\n",
    "print(y)\n",
    "\n",
    "#first prints i, but then moves to print out j\n",
    "#nested for loop will fully complete the inner loop iteration before moving back out to complete the outer loop"
   ]
  },
  {
   "cell_type": "code",
   "execution_count": 13,
   "metadata": {
    "code_folding": [
     0
    ]
   },
   "outputs": [
    {
     "name": "stdout",
     "output_type": "stream",
     "text": [
      "method 1\n",
      "gene id 291910 : gene name FOXP2\n",
      "gene id 13004 : gene name APOE4\n",
      "gene id 23 : gene name CCL3L1\n",
      "\n",
      "method 2\n",
      "gene id 291910 : gene name FOXP2\n",
      "gene id 13004 : gene name APOE4\n",
      "gene id 23 : gene name CCL3L1\n"
     ]
    }
   ],
   "source": [
    "## looping over dictionaries\n",
    "\n",
    "gnames_by_id = {291910:\"FOXP2\", 13004:\"APOE4\", 23:\"CCL3L1\"}\n",
    "\n",
    "\n",
    "# method 1 \n",
    "print(\"method 1\") #create object k for our iterable dictionary\n",
    "for k in gnames_by_id: # by default we will iterate over the dictionary keys\n",
    "    my_str = \"gene id {gid} : gene name {gname}\".format(gid=k,gname=gnames_by_id[k]) #creating a string with placeholders\n",
    "    print(my_str)\n",
    "\n",
    "# method 2\n",
    "print(\"\\nmethod 2\") #similar to how we did the enumerate block\n",
    "for k,v in gnames_by_id.items(): # the \"items\" keyword gives us key:value pairs\n",
    "    my_str = \"gene id {gid} : gene name {gname}\".format(gid=k,gname=v)\n",
    "    print(my_str)\n",
    "#define two objects, then subset the dictionary by the item to give us key:value pairs\n",
    "\n",
    "\n"
   ]
  },
  {
   "cell_type": "code",
   "execution_count": 14,
   "metadata": {
    "code_folding": [
     0
    ]
   },
   "outputs": [
    {
     "name": "stdout",
     "output_type": "stream",
     "text": [
      "[0, 1, 2, 3, 4, 5, 6, 7, 8, 9]\n"
     ]
    }
   ],
   "source": [
    "## while loops\n",
    "\n",
    "#runs while a particular condition is met\n",
    "simple_list = []\n",
    "i = 0\n",
    "while len(simple_list) <10:\n",
    "    simple_list.append(i)\n",
    "    i+=1\n",
    "\n",
    "print(simple_list)"
   ]
  },
  {
   "cell_type": "markdown",
   "metadata": {},
   "source": [
    "## List comprehension and dictionary comprehension"
   ]
  },
  {
   "cell_type": "code",
   "execution_count": 18,
   "metadata": {
    "code_folding": [
     0
    ]
   },
   "outputs": [
    {
     "name": "stdout",
     "output_type": "stream",
     "text": [
      "[2, 3, 4]\n",
      "[4, 5, 6]\n"
     ]
    }
   ],
   "source": [
    "## list comprehension\n",
    "\n",
    "x = [1,2,3]\n",
    "y = [i+1 for i in x]\n",
    "\n",
    "print(y)\n",
    "\n",
    "animals = [\"pigs\",\"sheep\",\"wolves\"]\n",
    "animal_lengths = [len(animal) for animal in animals] #instead of using the for loop example way above\n",
    "\n",
    "print(animal_lengths)\n"
   ]
  },
  {
   "cell_type": "code",
   "execution_count": 19,
   "metadata": {
    "code_folding": [
     0
    ]
   },
   "outputs": [
    {
     "name": "stdout",
     "output_type": "stream",
     "text": [
      "{'pigs': 4, 'sheep': 5, 'wolves': 6}\n"
     ]
    }
   ],
   "source": [
    "## dictionary comprehension\n",
    "\n",
    "animals = [\"pigs\", \"sheep\", \"wolves\"]\n",
    "\n",
    "animal_to_len = {a: len(a) for a in animals} #notice the curly brackets vs the square brackets\n",
    "print(animal_to_len)"
   ]
  },
  {
   "cell_type": "code",
   "execution_count": 25,
   "metadata": {
    "code_folding": [
     0
    ]
   },
   "outputs": [
    {
     "name": "stdout",
     "output_type": "stream",
     "text": [
      "{0: 0, 1: 1, 2: 4, 3: 9, 4: 16}\n",
      "{0: 0, 2: 4, 4: 16}\n"
     ]
    }
   ],
   "source": [
    "## advanced comprehension\n",
    "\n",
    "nums = [0, 1, 2, 3, 4]\n",
    "num_to_square = {x: x ** 2 for x in nums }\n",
    "print(num_to_square)\n",
    "\n",
    "even_num_to_square = {x: x ** 2 for x in nums if x % 2 == 0}\n",
    "print(even_num_to_square)\n",
    "\n"
   ]
  },
  {
   "cell_type": "markdown",
   "metadata": {},
   "source": [
    "## If statements"
   ]
  },
  {
   "cell_type": "code",
   "execution_count": 26,
   "metadata": {
    "code_folding": [
     0
    ]
   },
   "outputs": [
    {
     "name": "stdout",
     "output_type": "stream",
     "text": [
      "[0, 2, 4, 6]\n"
     ]
    }
   ],
   "source": [
    "## if Statements\n",
    "\n",
    "#only add even  numbers to our list\n",
    "\n",
    "y = []\n",
    "for i in range(8):\n",
    "    if (i % 2  == 0): #modulo operator\n",
    "        y.append(i) # the code to be executed if the condition is met is indented\n",
    "\n",
    "print(y)\n",
    "\n"
   ]
  },
  {
   "cell_type": "code",
   "execution_count": 35,
   "metadata": {
    "code_folding": [
     0
    ]
   },
   "outputs": [
    {
     "name": "stdout",
     "output_type": "stream",
     "text": [
      "[0, 3, 6]\n",
      "[1, 4, 7]\n",
      "[2, 5, 8]\n"
     ]
    }
   ],
   "source": [
    "## else if\n",
    "\n",
    "remainder_0  = []\n",
    "remainder_1  = []\n",
    "remainder_2  = []\n",
    "\n",
    "for i in range(9):\n",
    "    if (i % 3  == 0):\n",
    "        remainder_0.append(i)\n",
    "    elif (i % 3 == 1):\n",
    "        remainder_1.append(i)\n",
    "    else:\n",
    "        remainder_2.append(i)\n",
    "\n",
    "print(remainder_0)\n",
    "print(remainder_1)\n",
    "print(remainder_2)\n",
    "\n"
   ]
  },
  {
   "cell_type": "markdown",
   "metadata": {},
   "source": [
    "## Functions"
   ]
  },
  {
   "cell_type": "code",
   "execution_count": 38,
   "metadata": {
    "code_folding": [
     0
    ]
   },
   "outputs": [
    {
     "name": "stdout",
     "output_type": "stream",
     "text": [
      "12\n",
      "13\n",
      "12.4\n",
      "24\n",
      "12.4 <class 'float'>\n",
      "12.4 <class 'float'>\n",
      "12 <class 'int'>\n",
      "12.0 <class 'float'>\n"
     ]
    }
   ],
   "source": [
    "## built in functions\n",
    "\"\"\"\n",
    "A list of included packages: https://docs.python.org/3/library/\n",
    "# Useful one: https://docs.python.org/3/library/math.html\n",
    "\n",
    "some of the functions included in this library include:\n",
    "    ceil(x)\n",
    "    floor(x)\n",
    "    fabs(x)\n",
    "    factorial(k)\n",
    "    etc...\n",
    "\"\"\"\n",
    "\n",
    "import math\n",
    "\n",
    "print(math.floor(12.4))\n",
    "print(math.ceil(12.4))\n",
    "print(math.fabs(-12.4)) #stands for float absolute\n",
    "print(math.factorial(4)) #4*3*2*1\n",
    "\n",
    "## abs vs fabs\n",
    "print(abs(-12.4), type(abs(-12.4)))\n",
    "print(math.fabs(-12.4), type(math.fabs(-12.4)))\n",
    "print(abs(12), type(abs(12)))\n",
    "print(math.fabs(12), type(math.fabs(12))) #fabs will convert an integer into a float"
   ]
  },
  {
   "cell_type": "code",
   "execution_count": 39,
   "metadata": {
    "code_folding": [
     0
    ]
   },
   "outputs": [
    {
     "name": "stdout",
     "output_type": "stream",
     "text": [
      "12\n"
     ]
    }
   ],
   "source": [
    "## importing functions \n",
    "\n",
    "import math as m\n",
    "print(m.floor(12.4))"
   ]
  },
  {
   "cell_type": "code",
   "execution_count": 50,
   "metadata": {
    "code_folding": [
     0
    ]
   },
   "outputs": [
    {
     "name": "stdout",
     "output_type": "stream",
     "text": [
      "Hi\n",
      "None\n",
      "9\n"
     ]
    }
   ],
   "source": [
    "## writing our own functions\n",
    "\n",
    "\"\"\"\n",
    "def function_name(parameter1, parameter2, ...):\n",
    "    function code\n",
    "    return value\n",
    "\"\"\"\n",
    "\n",
    "def test():\n",
    "    print(\"Hi\")\n",
    "    \n",
    "print(test()) #what's the output of the function without a return statement?\n",
    "\n",
    "def square(x):\n",
    "    return x**2 ##if you don't use return, the code will still run, python will still do the math, but no output\n",
    "\n",
    "print(square(3))\n"
   ]
  },
  {
   "cell_type": "code",
   "execution_count": 57,
   "metadata": {
    "code_folding": [
     0
    ]
   },
   "outputs": [
    {
     "name": "stdout",
     "output_type": "stream",
     "text": [
      "13\n"
     ]
    }
   ],
   "source": [
    "## nested functions\n",
    "\n",
    "def square(x):\n",
    "    return x**2\n",
    "\n",
    "def sum_of_squares(x1, x2):\n",
    "    return square(x1)+square(x2)\n",
    "\n",
    "print(sum_of_squares(2,3))"
   ]
  },
  {
   "cell_type": "code",
   "execution_count": 58,
   "metadata": {
    "code_folding": [
     0
    ]
   },
   "outputs": [
    {
     "name": "stdout",
     "output_type": "stream",
     "text": [
      "36\n"
     ]
    }
   ],
   "source": [
    "## nested functions + list comprehension\n",
    "\n",
    "\"\"\"\n",
    "a more complex set of functions to compute sum of powers\n",
    "\"\"\"\n",
    "\n",
    "def power(x, exponent):\n",
    "    return x**exponent\n",
    "\n",
    "\"\"\"\n",
    "this function takes in a list of values to exponentiate and sum\n",
    "\"\"\"\n",
    "\n",
    "def sum_of_powers(values, exponent):    \n",
    "    powers = [power(val,exponent) for val in values] ##list comprehension!!!\n",
    "    return sum(powers)\n",
    "\n",
    "print(sum_of_powers([1,2,3], 3)) #1^3+2^3+3^3 = 1+8+27\n"
   ]
  },
  {
   "cell_type": "code",
   "execution_count": 59,
   "metadata": {
    "code_folding": [
     0
    ]
   },
   "outputs": [
    {
     "name": "stdout",
     "output_type": "stream",
     "text": [
      "-1 is negative\n",
      "0 is zero\n",
      "1 is positive\n"
     ]
    }
   ],
   "source": [
    "## another function example, using 'if' statements\n",
    "\n",
    "def get_sign(x):\n",
    "    if x > 0:\n",
    "        return 'positive'\n",
    "    elif x < 0:\n",
    "        return 'negative'\n",
    "    else:\n",
    "        return 'zero'\n",
    "\n",
    "for x in [-1, 0, 1]:\n",
    "    print(x, \"is\", get_sign(x))"
   ]
  },
  {
   "cell_type": "code",
   "execution_count": 60,
   "metadata": {
    "code_folding": [
     0
    ]
   },
   "outputs": [
    {
     "name": "stdout",
     "output_type": "stream",
     "text": [
      "calling our function with default parameters\n",
      "1\n",
      "2\n",
      "3\n",
      "3\n",
      "3\n",
      "overriding the defaults\n",
      "1\n",
      "2\n",
      "3\n"
     ]
    },
    {
     "data": {
      "text/plain": [
       "6.0"
      ]
     },
     "execution_count": 60,
     "metadata": {},
     "output_type": "execute_result"
    }
   ],
   "source": [
    "## overriding function defaults\n",
    "\n",
    "def split_string_sum(string, delim=\",\"):\n",
    "    s = 0\n",
    "    for val in string.split(delim):\n",
    "        print(val)\n",
    "        s=s+float(val) # note that we have to cast val to a number, because it's a string\n",
    "    return(s)\n",
    "\n",
    "\n",
    "print(\"calling our function with default parameters\")\n",
    "my_string = \"1,2,3,3,3\"\n",
    "split_string_sum(my_string)\n",
    "\n",
    "print(\"overriding the defaults\")\n",
    "my_string = \"1;2;3\"\n",
    "split_string_sum(my_string, delim=\";\")\n",
    "\n",
    "\n"
   ]
  },
  {
   "cell_type": "code",
   "execution_count": 63,
   "metadata": {},
   "outputs": [
    {
     "name": "stdout",
     "output_type": "stream",
     "text": [
      "['The Invisible Man, 91', 'Onward, 87', 'Star Wars: The Rise of Skywalker, 52']\n",
      "[['The Invisible Man', ' 91'], ['Onward', ' 87'], ['Star Wars: The Rise of Skywalker', ' 52']]\n",
      "{'The Invisible Man': ' 91', 'Onward': ' 87', 'Star Wars: The Rise of Skywalker': ' 52'}\n"
     ]
    },
    {
     "data": {
      "text/plain": [
       "76.66666666666667"
      ]
     },
     "execution_count": 63,
     "metadata": {},
     "output_type": "execute_result"
    }
   ],
   "source": [
    "## PRACTICE PROBLEMS - breakout rooms\n",
    "\n",
    "\"\"\"\n",
    "consider the review problem with movie critic scores from above.\n",
    "\n",
    "my_string = \"The Invisible Man, Critics Score 91; Onward, Critics Score 87; Star Wars: The Rise of Skywalker, Critics Score 52;\"\n",
    "\n",
    "Write a function to parse this line and create a dictionary of\n",
    "movie scores based on their names. \n",
    "\n",
    "Write a function that takes in this dictionary and finds the mean \n",
    "movie score\n",
    "\n",
    "\n",
    "\"\"\"\n",
    "\n",
    "#first parse then create a dictionary\n",
    "\n",
    "my_string = \"The Invisible Man, Critics Score 91; Onward, Critics Score 87; Star Wars: The Rise of Skywalker, Critics Score 52;\"\n",
    "\n",
    "def stringparser(string):\n",
    "    parsed_string = string.replace(\"Critics Score \",\"\").rstrip(\";\").split(\"; \")\n",
    "    print(parsed_string)\n",
    "    movie_pair = [pair.split(',') for pair in parsed_string]\n",
    "    print(movie_pair)\n",
    "    score = {pair[0] : pair[1] for pair in movie_pair}\n",
    "    print(score)\n",
    "    return score\n",
    "\n",
    "movie_dict = stringparser(my_string)\n",
    "\n",
    "def mean_movie(dict): \n",
    "    scores = []\n",
    "    for movie in dict:\n",
    "        scores.append(float(dict[movie]))\n",
    "    mean_score = sum(scores)/len(scores)\n",
    "    return mean_score\n",
    "\n",
    "mean_movie(movie_dict)\n",
    "\n",
    "    "
   ]
  },
  {
   "cell_type": "code",
   "execution_count": 64,
   "metadata": {},
   "outputs": [
    {
     "name": "stdout",
     "output_type": "stream",
     "text": [
      "['The Invisible Man, 91', 'Onward, 87', 'Star Wars: The Rise of Skywalker, 52']\n",
      "[['The Invisible Man', ' 91'], ['Onward', ' 87'], ['Star Wars: The Rise of Skywalker', ' 52']]\n"
     ]
    }
   ],
   "source": [
    "my_string = \"The Invisible Man, Critics Score 91; Onward, Critics Score 87; Star Wars: The Rise of Skywalker, Critics Score 52;\"\n",
    "parsedStr = my_string.replace(\"Critics Score \",\"\").rstrip(\";\").split(\"; \")\n",
    "print(parsedStr)\n",
    "pairs = [pair.split(',') for pair in parsedStr]\n",
    "print(pairs)"
   ]
  },
  {
   "cell_type": "code",
   "execution_count": 65,
   "metadata": {},
   "outputs": [
    {
     "name": "stdout",
     "output_type": "stream",
     "text": [
      "['The Invisible Man, 91', 'Onward, 87', 'Star Wars: The Rise of Skywalker, 52']\n",
      "[['The Invisible Man', ' 91'], ['Onward', ' 87'], ['Star Wars: The Rise of Skywalker', ' 52']]\n",
      "{'The Invisible Man': ' 91', 'Onward': ' 87', 'Star Wars: The Rise of Skywalker': ' 52'}\n"
     ]
    }
   ],
   "source": [
    "my_string = \"The Invisible Man, Critics Score 91; Onward, Critics Score 87; Star Wars: The Rise of Skywalker, Critics Score 52;\"\n",
    "\n",
    "def stringToDict2(string):\n",
    "    parsedStr = string.replace(\"Critics Score \",\"\").rstrip(\";\").split(\"; \")\n",
    "    print(parsedStr)\n",
    "    moviePairs = [pair.split(',') for pair in parsedStr]\n",
    "    print(moviePairs)\n",
    "    \n",
    "    movieScores = {pair[0] : pair [1] for pair in moviePairs}\n",
    "    print(movieScores)\n",
    "    return movieScores\n",
    "\n",
    "movieDict = stringToDict2(my_string)\n"
   ]
  },
  {
   "cell_type": "code",
   "execution_count": 66,
   "metadata": {},
   "outputs": [
    {
     "data": {
      "text/plain": [
       "76.66666666666667"
      ]
     },
     "execution_count": 66,
     "metadata": {},
     "output_type": "execute_result"
    }
   ],
   "source": [
    "def meanDict(dict):\n",
    "    scores = []\n",
    "    for movie in dict:\n",
    "        scores.append(float(dict[movie]))\n",
    "    meanScore = sum(scores)/len(scores)\n",
    "    return meanScore\n",
    "\n",
    "meanDict(movieDict)"
   ]
  },
  {
   "cell_type": "markdown",
   "metadata": {},
   "source": [
    "## Numerical Solutions to ODEs"
   ]
  },
  {
   "cell_type": "code",
   "execution_count": 67,
   "metadata": {},
   "outputs": [],
   "source": [
    "##using solve_ivp() -> stands for solve an Initial Value Problem (IVP)\n",
    "\n",
    "\"\"\"\n",
    "solve_ivp() can take several arguments (you can look into them on your own time on the documentation page \n",
    "for the function through a simple Google search, or using 'solve_ivp?'). \n",
    "For right now, we'll focus on the 3 main arguments, 'fun', 'tspan', 'y0'. The syntax for the function is:\n",
    "solve_ivp(fun, tspan, y0), where the syntax for 'fun' is:\n",
    "fun(t, y)\n",
    "\"\"\"\n",
    "\n",
    "import numpy as np\n",
    "import matplotlib.pyplot as plt\n",
    "from scipy.integrate import solve_ivp\n"
   ]
  },
  {
   "cell_type": "markdown",
   "metadata": {},
   "source": [
    "You may recall that exponential decay can be expressed as the differential equation $\\frac{dN}{dt}=-\\lambda N$."
   ]
  },
  {
   "cell_type": "markdown",
   "metadata": {},
   "source": [
    "The analytical solution to this is $N(t) = N_0e^{-\\lambda t}$. But let's pretend we don't know this solution and plot the numerical solution..."
   ]
  },
  {
   "cell_type": "code",
   "execution_count": 68,
   "metadata": {},
   "outputs": [
    {
     "name": "stdout",
     "output_type": "stream",
     "text": [
      "[ 0.          0.11487653  1.26364188  3.06061781  4.81611105  6.57445806\n",
      "  8.33328988 10.        ]\n",
      "[[2.         1.88836035 1.06327177 0.43319312 0.18017253 0.07483045\n",
      "  0.03107158 0.01350781]\n",
      " [4.         3.7767207  2.12654355 0.86638624 0.36034507 0.14966091\n",
      "  0.06214316 0.02701561]\n",
      " [8.         7.5534414  4.25308709 1.73277247 0.72069014 0.29932181\n",
      "  0.12428631 0.05403123]]\n"
     ]
    }
   ],
   "source": [
    "# the 'fun' in solve_ivp(fun, tspan, y0)\n",
    "\n",
    "def exponential_decay(t, N):\n",
    "    dNdt = -l * N\n",
    "    return dNdt\n",
    "\n",
    "l = 0.5 # defining the constant 'lambda'\n",
    "tspan = [0,10] # the 'tspan' in solve_ivp(fun, tspan, y0)\n",
    "y0 = [2, 4, 8] # the 'y0' in solve_ivp(fun, tspan, y0)\n",
    "\n",
    "sol = solve_ivp(exponential_decay, tspan, y0) ##here I'm defining a vector of initial values\n",
    "print(sol.t)\n",
    "print(sol.y) ##returns a list of lists - pay attention to how you index this when plotting\n"
   ]
  },
  {
   "cell_type": "code",
   "execution_count": 69,
   "metadata": {},
   "outputs": [
    {
     "data": {
      "text/plain": [
       "[<matplotlib.lines.Line2D at 0x7f60f5dfdac0>]"
      ]
     },
     "execution_count": 69,
     "metadata": {},
     "output_type": "execute_result"
    },
    {
     "data": {
      "image/png": "[encoded data removed]",
      "text/plain": [
       "<Figure size 432x288 with 1 Axes>"
      ]
     },
     "metadata": {
      "needs_background": "light"
     },
     "output_type": "display_data"
    }
   ],
   "source": [
    "plt.plot(sol.t, sol.y[0], 'r')"
   ]
  },
  {
   "cell_type": "code",
   "execution_count": null,
   "metadata": {},
   "outputs": [],
   "source": [
    "plt.plot(sol.t, sol.y[1], 'g')"
   ]
  },
  {
   "cell_type": "code",
   "execution_count": null,
   "metadata": {},
   "outputs": [],
   "source": [
    "plt.plot(sol.t, sol.y[2], 'b')"
   ]
  },
  {
   "cell_type": "code",
   "execution_count": null,
   "metadata": {},
   "outputs": [],
   "source": [
    "plt.plot(sol.t, sol.y[0], 'r', sol.t, sol.y[1], 'g', sol.t, sol.y[2], 'b')\n",
    "plt.xlabel(\"t\")\n",
    "plt.ylabel(\"N\",)\n",
    "plt.legend([\"N0=2\", \"N0=4\", \"N0=8\"])\n",
    "plt.show()"
   ]
  },
  {
   "cell_type": "code",
   "execution_count": null,
   "metadata": {},
   "outputs": [],
   "source": [
    "##changing t_eval\n",
    "##if we want to look at specific times, we can add the keyword argument t_eval\n",
    "sol = solve_ivp(exponential_decay, tspan, y0, t_eval=np.linspace(0,10,500)) \n",
    "\n",
    "plt.plot(sol.t, sol.y[0], sol.t, sol.y[1], sol.t, sol.y[2])\n",
    "plt.xlabel(\"t\")\n",
    "plt.ylabel(\"N\", rotation = \"horizontal\")\n",
    "plt.legend([\"N0=2\", \"N0=4\", \"N0=8\"])\n",
    "plt.show()"
   ]
  },
  {
   "cell_type": "code",
   "execution_count": null,
   "metadata": {},
   "outputs": [],
   "source": [
    "solve_ivp?"
   ]
  },
  {
   "cell_type": "code",
   "execution_count": null,
   "metadata": {},
   "outputs": [],
   "source": [
    "plt?"
   ]
  },
  {
   "cell_type": "markdown",
   "metadata": {},
   "source": [
    "## Extra - File i/o"
   ]
  },
  {
   "cell_type": "code",
   "execution_count": null,
   "metadata": {
    "code_folding": [
     0
    ]
   },
   "outputs": [],
   "source": [
    "## File I/O\n",
    "\n",
    "\"\"\"\n",
    "It is often useful to take input from a file\n",
    "\n",
    "the \"open\" function returns a filehandle that \n",
    "can  be used to read / write to a file\n",
    "\n",
    "reading functions:\n",
    "    read() #read whole file\n",
    "    readline() # read one line of a file\n",
    "\n",
    "writing functions:\n",
    "    write() #write to a file\n",
    "    \n",
    "more details can be found here: https://docs.python.org/3/tutorial/inputoutput.html\n",
    "\n",
    "it is good practice to open files using a \"with\" statement, \n",
    "what this does is wrap everything inside the with statement \n",
    "into a \n",
    "\"\"\"\n",
    "\n",
    "#reading a file in - example_file.txt is in the same directory as this notebook\n",
    "with open(\"inputs/example_file_1.txt\") as f:\n",
    "    read_data = f.read()\n",
    "    \n",
    "print(read_data)"
   ]
  },
  {
   "cell_type": "code",
   "execution_count": null,
   "metadata": {
    "code_folding": [
     0
    ],
    "scrolled": true
   },
   "outputs": [],
   "source": [
    "## File I/O continued\n",
    "\n",
    "\"\"\"\n",
    "reading a file in line by line\n",
    "\"\"\"\n",
    "\n",
    "#reading a file in - example_file.txt is in the same directory as this notebook\n",
    "with open(\"inputs/example_file_1.txt\") as f:\n",
    "    for line in f:\n",
    "        print(line)"
   ]
  },
  {
   "cell_type": "code",
   "execution_count": null,
   "metadata": {
    "code_folding": [
     0
    ],
    "scrolled": true
   },
   "outputs": [],
   "source": [
    "## File I/O continued\n",
    "\"\"\"\n",
    "Advanced File I/O\n",
    "reading a file in line by line and constructing \n",
    "a list of dictionaries for all of the information\n",
    "\"\"\"\n",
    "\n",
    "#reading a file in - example_file.txt is in the same directory as this notebook\n",
    "\n",
    "file_info = []\n",
    "with open(\"inputs/example_file_1.txt\") as f:\n",
    "    header = f.readline()\n",
    "    columns = header.rstrip().split(\",\")\n",
    "    for line in f:\n",
    "        split_line = line.rstrip().split(\",\")\n",
    "        row_dict = {columns[i]: float(col) for i, col in enumerate(split_line)} \n",
    "        file_info.append(row_dict)\n",
    "\n",
    "dprint(file_info)\n",
    "    "
   ]
  },
  {
   "cell_type": "markdown",
   "metadata": {},
   "source": [
    "## Assignment"
   ]
  },
  {
   "cell_type": "code",
   "execution_count": 1,
   "metadata": {},
   "outputs": [],
   "source": [
    "import pandas as pd\n",
    "import matplotlib.pyplot as plt\n",
    "import numpy as np\n",
    "from scipy.integrate import solve_ivp"
   ]
  },
  {
   "cell_type": "markdown",
   "metadata": {},
   "source": [
    "#### Submission: Once done editing the notebook to answer the questions on the assignment sheet, download this notebook onto your local computer with the 'Notebook (.ipynb)' file format. Upload this file to bCourses.\n",
    "!! Pay attention to comments !!"
   ]
  },
  {
   "cell_type": "markdown",
   "metadata": {},
   "source": [
    "In this assignment, you will model the logistic growth of yeast. Below is data from an experiment in which brewer's yeast (S. cerevisiae) was grown over a 47 hour period. The population of yeast for this study was measured as a volume."
   ]
  },
  {
   "cell_type": "code",
   "execution_count": 2,
   "metadata": {},
   "outputs": [
    {
     "data": {
      "text/html": [
       "<div>\n",
       "<style scoped>\n",
       "    .dataframe tbody tr th:only-of-type {\n",
       "        vertical-align: middle;\n",
       "    }\n",
       "\n",
       "    .dataframe tbody tr th {\n",
       "        vertical-align: top;\n",
       "    }\n",
       "\n",
       "    .dataframe thead th {\n",
       "        text-align: right;\n",
       "    }\n",
       "</style>\n",
       "<table border=\"1\" class=\"dataframe\">\n",
       "  <thead>\n",
       "    <tr style=\"text-align: right;\">\n",
       "      <th></th>\n",
       "      <th>Time</th>\n",
       "      <th>Population</th>\n",
       "    </tr>\n",
       "  </thead>\n",
       "  <tbody>\n",
       "    <tr>\n",
       "      <th>0</th>\n",
       "      <td>0.0</td>\n",
       "      <td>0.37</td>\n",
       "    </tr>\n",
       "    <tr>\n",
       "      <th>1</th>\n",
       "      <td>1.5</td>\n",
       "      <td>1.63</td>\n",
       "    </tr>\n",
       "    <tr>\n",
       "      <th>2</th>\n",
       "      <td>9.0</td>\n",
       "      <td>6.20</td>\n",
       "    </tr>\n",
       "    <tr>\n",
       "      <th>3</th>\n",
       "      <td>10.0</td>\n",
       "      <td>8.87</td>\n",
       "    </tr>\n",
       "    <tr>\n",
       "      <th>4</th>\n",
       "      <td>18.0</td>\n",
       "      <td>10.66</td>\n",
       "    </tr>\n",
       "    <tr>\n",
       "      <th>5</th>\n",
       "      <td>23.0</td>\n",
       "      <td>12.50</td>\n",
       "    </tr>\n",
       "    <tr>\n",
       "      <th>6</th>\n",
       "      <td>25.5</td>\n",
       "      <td>12.60</td>\n",
       "    </tr>\n",
       "    <tr>\n",
       "      <th>7</th>\n",
       "      <td>27.0</td>\n",
       "      <td>12.90</td>\n",
       "    </tr>\n",
       "    <tr>\n",
       "      <th>8</th>\n",
       "      <td>34.0</td>\n",
       "      <td>13.27</td>\n",
       "    </tr>\n",
       "    <tr>\n",
       "      <th>9</th>\n",
       "      <td>38.0</td>\n",
       "      <td>12.77</td>\n",
       "    </tr>\n",
       "    <tr>\n",
       "      <th>10</th>\n",
       "      <td>42.0</td>\n",
       "      <td>12.87</td>\n",
       "    </tr>\n",
       "    <tr>\n",
       "      <th>11</th>\n",
       "      <td>45.5</td>\n",
       "      <td>12.90</td>\n",
       "    </tr>\n",
       "    <tr>\n",
       "      <th>12</th>\n",
       "      <td>47.0</td>\n",
       "      <td>12.70</td>\n",
       "    </tr>\n",
       "  </tbody>\n",
       "</table>\n",
       "</div>"
      ],
      "text/plain": [
       "    Time  Population\n",
       "0    0.0        0.37\n",
       "1    1.5        1.63\n",
       "2    9.0        6.20\n",
       "3   10.0        8.87\n",
       "4   18.0       10.66\n",
       "5   23.0       12.50\n",
       "6   25.5       12.60\n",
       "7   27.0       12.90\n",
       "8   34.0       13.27\n",
       "9   38.0       12.77\n",
       "10  42.0       12.87\n",
       "11  45.5       12.90\n",
       "12  47.0       12.70"
      ]
     },
     "execution_count": 2,
     "metadata": {},
     "output_type": "execute_result"
    }
   ],
   "source": [
    "# import yeast data\n",
    "\n",
    "df = pd.read_csv(\"inputs/lab_02_data.txt\", sep=\",\") # creating a data frame based on the text file input\n",
    "df"
   ]
  },
  {
   "cell_type": "markdown",
   "metadata": {},
   "source": [
    "You may recall that the general equation for logistic growth (in discrete time) is:\n",
    "<br>\n",
    "<br> $N(t+1) = N(t) + rN(t)\\big(1-\\frac{N(t)}{K}\\big)$ (1)\n",
    "<br>\n",
    "<br> This can also be written as: \n",
    "<br>\n",
    "<br> $\\frac{dN}{dt} = rN(t)\\big(1-\\frac{N(t)}{K}\\big)$ (2)"
   ]
  },
  {
   "cell_type": "markdown",
   "metadata": {},
   "source": [
    "### Part 1\n",
    "Plot the yeast data given in the table."
   ]
  },
  {
   "cell_type": "code",
   "execution_count": 3,
   "metadata": {},
   "outputs": [
    {
     "data": {
      "text/plain": [
       "Text(0, 0.5, 'Population (volume)')"
      ]
     },
     "execution_count": 3,
     "metadata": {},
     "output_type": "execute_result"
    },
    {
     "data": {
      "image/png": "[encoded data removed]",
      "text/plain": [
       "<Figure size 432x288 with 1 Axes>"
      ]
     },
     "metadata": {
      "needs_background": "light"
     },
     "output_type": "display_data"
    }
   ],
   "source": [
    "# plot the yeast data below using the 'plt.plot' function, shown in lab - figure out how to index the dataframe above, \n",
    "# using the column names, to pass as the x, y arguments to the function\n",
    "\n",
    "plt.plot(df[\"Time\"],df[\"Population\"])\n",
    "plt.xlabel(\"Time (hr)\")\n",
    "plt.ylabel(\"Population (volume)\")"
   ]
  },
  {
   "cell_type": "markdown",
   "metadata": {},
   "source": [
    "### Part 2\n",
    "What is the approximate carrying capacity of yeast? (Eyeball it)"
   ]
  },
  {
   "cell_type": "code",
   "execution_count": 4,
   "metadata": {},
   "outputs": [],
   "source": [
    "# enter your answer here #\n",
    "\n",
    "#The carrying capacity of yeast is approximately 13 (units of volume)#"
   ]
  },
  {
   "cell_type": "markdown",
   "metadata": {},
   "source": [
    "### Part 3\n",
    "Write a function for the differential equation (2). Through trial and error, fit a logistic model of growth to the data presented in the table. To do this use the carrying capacity you approximated from part 2, the initial condition from the data and try the following reproductive factors (r = 1.5; r = 2.0; r = 0.4; r = 0.7). Which reproductive factor fits the data best?"
   ]
  },
  {
   "cell_type": "code",
   "execution_count": 5,
   "metadata": {},
   "outputs": [],
   "source": [
    "# parameters - !!! ENTER the missing carrying capacity, estimated from Part 2 !!!\n",
    "\n",
    "t_span = [0,50] # range - we use [0,50] to more accurately compare to the real data we have, which spans t=0:50\n",
    "y0 = [df[\"Population\"][0]] # initial condition \n",
    "K =  13 # carrying capactiy - enter the carrying capacity you estimated in Part 2"
   ]
  },
  {
   "cell_type": "code",
   "execution_count": 6,
   "metadata": {},
   "outputs": [],
   "source": [
    "# write a function below for the differential equation \n",
    "\n",
    "def ODE(t, N):\n",
    "    dNdt = r*N*(1 - N/K)\n",
    "    return dNdt"
   ]
  },
  {
   "cell_type": "code",
   "execution_count": 17,
   "metadata": {},
   "outputs": [
    {
     "data": {
      "image/png": "[encoded data removed]",
      "text/plain": [
       "<Figure size 432x288 with 1 Axes>"
      ]
     },
     "metadata": {
      "needs_background": "light"
     },
     "output_type": "display_data"
    }
   ],
   "source": [
    "# solve using solve_ivp() for r = 1.5 below\n",
    "# plot the solution on the same plot with the graph of the data - include the legend\n",
    "\n",
    "r = 1.5 # reproductive factor\n",
    "soln = solve_ivp(ODE, t_span, y0)\n",
    "\n",
    "plt.plot(df[\"Time\"],df[\"Population\"], \"bo\", label=\"original data points\")\n",
    "plt.plot(soln.t, soln.y[0], label=\"solve_ivp() solution\")\n",
    "plt.xlabel(\"Time $t$\")\n",
    "plt.ylabel(\"Population\")\n",
    "plt.legend();"
   ]
  },
  {
   "cell_type": "code",
   "execution_count": 13,
   "metadata": {},
   "outputs": [
    {
     "data": {
      "image/png": "[encoded data removed]",
      "text/plain": [
       "<Figure size 432x288 with 1 Axes>"
      ]
     },
     "metadata": {
      "needs_background": "light"
     },
     "output_type": "display_data"
    }
   ],
   "source": [
    "# solve using solve_ivp() for r = 2 below\n",
    "# plot the solution on the same plot with the graph of the data - include the legend\n",
    "\n",
    "r = 2\n",
    "soln = solve_ivp(ODE, t_span, y0)\n",
    "\n",
    "plt.plot(df[\"Time\"],df[\"Population\"], \"bo\", label=\"original data points\")\n",
    "plt.plot(soln.t, soln.y[0], label=\"solve_ivp() solution\")\n",
    "plt.xlabel(\"Time $t$\")\n",
    "plt.ylabel(\"Population\")\n",
    "plt.legend();"
   ]
  },
  {
   "cell_type": "code",
   "execution_count": 15,
   "metadata": {},
   "outputs": [
    {
     "data": {
      "image/png": "[encoded data removed]",
      "text/plain": [
       "<Figure size 432x288 with 1 Axes>"
      ]
     },
     "metadata": {
      "needs_background": "light"
     },
     "output_type": "display_data"
    }
   ],
   "source": [
    "# solve using solve_ivp() for r = 0.4 below\n",
    "# plot the solution on the same plot with the graph of the data - include the legend\n",
    "\n",
    "r = 0.4\n",
    "soln = solve_ivp(ODE, t_span, y0)\n",
    "\n",
    "plt.plot(df[\"Time\"],df[\"Population\"], \"bo\", label=\"original data points\")\n",
    "plt.plot(soln.t, soln.y[0], label=\"solve_ivp() solution\")\n",
    "plt.xlabel(\"Time $t$\")\n",
    "plt.ylabel(\"Population\")\n",
    "plt.legend();"
   ]
  },
  {
   "cell_type": "code",
   "execution_count": 16,
   "metadata": {},
   "outputs": [
    {
     "data": {
      "image/png": "[encoded data removed]",
      "text/plain": [
       "<Figure size 432x288 with 1 Axes>"
      ]
     },
     "metadata": {
      "needs_background": "light"
     },
     "output_type": "display_data"
    }
   ],
   "source": [
    "# solve using solve_ivp() for r = 0.7 below\n",
    "# plot the solution on the same plot with the graph of the data - include the legend\n",
    "\n",
    "r = 0.7\n",
    "soln = solve_ivp(ODE, t_span, y0)\n",
    "\n",
    "plt.plot(df[\"Time\"],df[\"Population\"], \"bo\", label=\"original data points\")\n",
    "plt.plot(soln.t, soln.y[0], label=\"solve_ivp() solution\")\n",
    "plt.xlabel(\"Time $t$\")\n",
    "plt.ylabel(\"Population\")\n",
    "plt.legend();"
   ]
  },
  {
   "cell_type": "code",
   "execution_count": null,
   "metadata": {},
   "outputs": [],
   "source": [
    "# Which reproductive factor fits the data best?\n",
    "\n",
    "#growth factor r=0.4 fits the data the best"
   ]
  },
  {
   "cell_type": "markdown",
   "metadata": {},
   "source": [
    "### Part 4\n",
    "Suppose you have decided to go into the yeast selling business. Modify the logistic growth equation to include a constant daily harvest amount, denote this amount h."
   ]
  },
  {
   "cell_type": "code",
   "execution_count": 27,
   "metadata": {},
   "outputs": [],
   "source": [
    "# edit your logistic growth function below to account for the daily harvest - give the function a new name\n",
    "\n",
    "def daily_harvest(t, N):\n",
    "    dNdt = r*N*(1 - N/K) - h\n",
    "    return dNdt"
   ]
  },
  {
   "cell_type": "markdown",
   "metadata": {},
   "source": [
    "### Part 5\n",
    "If you expand the harvest differential equation, it becomes a quadratic. Create a function to find the new equilibrium points for this harvest model. (Hint: You will have to use the quadratic equation, $N = \\frac{-b \\pm \\sqrt{b^2-4ac}}{2a}$ , to find the equilibrium points.) Have the function take in h, K, and r, as arguments, so that it can output a list of both equilibrium population values for any combination of the three parameters."
   ]
  },
  {
   "cell_type": "code",
   "execution_count": 36,
   "metadata": {},
   "outputs": [],
   "source": [
    "# write a function below for the quadratic solutions (equilibria) of the harvest model \n",
    "## use the function 'sqrt' within the math' package to take the square root - make sure to import the package below\n",
    "\n",
    "import math \n",
    "\n",
    "#a = -r/K\n",
    "#b = r\n",
    "#c = -1*h\n",
    "def quadratic(h, K, r):\n",
    "    sol1 = (-r - math.sqrt(r**2 - 4*(-r/K)*(-1*h)))/(2*(-r/K))\n",
    "    sol2 = (-r + math.sqrt(r**2 - 4*(-r/K)*(-1*h)))/(2*(-r/K))\n",
    "    return sol1, sol2"
   ]
  },
  {
   "cell_type": "markdown",
   "metadata": {},
   "source": [
    "### Part 6\n",
    "Set h = 1. Starting at the carrying capacity you found in part 2. (i.e. set the initial population size to K) simulate 100 days of yeast growth. Make sure to plot your results to help visualize what is happening. What do equilibrium points in the harvest equation mean? Use your equation from part 5 to calculate the equilibrium points. Do any of the equilibria you notice in the graph match the equilibria you calculated? Is this a sustainable harvest amount?"
   ]
  },
  {
   "cell_type": "code",
   "execution_count": 32,
   "metadata": {},
   "outputs": [],
   "source": [
    "# parameters - !!! ENTER any missing values !!!\n",
    "\n",
    "t_span = [0,100] # range \n",
    "y0 = [13] # initial condition \n",
    "r =  0.4 # enter the reproductive factor you found to best fit the data\n",
    "K =  13 # enter the carrying capacity corresponding to the initial condition above ^^\n",
    "h = 1 # harvest amount -  edit this for Part 8 if needed"
   ]
  },
  {
   "cell_type": "code",
   "execution_count": 33,
   "metadata": {},
   "outputs": [
    {
     "data": {
      "image/png": "[encoded data removed]",
      "text/plain": [
       "<Figure size 432x288 with 1 Axes>"
      ]
     },
     "metadata": {
      "needs_background": "light"
     },
     "output_type": "display_data"
    }
   ],
   "source": [
    "# solve using solve_ivp() below, and then plot the solution\n",
    "soln = solve_ivp(daily_harvest, t_span, y0)\n",
    "\n",
    "plt.plot(soln.t, soln.y[0], label=\"solve_ivp() solution\")\n",
    "plt.xlabel(\"Time $t$\")\n",
    "plt.ylabel(\"Population\")\n",
    "plt.legend();"
   ]
  },
  {
   "cell_type": "code",
   "execution_count": 34,
   "metadata": {},
   "outputs": [],
   "source": [
    "# Do the equilibria you notice in the graph match the equilibria you calculate using your function from part 5? \n",
    "# Is this a sustainable harvest amount?\n",
    "\n",
    "#One of the equilibria match in the graph since the graph appears to plateau around 9.6 for the extent of the 100 days. \n",
    "\n",
    "#This appears to be a sustainable harvest amount since even if we expand the time period to 1000 days or greater, the \n",
    "#population stays the same, at around 9.6. \n"
   ]
  },
  {
   "cell_type": "code",
   "execution_count": 37,
   "metadata": {},
   "outputs": [
    {
     "data": {
      "text/plain": [
       "(9.6224989991992, 3.3775010008008)"
      ]
     },
     "execution_count": 37,
     "metadata": {},
     "output_type": "execute_result"
    }
   ],
   "source": [
    "quadratic(h, K, r)"
   ]
  },
  {
   "cell_type": "markdown",
   "metadata": {},
   "source": [
    "### Extra - ungraded\n",
    "The following example is useful in better understanding how equations relate to their differentials (i.e. why do we care about differential equations?). Follow along to visually compare the plot of equation (1) to that of the solution of equation (2). "
   ]
  },
  {
   "cell_type": "code",
   "execution_count": null,
   "metadata": {},
   "outputs": [],
   "source": [
    "\"\"\"\n",
    "Below we'll be plotting a numerical approximation in discrete time\n",
    "\"\"\"\n",
    "\n",
    "# parameters - !!!ENTER the missing carrying capacity and reproductive factor\n",
    "\n",
    "start = 0 # start time\n",
    "stop = 50 # end time\n",
    "inc = 1 # steps to take between start and stop\n",
    "times = np.arange(start, stop+1, step=inc) # np.arange creates a sequence of numbers based on start, stop, and step\n",
    "print(times)\n",
    "\n",
    "r =  # <--- reproductive factor - enter the reproductive factor you found to fit the best\n",
    "K = # <--- carrying capactiy - enter the carrying capacity you estimated in Part 2"
   ]
  },
  {
   "cell_type": "code",
   "execution_count": null,
   "metadata": {},
   "outputs": [],
   "source": [
    "# logistic growth function\n",
    "## for this function, I'm using equation (1) in the assignment\n",
    "\n",
    "def myLogistic(times, r, K):\n",
    "    num=np.zeros(len(times)) # creates a vector of 0s that will be later replaced with actual values\n",
    "    num[0]=df[\"Population\"][0] # initial condition; taking it from the data frame \n",
    "    \n",
    "    for i in range(len(times)-1): # notice - what happens if you don't subtract 1 from the range? why? (no need to answer)\n",
    "        num[i+1] = num[i]+r*num[i]*(1-num[i]/K) # logistic growth expression from equation (1)\n",
    "    return num\n"
   ]
  },
  {
   "cell_type": "code",
   "execution_count": null,
   "metadata": {},
   "outputs": [],
   "source": [
    "# plotting the numerical approximation\n",
    "\n",
    "num = myLogistic(times, r, K) # run the function\n",
    "\n",
    "plt.plot(df[\"Time\"],df[\"Population\"])\n",
    "plt.plot(times, num)\n",
    "plt.legend([\"Yeast Data\", \"Logistic Growth\"])\n",
    "plt.show()"
   ]
  },
  {
   "cell_type": "markdown",
   "metadata": {},
   "source": [
    "You'll notice that the two graphs (from the numerical approximation using (1), and the numerical solution of (2)) are very similar. This is to give you a better feel for how a differential equation, in this case $\\frac{dN}{dt} = rN(t)(1-\\frac{N(t)}{K})$, relates to the $change$ or $growth$ in the general equation, in this case $N(t+1) = N(t)+rN(t)(1-\\frac{N(t)}{K})$."
   ]
  }
 ],
 "metadata": {
  "kernelspec": {
   "display_name": "Python 3 (ipykernel)",
   "language": "python",
   "name": "python3"
  },
  "language_info": {
   "codemirror_mode": {
    "name": "ipython",
    "version": 3
   },
   "file_extension": ".py",
   "mimetype": "text/x-python",
   "name": "python",
   "nbconvert_exporter": "python",
   "pygments_lexer": "ipython3",
   "version": "3.9.9"
  }
 },
 "nbformat": 4,
 "nbformat_minor": 4
}
