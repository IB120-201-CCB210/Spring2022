{
 "cells": [
  {
   "cell_type": "markdown",
   "metadata": {},
   "source": [
    "# Data Visualization with `ggplot2`"
   ]
  },
  {
   "cell_type": "code",
   "execution_count": null,
   "metadata": {},
   "outputs": [],
   "source": [
    "library(ggplot2)\n",
    "library(dplyr)"
   ]
  },
  {
   "cell_type": "code",
   "execution_count": null,
   "metadata": {},
   "outputs": [],
   "source": [
    "# list of all geoms\n",
    "ls(pattern = '^geom_', env = as.environment('package:ggplot2'))"
   ]
  },
  {
   "cell_type": "markdown",
   "metadata": {},
   "source": [
    "### Scatter Plots"
   ]
  },
  {
   "cell_type": "code",
   "execution_count": null,
   "metadata": {},
   "outputs": [],
   "source": [
    "# basic scatterplot\n",
    "## geom_point() gives us the scatter plot\n",
    "ggplot(trees, aes(x=Girth, y=Height)) + \n",
    "    geom_point()"
   ]
  },
  {
   "cell_type": "markdown",
   "metadata": {},
   "source": [
    "### Bar Plots"
   ]
  },
  {
   "cell_type": "code",
   "execution_count": null,
   "metadata": {},
   "outputs": [],
   "source": [
    "# basic bar plot\n",
    "## prices of over 50,000 round cut diamonds\n",
    "\n",
    "ggplot(diamonds, aes(cut)) +\n",
    "    geom_bar()"
   ]
  },
  {
   "cell_type": "code",
   "execution_count": null,
   "metadata": {},
   "outputs": [],
   "source": [
    "# color coding\n",
    "\n",
    "ggplot(diamonds, aes(x = cut, fill= cut)) +\n",
    "    geom_bar()"
   ]
  },
  {
   "cell_type": "code",
   "execution_count": null,
   "metadata": {},
   "outputs": [],
   "source": [
    "# lots of flexibility in coloring\n",
    "# playing with hues; `c` argument is for chroma (intensity of color)\n",
    "# theme - can control axes, background, and legends\n",
    "\n",
    "ggplot(diamonds, aes(x = cut, fill = cut)) +\n",
    "    geom_bar() + scale_fill_hue(c=40) #+ theme(legend.position=\"none\")"
   ]
  },
  {
   "cell_type": "code",
   "execution_count": null,
   "metadata": {},
   "outputs": [],
   "source": [
    "ggplot(diamonds, aes(x = cut, fill = cut)) +\n",
    "    geom_bar() + scale_fill_manual(values = c(\"red\", \"orange\", \"yellow\", \"green\", \"blue\")) + \n",
    "    theme(legend.position=\"none\")"
   ]
  },
  {
   "cell_type": "code",
   "execution_count": null,
   "metadata": {},
   "outputs": [],
   "source": [
    "# can also turn numerical values into categorical data by using `as.factor`\n",
    "\n",
    "ggplot(mtcars, aes(x=as.factor(cyl), fill = as.factor(cyl))) +\n",
    "    geom_bar() + labs(fill = \"Cylinders\") # 'labs' is used to change legend title"
   ]
  },
  {
   "cell_type": "markdown",
   "metadata": {},
   "source": [
    "### Histograms"
   ]
  },
  {
   "cell_type": "code",
   "execution_count": null,
   "metadata": {},
   "outputs": [],
   "source": [
    "# basic histogram\n",
    "## prices of over 50,000 round cut diamonds\n",
    "ggplot(diamonds, aes(carat)) +\n",
    "     geom_histogram()"
   ]
  },
  {
   "cell_type": "code",
   "execution_count": null,
   "metadata": {},
   "outputs": [],
   "source": [
    "# play around with the binwidth to see how it affects the plots\n",
    "\n",
    "ggplot(diamonds, aes(carat)) +\n",
    "     geom_histogram(binwidth = 0.01)"
   ]
  },
  {
   "cell_type": "code",
   "execution_count": null,
   "metadata": {},
   "outputs": [],
   "source": [
    "# changing number of bins directly\n",
    "\n",
    "ggplot(diamonds, aes(carat)) +\n",
    "     geom_histogram(bins = 200)"
   ]
  },
  {
   "cell_type": "code",
   "execution_count": null,
   "metadata": {},
   "outputs": [],
   "source": [
    "# flip axes\n",
    "\n",
    "ggplot(diamonds, aes(y = carat)) +\n",
    "  geom_histogram()\n"
   ]
  },
  {
   "cell_type": "code",
   "execution_count": null,
   "metadata": {},
   "outputs": [],
   "source": [
    "# for histograms with tick marks between each bin, use `geom_bar` with `scale_x_binned`\n",
    "\n",
    "ggplot(diamonds, aes(carat)) +\n",
    "  geom_bar() +\n",
    "  scale_x_binned()"
   ]
  },
  {
   "cell_type": "code",
   "execution_count": null,
   "metadata": {},
   "outputs": [],
   "source": [
    "# color coding & stacking histograms\n",
    "\n",
    "ggplot(diamonds, aes(price, fill = cut)) +\n",
    "  geom_histogram(binwidth = 500)"
   ]
  },
  {
   "cell_type": "code",
   "execution_count": null,
   "metadata": {},
   "outputs": [],
   "source": [
    "# sometimes instead of stacking histograms, it's easier to compare frequency polygons\n",
    "\n",
    "ggplot(diamonds, aes(price, colour = cut)) +\n",
    "  geom_freqpoly(binwidth = 500)\n"
   ]
  },
  {
   "cell_type": "markdown",
   "metadata": {},
   "source": [
    "### Boxplots"
   ]
  },
  {
   "cell_type": "code",
   "execution_count": null,
   "metadata": {},
   "outputs": [],
   "source": [
    "ggplot(diamonds, aes(x=cut, y=price)) +\n",
    "    geom_boxplot()"
   ]
  },
  {
   "cell_type": "code",
   "execution_count": null,
   "metadata": {},
   "outputs": [],
   "source": [
    "ggplot(diamonds, aes(x=cut, y=price, fill = cut)) +\n",
    "    geom_boxplot() + theme(legend.position=\"none\")"
   ]
  },
  {
   "cell_type": "code",
   "execution_count": null,
   "metadata": {},
   "outputs": [],
   "source": [
    "# highlight a category\n",
    "\n",
    "# prepare data\n",
    "data <- mutate(diamonds, type=ifelse(cut==\"Premium\",\"Highlighted\",\"Normal\"))\n",
    "head(data)"
   ]
  },
  {
   "cell_type": "code",
   "execution_count": null,
   "metadata": {},
   "outputs": [],
   "source": [
    "ggplot(data, aes(x=cut, y=price, fill = type)) +\n",
    "    geom_boxplot() + theme(legend.position=\"none\")"
   ]
  },
  {
   "cell_type": "code",
   "execution_count": null,
   "metadata": {},
   "outputs": [],
   "source": [
    "# adding the mean point\n",
    "\n",
    "ggplot(data, aes(x=cut, y=price, fill = type)) +\n",
    "    geom_boxplot() + theme(legend.position=\"none\") +\n",
    "    stat_summary(fun=mean, geom=\"point\", shape=20, size=8, color=\"red\")"
   ]
  },
  {
   "cell_type": "markdown",
   "metadata": {},
   "source": [
    "##### Grouped Boxplot"
   ]
  },
  {
   "cell_type": "code",
   "execution_count": null,
   "metadata": {},
   "outputs": [],
   "source": [
    "# grouped boxplot\n",
    "# the effect of vitamin C on tooth growth in guinea pigs; each pig received one of three doses of vitamin C, through \n",
    "# one of two delivery methods (orange juice or ascorbic acid)\n",
    "\n",
    "ggplot(ToothGrowth, aes(x=as.factor(dose), y=len, fill = supp)) +\n",
    "    geom_boxplot() + labs(x = \"Dose\", y = \"Length\", fill = \"Supplement\")"
   ]
  },
  {
   "cell_type": "code",
   "execution_count": null,
   "metadata": {},
   "outputs": [],
   "source": [
    "# with mean points\n",
    "\n",
    "ggplot(ToothGrowth, aes(x=as.factor(dose), y=len, fill = supp)) +\n",
    "    geom_boxplot() + \n",
    "    stat_summary(fun=mean, aes(group = supp), geom=\"point\", \n",
    "                 position=position_dodge(width=0.7), shape=20, size=5, color=\"red\", show.legend = FALSE) +\n",
    "    labs(x = \"Dose\", y = \"Length\", fill = \"Supplement\")"
   ]
  },
  {
   "cell_type": "markdown",
   "metadata": {},
   "source": [
    "##### Faceting"
   ]
  },
  {
   "cell_type": "code",
   "execution_count": null,
   "metadata": {},
   "outputs": [],
   "source": [
    "# faceting; one box per delivery method\n",
    "\n",
    "ggplot(ToothGrowth, aes(x=as.factor(dose), y=len, fill = supp)) +\n",
    "    geom_boxplot() + facet_wrap(~supp) +\n",
    "    labs(x = \"Dose\", y = \"Length\", fill = \"Supplement\")\n"
   ]
  },
  {
   "cell_type": "code",
   "execution_count": null,
   "metadata": {},
   "outputs": [],
   "source": [
    "# faceting; one box per dose type\n",
    "\n",
    "ggplot(ToothGrowth, aes(x=as.factor(dose), y=len, fill = supp)) +\n",
    "    geom_boxplot() + facet_wrap(~as.factor(dose), scale=\"free_x\") +\n",
    "    labs(x = \"Dose\", y = \"Length\", fill = \"Supplement\")"
   ]
  },
  {
   "cell_type": "markdown",
   "metadata": {},
   "source": [
    "##### With jitter"
   ]
  },
  {
   "cell_type": "code",
   "execution_count": null,
   "metadata": {},
   "outputs": [],
   "source": [
    "# create a dataset\n",
    "data <- data.frame(\n",
    "  name=c( rep(\"A\",500), rep(\"B\",500), rep(\"B\",500), rep(\"C\",20), rep('D', 100)  ),\n",
    "  value=c( rnorm(500, 10, 5), rnorm(500, 13, 1), rnorm(500, 18, 1), rnorm(20, 25, 4), rnorm(100, 12, 1) )\n",
    ")\n",
    "head(data)\n",
    "\n",
    "# plot basic boxplot\n",
    "ggplot(data, aes(x=name, y=value, fill=name)) +\n",
    "    geom_boxplot() "
   ]
  },
  {
   "cell_type": "code",
   "execution_count": null,
   "metadata": {},
   "outputs": [],
   "source": [
    "# plot boxplot with jitter\n",
    "ggplot(data, aes(x=name, y=value, fill=name)) +\n",
    "    geom_boxplot() +\n",
    "    geom_jitter(color=\"black\", size=0.4, alpha=0.9)"
   ]
  },
  {
   "cell_type": "markdown",
   "metadata": {},
   "source": [
    "### Violin Plots"
   ]
  },
  {
   "cell_type": "code",
   "execution_count": null,
   "metadata": {},
   "outputs": [],
   "source": [
    "ggplot(data, aes(x=name, y=value, fill=name)) +\n",
    "    geom_violin() "
   ]
  },
  {
   "cell_type": "code",
   "execution_count": null,
   "metadata": {},
   "outputs": [],
   "source": [
    "# overlap boxplot and violins\n",
    "\n",
    "ggplot(data, aes(x=name, y=value, fill=name)) +\n",
    "    geom_violin() + geom_boxplot(width=0.1, color=\"white\", show.legend = FALSE) +\n",
    "    stat_summary(fun=mean, geom=\"point\", shape=20, size=3, color=\"black\", show.legend = FALSE)"
   ]
  },
  {
   "cell_type": "markdown",
   "metadata": {},
   "source": [
    "## Annotation"
   ]
  },
  {
   "cell_type": "markdown",
   "metadata": {},
   "source": [
    "### Point labels"
   ]
  },
  {
   "cell_type": "code",
   "execution_count": null,
   "metadata": {},
   "outputs": [],
   "source": [
    "# using geom_text() to apply text labels to points\n",
    "\n",
    "ggplot(mtcars, aes(x=wt, y=mpg)) +\n",
    "  geom_point() + \n",
    "  geom_text(\n",
    "      label=rownames(mtcars),\n",
    "      nudge_x = 0.25, nudge_y = 0.25, \n",
    "      check_overlap = T\n",
    "  )"
   ]
  },
  {
   "cell_type": "code",
   "execution_count": null,
   "metadata": {},
   "outputs": [],
   "source": [
    "# using geom_label() to apply text labels to points\n",
    "\n",
    "ggplot(mtcars, aes(x=wt, y=mpg)) +\n",
    "  geom_point() + \n",
    "  geom_label(\n",
    "      label=rownames(mtcars),\n",
    "      nudge_x = 0.25, nudge_y = 0.25\n",
    "  )"
   ]
  },
  {
   "cell_type": "code",
   "execution_count": null,
   "metadata": {},
   "outputs": [],
   "source": [
    "# add one annotation\n",
    "\n",
    "ggplot(mtcars, aes(x=wt, y=mpg)) +\n",
    "  geom_point() + # Show dots\n",
    "  geom_label(\n",
    "    label=\"Look at this one!\", \n",
    "    x=4.1,\n",
    "    y=20,\n",
    "    label.padding = unit(0.55, \"lines\"), # Rectangle size around label\n",
    "    label.size = 0.35,\n",
    "    color = \"black\",\n",
    "    fill=\"#69b3a2\"\n",
    "  )"
   ]
  },
  {
   "cell_type": "markdown",
   "metadata": {},
   "source": [
    "### Shapes"
   ]
  },
  {
   "cell_type": "code",
   "execution_count": null,
   "metadata": {},
   "outputs": [],
   "source": [
    "# rectangles\n",
    "\n",
    "ggplot(mtcars, aes(x=wt, y=mpg)) +\n",
    "    geom_point() +\n",
    "    annotate(\"rect\", xmin=c(1.5,3), xmax=c(2.5,4), ymin=c(25,12) , ymax=c(35,22), alpha=0.2, \n",
    "             color=\"blue\", fill=\"blue\")"
   ]
  },
  {
   "cell_type": "code",
   "execution_count": null,
   "metadata": {},
   "outputs": [],
   "source": [
    "# segments/arrows\n",
    "\n",
    "ggplot(mtcars, aes(x=wt, y=mpg)) +\n",
    "    geom_point() +\n",
    "    annotate(\"segment\", x = 2, xend = 4, y = 27, yend = 12, colour = \"pink\", size=3, alpha=0.6, arrow=arrow())"
   ]
  },
  {
   "cell_type": "code",
   "execution_count": null,
   "metadata": {},
   "outputs": [],
   "source": [
    "# gridlines\n",
    "\n",
    "ggplot(mtcars, aes(x=wt, y=mpg)) +\n",
    "    geom_point() +\n",
    "    # horizontal\n",
    "    geom_hline(yintercept=20, color=\"orange\", size=1) + \n",
    "    # vertical\n",
    "    geom_vline(xintercept=3, color=\"orange\", size=1)"
   ]
  },
  {
   "cell_type": "code",
   "execution_count": null,
   "metadata": {},
   "outputs": [],
   "source": [
    "# point w/ range\n",
    "ggplot(mtcars, aes(x=wt, y=mpg)) +\n",
    "    geom_point() +\n",
    "    annotate(\"pointrange\", x = 3.5, y = 20, ymin = 12, ymax = 28,colour = \"orange\", size = 1.5, alpha=0.4)\n"
   ]
  },
  {
   "cell_type": "code",
   "execution_count": null,
   "metadata": {},
   "outputs": [],
   "source": [
    "# title manipulation\n",
    "\n",
    "ggplot(mtcars, aes(x=wt, y=mpg)) +\n",
    "    geom_point() + ggtitle(\"Scatter plot of miles per gallon as a function of weight\")"
   ]
  },
  {
   "cell_type": "code",
   "execution_count": null,
   "metadata": {},
   "outputs": [],
   "source": [
    "# adjusting title with theme()\n",
    "\n",
    "ggplot(mtcars, aes(x=wt, y=mpg)) +\n",
    "    geom_point() + ggtitle(\"Scatter plot of miles per gallon as a function of weight\") +\n",
    "    theme(plot.title=element_text( hjust=1, vjust=0.5, face='bold'))"
   ]
  },
  {
   "cell_type": "code",
   "execution_count": null,
   "metadata": {},
   "outputs": [],
   "source": [
    "# customizing a word\n",
    "\n",
    "my_title <- expression(paste(italic(bold(\"Scatter plot\")),\" of miles per gallon as a function of weight\"))\n",
    "\n",
    "ggplot(mtcars, aes(x=wt, y=mpg)) +\n",
    "    geom_point() + ggtitle(my_title)"
   ]
  },
  {
   "cell_type": "markdown",
   "metadata": {},
   "source": [
    "## Interactive Plots"
   ]
  },
  {
   "cell_type": "code",
   "execution_count": null,
   "metadata": {},
   "outputs": [],
   "source": [
    "library(plotly)\n",
    "p <- ggplot(mtcars, aes(x=wt, y=mpg)) +\n",
    "  geom_point() + \n",
    "  geom_text(\n",
    "      label=rownames(mtcars),\n",
    "      nudge_x = 0.25, nudge_y = 0.25, \n",
    "      check_overlap = T\n",
    "  )\n",
    "\n",
    "ggplotly(p)"
   ]
  },
  {
   "cell_type": "markdown",
   "metadata": {},
   "source": [
    "## Questions\n",
    "\n",
    "* You assign 100 UCB students to 5 groups, and each group receives a unique variation of an exam from the same class. You want to visualize your data to see if there might be a particular variation that has a higher rate of success. What plot might you use?\n",
    "\n",
    "\n",
    "* A series of hourly temperatures were measured throughout the day in degrees Fahrenheit. You want to visualize some simple summary statistics to get a basic understanding of the underlying distribution of temperature. What plot might you use?\n",
    "\n",
    "\n",
    "* You receive data over the next 3 months for both temperature and humidity, and want to understand the relationship between the two. What plot might you use to visualize the relationship?\n",
    "\n",
    "\n",
    "\n",
    "* You receive human traffic data for randomly sampled days throughout the year from the San Francisco International Airport. You want to calculate the probabilty that on any particular day, there are $X$ amount of people that arrive at the airport per hour. What plot might you use to visualize this?\n",
    "\n"
   ]
  },
  {
   "cell_type": "markdown",
   "metadata": {},
   "source": [
    "# Mean, SD, and SEM"
   ]
  },
  {
   "cell_type": "markdown",
   "metadata": {},
   "source": [
    "**Mean**\n",
    "\n",
    "The mean, or more explicitly the *sample* mean, $\\bar{x}_n$ is a computation performed on a sample size of $n$ from a distribution of a random variable $X$.\n",
    "\n",
    "**Expected Value**"
   ]
  },
  {
   "cell_type": "markdown",
   "metadata": {},
   "source": [
    "Example:\n",
    "\n",
    "Let $X$ represent the outcome of a roll of an unbiased six-sided die. Then $E[X] =  ? $.\n",
    "\n",
    "Supposed in a sequence of 10 rolls, the outcomes are 5,2,6,2,2,1,2,3,6,1. Then $\\bar{x}_{10} = \\frac{5+2+6+2+2+1+2+3+6+1}{10} = 3$. \n",
    "\n",
    "As $N\\to\\infty$, $\\bar{x}_N \\to E[X]$. "
   ]
  },
  {
   "cell_type": "markdown",
   "metadata": {},
   "source": [
    "**Variance**\n",
    "\n",
    "Calculated as: $\\sigma^2 = \\frac{\\sum(x-\\mu)^2}{n}$. The *(unbiased) sample variance* is $\\hat{\\sigma}^2 = \\frac{\\sum(x-\\bar{x})^2}{n-1}$\n",
    "\n",
    "**Standard Deviation**\n",
    "\n",
    "Calculated as: $\\sigma = \\sqrt{\\frac{\\sum(x-\\mu)^2}{n}}$. The *(unbiased) sample standard deviation* is $\\hat{\\sigma} = \\sqrt{\\frac{\\sum(x-\\bar{x})^2}{n-1}}$\n",
    "\n",
    "**Standard Error of the Mean (SEM)**\n",
    "\n",
    "This is estimated as: $SEM = SD(\\bar{x}) = \\frac{\\hat{\\sigma}}{\\sqrt{n}}$ (the standard deviation of a sample normalized by the square root of the sample size)."
   ]
  },
  {
   "cell_type": "code",
   "execution_count": null,
   "metadata": {},
   "outputs": [],
   "source": [
    "# Example:\n",
    "\n",
    "data <- iris %>% select(Species, Sepal.Length) "
   ]
  },
  {
   "cell_type": "code",
   "execution_count": null,
   "metadata": {},
   "outputs": [],
   "source": [
    "# calculates mean, sd, sem \n",
    "my_sum <- data %>%\n",
    "  group_by(Species) %>%\n",
    "  summarise( \n",
    "    n=n(),\n",
    "    mean=mean(Sepal.Length),\n",
    "    sd=sd(Sepal.Length)\n",
    "  ) %>%\n",
    "  mutate( sem=sd/sqrt(n))  \n",
    "\n",
    "my_sum"
   ]
  },
  {
   "cell_type": "code",
   "execution_count": null,
   "metadata": {},
   "outputs": [],
   "source": [
    "# using ggplot to add error bars to bar plots\n",
    "\n",
    "# using standard deviation as an error measurement\n",
    "ggplot(my_sum) +\n",
    "  geom_bar( aes(x=Species, y=mean), stat=\"identity\", fill=\"forestgreen\", alpha=0.5) +\n",
    "  geom_errorbar( aes(x=Species, ymin=mean-sd, ymax=mean+sd), width=0.4, colour=\"orange\", alpha=0.9, size=1.5) +\n",
    "  ggtitle(\"using standard deviation\")"
   ]
  },
  {
   "cell_type": "code",
   "execution_count": null,
   "metadata": {},
   "outputs": [],
   "source": [
    "# using standard error as an error measurement\n",
    "ggplot(my_sum) +\n",
    "  geom_bar( aes(x=Species, y=mean), stat=\"identity\", fill=\"forestgreen\", alpha=0.5) +\n",
    "  geom_errorbar( aes(x=Species, ymin=mean-sem, ymax=mean+sem), width=0.4, colour=\"orange\", alpha=0.9, size=1.5) +\n",
    "  ggtitle(\"using standard error\")"
   ]
  },
  {
   "cell_type": "markdown",
   "metadata": {},
   "source": [
    "## Assignment"
   ]
  },
  {
   "cell_type": "markdown",
   "metadata": {},
   "source": [
    "##### Practice writing functions"
   ]
  },
  {
   "cell_type": "markdown",
   "metadata": {},
   "source": [
    "1. Create a function that calculates the sample mean of a vector. Run it on `x` and do a sanity check with the `mean()` function. "
   ]
  },
  {
   "cell_type": "code",
   "execution_count": 1,
   "metadata": {},
   "outputs": [
    {
     "data": {
      "text/html": [
       "26.685508591444"
      ],
      "text/latex": [
       "26.685508591444"
      ],
      "text/markdown": [
       "26.685508591444"
      ],
      "text/plain": [
       "[1] 26.68551"
      ]
     },
     "metadata": {},
     "output_type": "display_data"
    },
    {
     "data": {
      "text/html": [
       "26.685508591444"
      ],
      "text/latex": [
       "26.685508591444"
      ],
      "text/markdown": [
       "26.685508591444"
      ],
      "text/plain": [
       "[1] 26.68551"
      ]
     },
     "metadata": {},
     "output_type": "display_data"
    }
   ],
   "source": [
    "x <- rnorm(5, 25, 5)\n",
    "meanFun <- function(vec) {\n",
    "    sampleSum <- sum(vec)\n",
    "    n <- length(vec)\n",
    "    sampleMean <- sampleSum / n\n",
    "    return(sampleMean)\n",
    "}\n",
    "\n",
    "meanFun(x)\n",
    "mean(x)"
   ]
  },
  {
   "cell_type": "markdown",
   "metadata": {},
   "source": [
    "2. Create a function that calculates the sample standard deviation of a vector. Run it on `x` and do a sanity check with the `sd()` function."
   ]
  },
  {
   "cell_type": "code",
   "execution_count": 5,
   "metadata": {},
   "outputs": [
    {
     "data": {
      "text/html": [
       "3.39782788708149"
      ],
      "text/latex": [
       "3.39782788708149"
      ],
      "text/markdown": [
       "3.39782788708149"
      ],
      "text/plain": [
       "[1] 3.397828"
      ]
     },
     "metadata": {},
     "output_type": "display_data"
    },
    {
     "data": {
      "text/html": [
       "3.39782788708149"
      ],
      "text/latex": [
       "3.39782788708149"
      ],
      "text/markdown": [
       "3.39782788708149"
      ],
      "text/plain": [
       "[1] 3.397828"
      ]
     },
     "metadata": {},
     "output_type": "display_data"
    }
   ],
   "source": [
    "sdFun <- function(vec) {\n",
    "    sqDiff <- sum((vec - meanFun(vec))^2)\n",
    "    sampleSD <- sqrt(sqDiff / (length(vec) - 1))\n",
    "    return(sampleSD)\n",
    "}\n",
    "\n",
    "sdFun(x)\n",
    "sd(x)"
   ]
  },
  {
   "cell_type": "markdown",
   "metadata": {},
   "source": [
    "3. Create a function that calculates the standard error of the mean of a vector. Run it on `x`. "
   ]
  },
  {
   "cell_type": "code",
   "execution_count": 6,
   "metadata": {},
   "outputs": [
    {
     "data": {
      "text/html": [
       "1.51955482627174"
      ],
      "text/latex": [
       "1.51955482627174"
      ],
      "text/markdown": [
       "1.51955482627174"
      ],
      "text/plain": [
       "[1] 1.519555"
      ]
     },
     "metadata": {},
     "output_type": "display_data"
    }
   ],
   "source": [
    "semFun <- function(vec) {\n",
    "    sampleSEM <- sdFun(vec) / sqrt(length(vec))\n",
    "    return(sampleSEM)\n",
    "}\n",
    "\n",
    "semFun(x)"
   ]
  },
  {
   "cell_type": "markdown",
   "metadata": {},
   "source": [
    "##### Understanding SD and SEM"
   ]
  },
  {
   "cell_type": "code",
   "execution_count": null,
   "metadata": {},
   "outputs": [],
   "source": [
    "# set up for questions 4 and 5\n",
    "# create two more vectors of varying sample sizes from the same distribution as `x`\n",
    "y <- rnorm(50, 25, 5)\n",
    "z <- rnorm(1000, 25, 5)\n",
    "\n",
    "#merge the vectors into a data.frame\n",
    "data <- data.frame(sample=rep(c(\"x\", \"y\", \"z\"), times=c(5,50,1000)), obs = c(x,y,z))"
   ]
  },
  {
   "cell_type": "markdown",
   "metadata": {},
   "source": [
    "4. We want to compare the means of each of the 3 vectors, and account for error. Using the example from lab as a reference, construct a table with all of the necessary summary statistics."
   ]
  },
  {
   "cell_type": "code",
   "execution_count": 11,
   "metadata": {},
   "outputs": [
    {
     "name": "stderr",
     "output_type": "stream",
     "text": [
      "\n",
      "Attaching package: ‘dplyr’\n",
      "\n",
      "\n",
      "The following objects are masked from ‘package:stats’:\n",
      "\n",
      "    filter, lag\n",
      "\n",
      "\n",
      "The following objects are masked from ‘package:base’:\n",
      "\n",
      "    intersect, setdiff, setequal, union\n",
      "\n",
      "\n"
     ]
    },
    {
     "data": {
      "text/html": [
       "<table class=\"dataframe\">\n",
       "<caption>A tibble: 3 × 5</caption>\n",
       "<thead>\n",
       "\t<tr><th scope=col>sample</th><th scope=col>n</th><th scope=col>mean</th><th scope=col>sd</th><th scope=col>sem</th></tr>\n",
       "\t<tr><th scope=col>&lt;chr&gt;</th><th scope=col>&lt;int&gt;</th><th scope=col>&lt;dbl&gt;</th><th scope=col>&lt;dbl&gt;</th><th scope=col>&lt;dbl&gt;</th></tr>\n",
       "</thead>\n",
       "<tbody>\n",
       "\t<tr><td>x</td><td>   5</td><td>26.68551</td><td>3.397828</td><td>1.5195548</td></tr>\n",
       "\t<tr><td>y</td><td>  50</td><td>24.43553</td><td>5.303164</td><td>0.7499806</td></tr>\n",
       "\t<tr><td>z</td><td>1000</td><td>24.96197</td><td>5.045931</td><td>0.1595663</td></tr>\n",
       "</tbody>\n",
       "</table>\n"
      ],
      "text/latex": [
       "A tibble: 3 × 5\n",
       "\\begin{tabular}{lllll}\n",
       " sample & n & mean & sd & sem\\\\\n",
       " <chr> & <int> & <dbl> & <dbl> & <dbl>\\\\\n",
       "\\hline\n",
       "\t x &    5 & 26.68551 & 3.397828 & 1.5195548\\\\\n",
       "\t y &   50 & 24.43553 & 5.303164 & 0.7499806\\\\\n",
       "\t z & 1000 & 24.96197 & 5.045931 & 0.1595663\\\\\n",
       "\\end{tabular}\n"
      ],
      "text/markdown": [
       "\n",
       "A tibble: 3 × 5\n",
       "\n",
       "| sample &lt;chr&gt; | n &lt;int&gt; | mean &lt;dbl&gt; | sd &lt;dbl&gt; | sem &lt;dbl&gt; |\n",
       "|---|---|---|---|---|\n",
       "| x |    5 | 26.68551 | 3.397828 | 1.5195548 |\n",
       "| y |   50 | 24.43553 | 5.303164 | 0.7499806 |\n",
       "| z | 1000 | 24.96197 | 5.045931 | 0.1595663 |\n",
       "\n"
      ],
      "text/plain": [
       "  sample n    mean     sd       sem      \n",
       "1 x         5 26.68551 3.397828 1.5195548\n",
       "2 y        50 24.43553 5.303164 0.7499806\n",
       "3 z      1000 24.96197 5.045931 0.1595663"
      ]
     },
     "metadata": {},
     "output_type": "display_data"
    }
   ],
   "source": [
    "library(dplyr)\n",
    "my_sum <- data %>%\n",
    "  group_by(sample) %>%\n",
    "  summarise( \n",
    "    n=n(),\n",
    "    mean=meanFun(obs),\n",
    "    sd=sdFun(obs)\n",
    "  ) %>%\n",
    "  mutate( sem=sd/sqrt(n))  \n",
    "\n",
    "my_sum"
   ]
  },
  {
   "cell_type": "markdown",
   "metadata": {},
   "source": [
    "5. Plot bar plots of the means of each vector. Add error bars using standard deviation. Knowing that our samples are taken from a distribution with mean=25, and sd=5, what trend do you notice in the sample standard deviation across the vectors of samples? Specifically reference how the trend correlates with the vectors of samples. "
   ]
  },
  {
   "cell_type": "code",
   "execution_count": 15,
   "metadata": {},
   "outputs": [
    {
     "name": "stdout",
     "output_type": "stream",
     "text": [
      "[1] \"As the size of the sample increases, the SD approaches the true SD\"\n"
     ]
    },
    {
     "data": {
      "image/png": "[encoded data removed]",
      "text/plain": [
       "plot without title"
      ]
     },
     "metadata": {
      "image/png": {
       "height": 420,
       "width": 420
      }
     },
     "output_type": "display_data"
    }
   ],
   "source": [
    "library(ggplot2)\n",
    "ggplot(my_sum) +\n",
    "  geom_bar( aes(x=sample, y=mean), stat=\"identity\", fill=\"forestgreen\", alpha=0.5) +\n",
    "  geom_errorbar( aes(x=sample, ymin=mean-sd, ymax=mean+sd), width=0.4, colour=\"orange\", alpha=0.9, size=1.5) +\n",
    "  ggtitle(\"using standard deviation\")\n",
    "\n",
    "print(\"As the size of the sample increases, the SD approaches the true SD\")"
   ]
  },
  {
   "cell_type": "markdown",
   "metadata": {},
   "source": [
    "6. Now plot error bars using the standard error of the means. What trend do you notice in the sample SEM across the vectors of samples? Specifically reference how the trend correlates with the vectors of samples."
   ]
  },
  {
   "cell_type": "code",
   "execution_count": 14,
   "metadata": {},
   "outputs": [
    {
     "data": {
      "image/png": "[encoded data removed]",
      "text/plain": [
       "plot without title"
      ]
     },
     "metadata": {
      "image/png": {
       "height": 420,
       "width": 420
      }
     },
     "output_type": "display_data"
    }
   ],
   "source": [
    "ggplot(my_sum) +\n",
    "  geom_bar( aes(x=sample, y=mean), stat=\"identity\", fill=\"forestgreen\", alpha=0.5) +\n",
    "  geom_errorbar( aes(x=sample, ymin=mean-sem, ymax=mean+sem), width=0.4, colour=\"orange\", alpha=0.9, size=1.5) +\n",
    "  ggtitle(\"using standard error\")\n",
    "\n",
    "print(\"As the size of the sample increases, the SEM decreases\")"
   ]
  }
 ],
 "metadata": {
  "kernelspec": {
   "display_name": "R",
   "language": "R",
   "name": "ir"
  },
  "language_info": {
   "codemirror_mode": "r",
   "file_extension": ".r",
   "mimetype": "text/x-r-source",
   "name": "R",
   "pygments_lexer": "r",
   "version": "4.1.2"
  }
 },
 "nbformat": 4,
 "nbformat_minor": 4
}
