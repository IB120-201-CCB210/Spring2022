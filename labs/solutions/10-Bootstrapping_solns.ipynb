{
 "cells": [
  {
   "cell_type": "code",
   "execution_count": null,
   "metadata": {},
   "outputs": [],
   "source": [
    "library(boot)\n",
    "library(stats)"
   ]
  },
  {
   "cell_type": "markdown",
   "metadata": {},
   "source": [
    "## Confidence Intervals"
   ]
  },
  {
   "cell_type": "markdown",
   "metadata": {},
   "source": [
    "You take a random sample of size n and calculate the sample mean. We use this sample mean as an *estimator* for the true population mean, also known as a \"point estimate\". A point estimate by itself is of limited usefulness because it does not reveal the uncertainty associated with the estimate or sampling method. Confidence intervals supply us with more information about the estimate by giving us an *interval*, with an associated *level of confidence*, that likely would contain the true population mean.  \n"
   ]
  },
  {
   "cell_type": "markdown",
   "metadata": {},
   "source": [
    "* A confidence interval (CI) is an interval of values instead of a single point estimate.\n",
    "* The level of confidence corresponds to the expected proportion of intervals that will contain the parameter if many confidence intervals are constructed of the same sample size from the same population. Another way of saying this is: \n",
    "    * 90% of confidence intervals computed at the 90% confidence level contain the true parameter\n",
    "    * 95% of confidence intervals computed at the 95% confidence level contain the parameter\n",
    "    * etc...\n",
    "* Our uncertainty is about whether our particular CI is one of those that truly contains the true value of the parameter.\n",
    "* Constructing confidence intervals requires knowledge about the sample distribution - sample mean and either population SD or sample SD. \n",
    "* Calculating CIs, theoretically, does not require that the population follow a normal distribution, however the math for such situations can get tricky. For this reason, if we know the population doesn't follow a normal, or we're just unsure, we can instead calculate an asymptotical CI on the *sample distribution for the sample mean* (according to the Central Limit Theorem, the sampling distribution for the sample mean approaches normal).  \n"
   ]
  },
  {
   "cell_type": "markdown",
   "metadata": {},
   "source": [
    "General form:\n",
    "\n",
    "sample statistic $\\pm$ margin of error\n",
    "\n",
    "margin of error $=$ multiplier(standard error)"
   ]
  },
  {
   "cell_type": "markdown",
   "metadata": {},
   "source": [
    "From Lab 8, we learned standard error $= \\frac{\\hat\\sigma}{\\sqrt n}$. The multiplier is calculated using t-statistics from a t-distribution. (There's a lot of theory behind this, but in short - this distribution applies when a test statistic we're interested in would follow a normal distribution *if* the value of a scaling term in the test statistic were known. When it's unknown, the scaling term is replaced by an estimate based on the data (the SEM).) Other statistical methods can be used to calculate the multiplier, but the t-distribution is widely used for when we don't know the true population standar deviation (which we rarely do). "
   ]
  },
  {
   "cell_type": "markdown",
   "metadata": {},
   "source": [
    "### Example \n",
    "When the population follows a normal"
   ]
  },
  {
   "cell_type": "code",
   "execution_count": null,
   "metadata": {},
   "outputs": [],
   "source": [
    "# draw a random sample from the normal distribution\n",
    "n <- 50\n",
    "x <- rnorm(n, 0, 1) \n",
    "x"
   ]
  },
  {
   "cell_type": "code",
   "execution_count": null,
   "metadata": {},
   "outputs": [],
   "source": [
    "# histogram of the sample\n",
    "hist(x)"
   ]
  },
  {
   "cell_type": "code",
   "execution_count": null,
   "metadata": {},
   "outputs": [],
   "source": [
    "# sample mean\n",
    "mean <- mean(x)\n",
    "mean"
   ]
  },
  {
   "cell_type": "markdown",
   "metadata": {},
   "source": [
    "**Question - Is there evidence that our true population mean is different from our sample mean?**"
   ]
  },
  {
   "cell_type": "code",
   "execution_count": null,
   "metadata": {},
   "outputs": [],
   "source": [
    "# standard error of the mean\n",
    "sem <- sd(x)/sqrt(n)\n",
    "sem"
   ]
  },
  {
   "cell_type": "code",
   "execution_count": null,
   "metadata": {},
   "outputs": [],
   "source": [
    "# confidence interval with a confidence level of 95%\n",
    "ci <- c(mean-qt(0.975, n-1)*sem, mean+qt(0.975, n-1)*sem)\n",
    "ci"
   ]
  },
  {
   "cell_type": "markdown",
   "metadata": {},
   "source": [
    "How do we interpret this? \n",
    "\n",
    "We are 95% confident that the true mean is within the above CI. Because the interval is centered around our sample mean, the answer to the above question is **no, there is no evidence that our true population mean is different from our sample mean**. \n",
    "\n",
    "---"
   ]
  },
  {
   "cell_type": "markdown",
   "metadata": {},
   "source": [
    "**Hypothesis Testing**"
   ]
  },
  {
   "cell_type": "code",
   "execution_count": null,
   "metadata": {},
   "outputs": [],
   "source": [
    "# one-sample t-test\n",
    "t.test(x)"
   ]
  },
  {
   "cell_type": "markdown",
   "metadata": {},
   "source": [
    "We learned about one-sample t-tests in lecture, which determined whether our population mean was different from a particular value. We can also conduct two-sample t-tests to determine if there is a significant difference between the population means of two groups. Unlike the one-sample t-test, where the t-statistic is calculated using the difference between the sample mean and the value, divided by the standard error ($t = \\frac{difference}{standard error}$), the t-statistic for a two-sample t-test is $t = \\frac{difference of group averages}{standard error of difference}$. We then compare this t-statistic to a t-value, which depends on our chosen significance value and degrees of freedom. "
   ]
  },
  {
   "cell_type": "code",
   "execution_count": null,
   "metadata": {},
   "outputs": [],
   "source": [
    "# two-sample t-test\n",
    "# draw a random sample from the normal distribution\n",
    "n <- 50\n",
    "y <- rnorm(n, 0, 1) \n",
    "print(mean(y))\n",
    "t.test(x, y)\n"
   ]
  },
  {
   "cell_type": "markdown",
   "metadata": {},
   "source": [
    "---\n",
    "As mentioned, if the population doesn't follow a normal distribution, or we're unsure, we can construct a CI on the sampling distribution of the sample mean. However, collecting multiple samples, from which we can calculate sample means, is not always feasible. This is where bootstrapping comes in handy."
   ]
  },
  {
   "cell_type": "code",
   "execution_count": null,
   "metadata": {},
   "outputs": [],
   "source": []
  },
  {
   "cell_type": "markdown",
   "metadata": {},
   "source": [
    "## Bootstrapping"
   ]
  },
  {
   "cell_type": "markdown",
   "metadata": {},
   "source": [
    "How it works:\n",
    "\n",
    "Bootstrapping resamples the original dataset with replacement many thousands of times to create simulated datasets. This process involves drawing random samples from the original dataset. Breaking it down:\n",
    "\n",
    "* The bootstrap method has an equal probability of randomly drawing each original data point for inclusion in the resampled datasets.\n",
    "* The procedure can select a data point more than once for a resampled dataset. This property is the “with replacement” aspect of the process.\n",
    "* The procedure creates resampled datasets that are the same size as the original dataset.\n",
    "\n",
    "The process ends with your simulated datasets having many different combinations of the values that exist in the original dataset. Each simulated dataset has its own set of sample statistics, such as the mean. Bootstrapping procedures use the distribution of the sample statistics across the simulated samples as the sampling distribution.\n",
    "\n",
    "Keep in mind that bootstrapping does not create new data. Instead, it treats the original sample as a proxy for the real population and then draws random samples from it. Consequently, the central assumption for bootstrapping is that the original sample accurately represents the actual population. The resampling process creates many possible samples that a study could have drawn. The various combinations of values in the simulated samples collectively provide an estimate of the variability between random samples drawn from the same population. The range of these potential samples allows the procedure to construct confidence intervals and perform hypothesis testing. Importantly, as the sample size increases, bootstrapping converges on the correct sampling distribution under most conditions."
   ]
  },
  {
   "cell_type": "markdown",
   "metadata": {},
   "source": [
    "### Example \n",
    "When the population doesn't follow a normal (or we're uncertain)."
   ]
  },
  {
   "cell_type": "markdown",
   "metadata": {},
   "source": [
    "#### Manual bootstrapping:"
   ]
  },
  {
   "cell_type": "code",
   "execution_count": null,
   "metadata": {},
   "outputs": [],
   "source": [
    "# sample data for male cat body weight\n",
    "\n",
    "data <- data.frame(weight = c(catsM$Bwt))\n",
    "n <- length(data$weight)\n",
    "data"
   ]
  },
  {
   "cell_type": "code",
   "execution_count": null,
   "metadata": {},
   "outputs": [],
   "source": [
    "# histogram of cat body weight \n",
    "hist(data$weight, breaks=10)"
   ]
  },
  {
   "cell_type": "code",
   "execution_count": null,
   "metadata": {},
   "outputs": [],
   "source": [
    "# mean of cat body weight\n",
    "mean <- mean(data$weight)\n",
    "mean"
   ]
  },
  {
   "cell_type": "code",
   "execution_count": null,
   "metadata": {},
   "outputs": [],
   "source": [
    "# create 30 bootstrap samples and calculate their sample means\n",
    "bootReps <- 30\n",
    "means <- c()\n",
    "for(i in 1:bootReps){\n",
    "    sample <- sample(data$weight, size = n, replace = T)\n",
    "    means <- append(means, mean(sample))\n",
    "}\n",
    "hist(means)"
   ]
  },
  {
   "cell_type": "code",
   "execution_count": null,
   "metadata": {},
   "outputs": [],
   "source": [
    "# construct the CI for the above sampling distribution of sample means\n",
    "meanOfMeans <- mean(means)\n",
    "semOfMeans <- sd(means)/sqrt(bootReps)\n",
    "ciOfMeans <- c(meanOfMeans-qt(0.975,bootReps-1)*semOfMeans, meanOfMeans+qt(0.975,bootReps-1)*semOfMeans)\n",
    "ciOfMeans"
   ]
  },
  {
   "cell_type": "code",
   "execution_count": null,
   "metadata": {},
   "outputs": [],
   "source": [
    "# create 100 bootstrap samples and calculate their sample means\n",
    "bootReps <- 100\n",
    "means <- c()\n",
    "for(i in 1:bootReps){\n",
    "    sample <- sample(data$weight, size = n, replace = T)\n",
    "    means <- append(means, mean(sample))\n",
    "}\n",
    "hist(means)"
   ]
  },
  {
   "cell_type": "code",
   "execution_count": null,
   "metadata": {},
   "outputs": [],
   "source": [
    "# construct the CI for the above sampling distribution of sample means\n",
    "meanOfMeans <- mean(means)\n",
    "semOfMeans <- sd(means)/sqrt(bootReps)\n",
    "ciOfMeans <- c(meanOfMeans-qt(0.975,bootReps-1)*semOfMeans, meanOfMeans+qt(0.975,bootReps-1)*semOfMeans)\n",
    "ciOfMeans"
   ]
  },
  {
   "cell_type": "code",
   "execution_count": null,
   "metadata": {},
   "outputs": [],
   "source": [
    "# create 1000 bootstrap samples and calculate their sample means\n",
    "bootReps <- 1000\n",
    "means <- c()\n",
    "for(i in 1:bootReps){\n",
    "    sample <- sample(data$weight, size = n, replace = T)\n",
    "    means <- append(means, mean(sample))\n",
    "}\n",
    "hist(means)"
   ]
  },
  {
   "cell_type": "code",
   "execution_count": null,
   "metadata": {},
   "outputs": [],
   "source": [
    "# construct the CI for the above sampling distribution of sample means\n",
    "meanOfMeans <- mean(means)\n",
    "semOfMeans <- sd(means)/sqrt(bootReps)\n",
    "ciOfMeans <- c(meanOfMeans-qt(0.975,bootReps-1)*semOfMeans, meanOfMeans+qt(0.975,bootReps-1)*semOfMeans)\n",
    "ciOfMeans"
   ]
  },
  {
   "cell_type": "markdown",
   "metadata": {},
   "source": [
    "Notice how the sampling distribution in the histogram approximates a normal distribution even though the underlying data distribution is not. This approximation occurs thanks to the central limit theorem. As the sample size increases, the sampling distribution converges on a normal distribution regardless of the underlying data distribution (with a few exceptions).\n",
    "\n",
    "We can compare our original sample mean to the context of our simulated sample distribution."
   ]
  },
  {
   "cell_type": "markdown",
   "metadata": {},
   "source": [
    "#### Using `boot()`:\n",
    "\n",
    "`boot()` calls the statistic function R times. Each time, it generates a set of random indices, with replacement, from the integers `1:nrow(data)`. These indices are used within the statistic function to select a sample. The statistics are calculated on the sample and the results are accumulated in the bootobject. \n",
    "\n",
    "**Note:** The function should include an indices parameter that the `boot()` function can use to select cases for each replication. Refer to example."
   ]
  },
  {
   "cell_type": "code",
   "execution_count": null,
   "metadata": {},
   "outputs": [],
   "source": [
    "?boot"
   ]
  },
  {
   "cell_type": "code",
   "execution_count": null,
   "metadata": {},
   "outputs": [],
   "source": [
    "# create the `statistic` function for the mean\n",
    "mean_fun <- function(data,index){\n",
    "  return(mean(data[index,]))\n",
    "}"
   ]
  },
  {
   "cell_type": "code",
   "execution_count": null,
   "metadata": {},
   "outputs": [],
   "source": [
    "# run a bootstrap analysis for 30 replicates\n",
    "res <- boot(data = data, R=30, statistic = mean_fun)\n",
    "res"
   ]
  },
  {
   "cell_type": "code",
   "execution_count": null,
   "metadata": {},
   "outputs": [],
   "source": [
    "res$t"
   ]
  },
  {
   "cell_type": "code",
   "execution_count": null,
   "metadata": {},
   "outputs": [],
   "source": [
    "plot(res)"
   ]
  },
  {
   "cell_type": "code",
   "execution_count": null,
   "metadata": {},
   "outputs": [],
   "source": [
    "boot.ci(res, conf = 0.95, type = \"norm\")"
   ]
  },
  {
   "cell_type": "code",
   "execution_count": null,
   "metadata": {},
   "outputs": [],
   "source": [
    "# run a bootstrap analysis for 100 replicates\n",
    "res <- boot(data = data, R=100, statistic = mean_fun)\n",
    "res"
   ]
  },
  {
   "cell_type": "code",
   "execution_count": null,
   "metadata": {},
   "outputs": [],
   "source": [
    "plot(res)"
   ]
  },
  {
   "cell_type": "code",
   "execution_count": null,
   "metadata": {},
   "outputs": [],
   "source": [
    "boot.ci(res, conf = 0.95, type = \"norm\")"
   ]
  },
  {
   "cell_type": "code",
   "execution_count": null,
   "metadata": {},
   "outputs": [],
   "source": [
    "# run a bootstrap analysis for 1000 replicates\n",
    "res <- boot(data = data, R=1000, statistic = mean_fun)\n",
    "res"
   ]
  },
  {
   "cell_type": "code",
   "execution_count": null,
   "metadata": {},
   "outputs": [],
   "source": [
    "plot(res)"
   ]
  },
  {
   "cell_type": "code",
   "execution_count": null,
   "metadata": {},
   "outputs": [],
   "source": [
    "boot.ci(res, conf = 0.95, type = \"norm\")"
   ]
  },
  {
   "cell_type": "code",
   "execution_count": null,
   "metadata": {},
   "outputs": [],
   "source": [
    "mean <- mean(res$t)\n",
    "sem <- sd(res$t)/sqrt(1000)\n",
    "ci <- c(mean - qt(0.975, 999)*sem, mean + qt(0.975, 999)*sem)\n",
    "ci"
   ]
  },
  {
   "cell_type": "markdown",
   "metadata": {},
   "source": [
    "**Question - Is there a statistically significant difference in weights between male and female cats?**"
   ]
  },
  {
   "cell_type": "code",
   "execution_count": null,
   "metadata": {},
   "outputs": [],
   "source": [
    "# is there a statistically significant difference in weights between male and female cats?\n",
    "library(MASS)\n",
    "t.test(Bwt ~ Sex, data = cats)"
   ]
  },
  {
   "cell_type": "markdown",
   "metadata": {},
   "source": [
    "## Assignment"
   ]
  },
  {
   "cell_type": "code",
   "execution_count": 5,
   "metadata": {},
   "outputs": [],
   "source": [
    "library(boot)"
   ]
  },
  {
   "cell_type": "markdown",
   "metadata": {},
   "source": [
    "1. Load the `iris` dataset, and find the mean and SEM of the `Sepal.Length`, `Sepal.Width`, `Petal.Length`, `Petal.Width`."
   ]
  },
  {
   "cell_type": "code",
   "execution_count": 1,
   "metadata": {},
   "outputs": [],
   "source": [
    "meanSepLen <- mean(iris$Sepal.Length)\n",
    "meanSepWid <- mean(iris$Sepal.Width)\n",
    "meanPetLen <- mean(iris$Petal.Length)\n",
    "meanPetWid <- mean(iris$Petal.Width)\n",
    "\n",
    "semSepLen <- sd(iris$Sepal.Length) / length(iris$Sepal.Length)\n",
    "semSepWid <- sd(iris$Sepal.Width) / length(iris$Sepal.Width)\n",
    "semPetLen <- sd(iris$Petal.Length) / length(iris$Petal.Length)\n",
    "semPetWid <- sd(iris$Petal.Width) / length(iris$Petal.Width)"
   ]
  },
  {
   "cell_type": "markdown",
   "metadata": {},
   "source": [
    "2. Calculate the variance of `Sepal.Length`, `Sepal.Width`, `Petal.Length`, `Petal.Width`."
   ]
  },
  {
   "cell_type": "code",
   "execution_count": 2,
   "metadata": {},
   "outputs": [],
   "source": [
    "varSepLen <- var(iris$Sepal.Length)\n",
    "varSepWid <- var(iris$Sepal.Width)\n",
    "varPetLen <- var(iris$Petal.Length)\n",
    "varPetWid <- var(iris$Petal.Width)"
   ]
  },
  {
   "cell_type": "markdown",
   "metadata": {},
   "source": [
    "3. Using the values calculated above, obtain the 95% confidence interval of the mean for `Sepal.Length`, `Sepal.Width`, `Petal.Length`, `Petal.Width`. What determines the range of the confidence interval? Report the confidence interval as a vector of the lower and upper bounds : `c(lower bound of CI, upper bound of CI)`."
   ]
  },
  {
   "cell_type": "code",
   "execution_count": 3,
   "metadata": {},
   "outputs": [],
   "source": [
    "sepLenCI <- c(meanSepLen - qt(0.975, length(iris$Sepal.Length) - 1)*semSepLen, meanSepLen + qt(0.975, length(iris$Sepal.Length) - 1)*semSepLen)\n",
    "sepWidCI <- c(meanSepWid - qt(0.975, length(iris$Sepal.Width) - 1)*semSepWid, meanSepWid + qt(0.975, length(iris$Sepal.Width) - 1)*semSepWid)\n",
    "petLenCI <- c(meanPetLen - qt(0.975, length(iris$Petal.Length) - 1)*semPetLen, meanPetLen + qt(0.975, length(iris$Petal.Length) - 1)*semPetLen)\n",
    "petWidCI <- c(meanPetWid - qt(0.975, length(iris$Petal.Width) - 1)*semPetWid, meanPetWid + qt(0.975, length(iris$Petal.Width) - 1)*semPetWid)"
   ]
  },
  {
   "cell_type": "markdown",
   "metadata": {},
   "source": [
    "The range of the confidence interval is determined by the standard error of the mean (variability in the mean), as well as the value of the t-statistic corresponding to 97.5% of the area under the t-distribution."
   ]
  },
  {
   "cell_type": "markdown",
   "metadata": {},
   "source": [
    "4. Using `boot()`, obtain 500 bootstrap samples out of `Sepal.Length`, `Sepal.Width`, `Petal.Length`, `Petal.Width`:\n",
    "\n",
    "    (a) Create a histogram of the bootstrap sample means\n",
    "\n",
    "    (b) Find the 95% bootstrap confidence intervals"
   ]
  },
  {
   "cell_type": "code",
   "execution_count": 6,
   "metadata": {},
   "outputs": [],
   "source": [
    "mean_fun <- function(data,index){\n",
    "  return(mean(data[index,]))\n",
    "}\n",
    "\n",
    "sepLenMeans <- boot(data = as.data.frame(iris$Sepal.Length), R=500, statistic = mean_fun)\n",
    "sepWidMeans <- boot(data = as.data.frame(iris$Sepal.Width), R=500, statistic = mean_fun)\n",
    "petLenMeans <- boot(data = as.data.frame(iris$Petal.Length), R=500, statistic = mean_fun)\n",
    "petWidMeans <- boot(data = as.data.frame(iris$Petal.Width), R=500, statistic = mean_fun)"
   ]
  },
  {
   "cell_type": "code",
   "execution_count": 7,
   "metadata": {},
   "outputs": [
    {
     "data": {
      "text/plain": [
       "BOOTSTRAP CONFIDENCE INTERVAL CALCULATIONS\n",
       "Based on 500 bootstrap replicates\n",
       "\n",
       "CALL : \n",
       "boot.ci(boot.out = sepLenMeans, conf = 0.95, type = \"norm\")\n",
       "\n",
       "Intervals : \n",
       "Level      Normal        \n",
       "95%   ( 5.705,  5.975 )  \n",
       "Calculations and Intervals on Original Scale"
      ]
     },
     "metadata": {},
     "output_type": "display_data"
    },
    {
     "data": {
      "image/png": "[encoded data removed]",
      "text/plain": [
       "Plot with title “Histogram of sepLenMeans$t”"
      ]
     },
     "metadata": {
      "image/png": {
       "height": 420,
       "width": 420
      }
     },
     "output_type": "display_data"
    }
   ],
   "source": [
    "hist(sepLenMeans$t)\n",
    "boot.ci(sepLenMeans, conf = 0.95, type = \"norm\")"
   ]
  },
  {
   "cell_type": "code",
   "execution_count": 8,
   "metadata": {},
   "outputs": [
    {
     "data": {
      "text/plain": [
       "BOOTSTRAP CONFIDENCE INTERVAL CALCULATIONS\n",
       "Based on 500 bootstrap replicates\n",
       "\n",
       "CALL : \n",
       "boot.ci(boot.out = sepWidMeans, conf = 0.95, type = \"norm\")\n",
       "\n",
       "Intervals : \n",
       "Level      Normal        \n",
       "95%   ( 2.986,  3.124 )  \n",
       "Calculations and Intervals on Original Scale"
      ]
     },
     "metadata": {},
     "output_type": "display_data"
    },
    {
     "data": {
      "image/png": "[encoded data removed]",
      "text/plain": [
       "Plot with title “Histogram of sepWidMeans$t”"
      ]
     },
     "metadata": {
      "image/png": {
       "height": 420,
       "width": 420
      }
     },
     "output_type": "display_data"
    }
   ],
   "source": [
    "hist(sepWidMeans$t)\n",
    "boot.ci(sepWidMeans, conf = 0.95, type = \"norm\")"
   ]
  },
  {
   "cell_type": "code",
   "execution_count": 9,
   "metadata": {},
   "outputs": [
    {
     "data": {
      "text/plain": [
       "BOOTSTRAP CONFIDENCE INTERVAL CALCULATIONS\n",
       "Based on 500 bootstrap replicates\n",
       "\n",
       "CALL : \n",
       "boot.ci(boot.out = petLenMeans, conf = 0.95, type = \"norm\")\n",
       "\n",
       "Intervals : \n",
       "Level      Normal        \n",
       "95%   ( 3.488,  4.037 )  \n",
       "Calculations and Intervals on Original Scale"
      ]
     },
     "metadata": {},
     "output_type": "display_data"
    },
    {
     "data": {
      "image/png": "[encoded data removed]",
      "text/plain": [
       "Plot with title “Histogram of petLenMeans$t”"
      ]
     },
     "metadata": {
      "image/png": {
       "height": 420,
       "width": 420
      }
     },
     "output_type": "display_data"
    }
   ],
   "source": [
    "hist(petLenMeans$t)\n",
    "boot.ci(petLenMeans, conf = 0.95, type = \"norm\")"
   ]
  },
  {
   "cell_type": "code",
   "execution_count": 10,
   "metadata": {},
   "outputs": [
    {
     "data": {
      "text/plain": [
       "BOOTSTRAP CONFIDENCE INTERVAL CALCULATIONS\n",
       "Based on 500 bootstrap replicates\n",
       "\n",
       "CALL : \n",
       "boot.ci(boot.out = petWidMeans, conf = 0.95, type = \"norm\")\n",
       "\n",
       "Intervals : \n",
       "Level      Normal        \n",
       "95%   ( 1.084,  1.324 )  \n",
       "Calculations and Intervals on Original Scale"
      ]
     },
     "metadata": {},
     "output_type": "display_data"
    },
    {
     "data": {
      "image/png": "[encoded data removed]",
      "text/plain": [
       "Plot with title “Histogram of petWidMeans$t”"
      ]
     },
     "metadata": {
      "image/png": {
       "height": 420,
       "width": 420
      }
     },
     "output_type": "display_data"
    }
   ],
   "source": [
    "hist(petWidMeans$t)\n",
    "boot.ci(petWidMeans, conf = 0.95, type = \"norm\")"
   ]
  },
  {
   "cell_type": "markdown",
   "metadata": {},
   "source": [
    "5. Perform a t-test between all combinations of the four datasets (that would be a total of 4 choose 2 = 6 combinations). See if there is any statistically significant difference (p < 0.05) between any of the four parameters defining the `iris`."
   ]
  },
  {
   "cell_type": "code",
   "execution_count": 11,
   "metadata": {},
   "outputs": [
    {
     "data": {
      "text/plain": [
       "\n",
       "\tWelch Two Sample t-test\n",
       "\n",
       "data:  iris$Sepal.Length and iris$Sepal.Width\n",
       "t = 36.463, df = 225.68, p-value < 2.2e-16\n",
       "alternative hypothesis: true difference in means is not equal to 0\n",
       "95 percent confidence interval:\n",
       " 2.63544 2.93656\n",
       "sample estimates:\n",
       "mean of x mean of y \n",
       " 5.843333  3.057333 \n"
      ]
     },
     "metadata": {},
     "output_type": "display_data"
    }
   ],
   "source": [
    "# Note: it was assumed for this question that we are to test for significant differences between the original iris datasets' means, not the bootstrapped ones.\n",
    "\n",
    "# Sepal Length and Sepal Width\n",
    "t.test(iris$Sepal.Length, iris$Sepal.Width)"
   ]
  },
  {
   "cell_type": "code",
   "execution_count": 12,
   "metadata": {},
   "outputs": [
    {
     "data": {
      "text/plain": [
       "\n",
       "\tWelch Two Sample t-test\n",
       "\n",
       "data:  iris$Sepal.Length and iris$Petal.Length\n",
       "t = 13.098, df = 211.54, p-value < 2.2e-16\n",
       "alternative hypothesis: true difference in means is not equal to 0\n",
       "95 percent confidence interval:\n",
       " 1.771500 2.399166\n",
       "sample estimates:\n",
       "mean of x mean of y \n",
       " 5.843333  3.758000 \n"
      ]
     },
     "metadata": {},
     "output_type": "display_data"
    }
   ],
   "source": [
    "# Sepal Length and Petal Length\n",
    "t.test(iris$Sepal.Length, iris$Petal.Length)"
   ]
  },
  {
   "cell_type": "code",
   "execution_count": 13,
   "metadata": {},
   "outputs": [
    {
     "data": {
      "text/plain": [
       "\n",
       "\tWelch Two Sample t-test\n",
       "\n",
       "data:  iris$Sepal.Length and iris$Petal.Width\n",
       "t = 50.536, df = 295.98, p-value < 2.2e-16\n",
       "alternative hypothesis: true difference in means is not equal to 0\n",
       "95 percent confidence interval:\n",
       " 4.46315 4.82485\n",
       "sample estimates:\n",
       "mean of x mean of y \n",
       " 5.843333  1.199333 \n"
      ]
     },
     "metadata": {},
     "output_type": "display_data"
    }
   ],
   "source": [
    "# Sepal Length and Petal Width\n",
    "t.test(iris$Sepal.Length, iris$Petal.Width)"
   ]
  },
  {
   "cell_type": "code",
   "execution_count": 14,
   "metadata": {},
   "outputs": [
    {
     "data": {
      "text/plain": [
       "\n",
       "\tWelch Two Sample t-test\n",
       "\n",
       "data:  iris$Sepal.Width and iris$Petal.Length\n",
       "t = -4.7194, df = 167.1, p-value = 4.975e-06\n",
       "alternative hypothesis: true difference in means is not equal to 0\n",
       "95 percent confidence interval:\n",
       " -0.9937746 -0.4075587\n",
       "sample estimates:\n",
       "mean of x mean of y \n",
       " 3.057333  3.758000 \n"
      ]
     },
     "metadata": {},
     "output_type": "display_data"
    }
   ],
   "source": [
    "# Sepal Width and Petal Length\n",
    "t.test(iris$Sepal.Width, iris$Petal.Length)"
   ]
  },
  {
   "cell_type": "code",
   "execution_count": 15,
   "metadata": {},
   "outputs": [
    {
     "data": {
      "text/plain": [
       "\n",
       "\tWelch Two Sample t-test\n",
       "\n",
       "data:  iris$Sepal.Width and iris$Petal.Width\n",
       "t = 25.916, df = 237.03, p-value < 2.2e-16\n",
       "alternative hypothesis: true difference in means is not equal to 0\n",
       "95 percent confidence interval:\n",
       " 1.716763 1.999237\n",
       "sample estimates:\n",
       "mean of x mean of y \n",
       " 3.057333  1.199333 \n"
      ]
     },
     "metadata": {},
     "output_type": "display_data"
    }
   ],
   "source": [
    "# Sepal Width and Petal Width\n",
    "t.test(iris$Sepal.Width, iris$Petal.Width)"
   ]
  },
  {
   "cell_type": "code",
   "execution_count": 16,
   "metadata": {},
   "outputs": [
    {
     "data": {
      "text/plain": [
       "\n",
       "\tWelch Two Sample t-test\n",
       "\n",
       "data:  iris$Petal.Length and iris$Petal.Width\n",
       "t = 16.297, df = 202.69, p-value < 2.2e-16\n",
       "alternative hypothesis: true difference in means is not equal to 0\n",
       "95 percent confidence interval:\n",
       " 2.249107 2.868227\n",
       "sample estimates:\n",
       "mean of x mean of y \n",
       " 3.758000  1.199333 \n"
      ]
     },
     "metadata": {},
     "output_type": "display_data"
    }
   ],
   "source": [
    "# Petal Length and Petal Width\n",
    "t.test(iris$Petal.Length, iris$Petal.Width)"
   ]
  },
  {
   "cell_type": "markdown",
   "metadata": {},
   "source": [
    "Since all the p-values for means of all combinations of ‘iris’ parameters are less than 0.05 (most are less than 2.2e-16), there is a statistically significant difference between all four parameters defining the ‘iris’: Sepal Length, Sepal Width, Petal Length, and Petal Width."
   ]
  },
  {
   "cell_type": "code",
   "execution_count": null,
   "metadata": {},
   "outputs": [],
   "source": []
  }
 ],
 "metadata": {
  "kernelspec": {
   "display_name": "R",
   "language": "R",
   "name": "ir"
  },
  "language_info": {
   "codemirror_mode": "r",
   "file_extension": ".r",
   "mimetype": "text/x-r-source",
   "name": "R",
   "pygments_lexer": "r",
   "version": "4.1.2"
  }
 },
 "nbformat": 4,
 "nbformat_minor": 4
}
