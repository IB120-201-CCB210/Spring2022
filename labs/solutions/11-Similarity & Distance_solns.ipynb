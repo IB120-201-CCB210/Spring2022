{
 "cells": [
  {
   "cell_type": "markdown",
   "id": "88bc2f86",
   "metadata": {},
   "source": [
    "# Similarity & Distance"
   ]
  },
  {
   "cell_type": "markdown",
   "id": "023db1a8",
   "metadata": {},
   "source": [
    "### Jaccard Similarity"
   ]
  },
  {
   "cell_type": "markdown",
   "id": "88dfa71b",
   "metadata": {},
   "source": [
    "The Jaccard similarity, denoted $J(A,B)$ of two sets A and B is $|A \\bigcap B| / |A \\bigcup B|$, ie, the ratio of\n",
    "the cardinality of the intersection of sets A and B and the cardinality of their\n",
    "union. Or in less mathy terms: $(\\text{number of observations in both sets}) / (\\text{number in either set})$"
   ]
  },
  {
   "cell_type": "markdown",
   "id": "7b94c3df",
   "metadata": {},
   "source": [
    "**Example 1** "
   ]
  },
  {
   "cell_type": "code",
   "execution_count": null,
   "id": "c281fb9d",
   "metadata": {},
   "outputs": [],
   "source": [
    "A = c(0, 1, 2, 5, 6, 8, 9)\n",
    "B = c(0, 2, 3, 4, 5, 7, 9)"
   ]
  },
  {
   "cell_type": "code",
   "execution_count": null,
   "id": "11887f11",
   "metadata": {},
   "outputs": [],
   "source": [
    "# creating a function for the Jaccard similarity\n",
    "jaccard_sim <- function(setA, setB) {\n",
    "    AandB <- intersect(setA, setB)\n",
    "    AorB <- union(setA, setB)\n",
    "    return(length(AandB) / length(AorB))\n",
    "}"
   ]
  },
  {
   "cell_type": "markdown",
   "id": "dbc774d5",
   "metadata": {},
   "source": [
    "**Example 2**"
   ]
  },
  {
   "cell_type": "code",
   "execution_count": null,
   "id": "4b70cb7f",
   "metadata": {},
   "outputs": [],
   "source": [
    "C = c(0, 1, 2, 3, 4, 5)\n",
    "D = c(6, 7, 8, 9, 10)"
   ]
  },
  {
   "cell_type": "code",
   "execution_count": null,
   "id": "61cfc863",
   "metadata": {},
   "outputs": [],
   "source": [
    "jaccard_sim(C, D)"
   ]
  },
  {
   "cell_type": "code",
   "execution_count": null,
   "id": "55bc1573",
   "metadata": {},
   "outputs": [],
   "source": [
    "E = c('cat', 'dog', 'hippo', 'monkey')\n",
    "F = c('monkey', 'rhino', 'ostrich', 'salmon')"
   ]
  },
  {
   "cell_type": "code",
   "execution_count": null,
   "id": "9ccd6739",
   "metadata": {},
   "outputs": [],
   "source": [
    "jaccard_sim(E,F)"
   ]
  },
  {
   "cell_type": "markdown",
   "id": "7f7e7bab",
   "metadata": {},
   "source": [
    "## Distances"
   ]
  },
  {
   "cell_type": "markdown",
   "id": "91ed703d",
   "metadata": {},
   "source": [
    "*Conditions*\n",
    "\n",
    "1. $d(x,y) ≥ 0$: distances cannot be negative\n",
    "2. $d(x,y) = d(y,x)$: distances are symmetric\n",
    "3. $d(x,y) = 0$ if and only if $x=y$: Distances are positive, except for the\n",
    "distance between a point and itself.\n",
    "4. $d(x,y) ≤d(x,z) + d(z,y)$: the triangle inequality"
   ]
  },
  {
   "cell_type": "markdown",
   "id": "53508a71",
   "metadata": {},
   "source": [
    "### Jaccard Distance"
   ]
  },
  {
   "cell_type": "markdown",
   "id": "f697d7c7",
   "metadata": {},
   "source": [
    "The Jaccard distance of two sets is simply $1-J(A,B)$."
   ]
  },
  {
   "cell_type": "markdown",
   "id": "04f4d137",
   "metadata": {},
   "source": [
    "### $L_r$-Norms"
   ]
  },
  {
   "cell_type": "markdown",
   "id": "d0d75fb1",
   "metadata": {},
   "source": [
    "Denoted as $|| x-y ||_r$, represents the $r-norm$ distance between two vectors $x = (x_1, x_2, ..., x_n)$ and $y = (y_1, y_2, ... , y_n)$"
   ]
  },
  {
   "cell_type": "markdown",
   "id": "7448e40d",
   "metadata": {},
   "source": [
    "#### Manhatten Distance ($L_1$-Norm)"
   ]
  },
  {
   "cell_type": "code",
   "execution_count": 83,
   "id": "387728f8",
   "metadata": {},
   "outputs": [
    {
     "data": {
      "image/png": "[encoded data removed]",
      "text/plain": [
       "plot without title"
      ]
     },
     "metadata": {
      "image/png": {
       "height": 420,
       "width": 420
      }
     },
     "output_type": "display_data"
    }
   ],
   "source": [
    "# initialize a plot\n",
    "plot(c(-4, 4), c(-4, 4), type = \"n\", xlab = \"x\", ylab = \"y\")\n",
    "\n",
    "# plot points & lines\n",
    "points(x = c(0, 3), y = c(0, 4), col = \"red\", pch = 19)\n",
    "lines(x = c(0, 3, 3, 3), y = c(0, 0, 0, 4), col = \"blue\", lwd = 3)\n",
    "abline(h = 0, v = 0)\n",
    "grid()"
   ]
  },
  {
   "cell_type": "code",
   "execution_count": 20,
   "id": "1d6d9356",
   "metadata": {},
   "outputs": [
    {
     "data": {
      "text/plain": [
       "  x\n",
       "y 7"
      ]
     },
     "metadata": {},
     "output_type": "display_data"
    }
   ],
   "source": [
    "x <- c(0,0)\n",
    "y <- c(3, 4)\n",
    "\n",
    "dist(rbind(x,y), method = \"minkowski\", p=1) # note the organization of the data (each row represents a point/vector) \n",
    "# for this function"
   ]
  },
  {
   "cell_type": "markdown",
   "id": "b3816587",
   "metadata": {},
   "source": [
    "#### Euclidean Distance ($L_2$-Norm)"
   ]
  },
  {
   "cell_type": "code",
   "execution_count": 120,
   "id": "dbae9097",
   "metadata": {},
   "outputs": [
    {
     "data": {
      "image/png": "[encoded data removed]",
      "text/plain": [
       "plot without title"
      ]
     },
     "metadata": {
      "image/png": {
       "height": 420,
       "width": 420
      }
     },
     "output_type": "display_data"
    }
   ],
   "source": [
    "# initialize a plot\n",
    "plot(c(-4, 4), c(-4, 4), type = \"n\", xlab = \"x\", ylab = \"y\")\n",
    "\n",
    "# plot points & lines\n",
    "points(x = c(0, 3), y = c(0, 4), col = \"red\", pch = 19)\n",
    "lines(x = c(0, 3), y = c(0, 4), col = \"blue\", lwd = 3)\n",
    "abline(h = 0, v = 0)\n",
    "grid()"
   ]
  },
  {
   "cell_type": "markdown",
   "id": "21b6a818",
   "metadata": {},
   "source": [
    "$$d_E(x,y) = \\sqrt{(x_1 −y_1)^2 + (x_2 −y_2)^2 + ... + (x_n −y_n)^2} = \\sqrt{\\sum_{i=1}^n(x_i −y_i)^2}$$"
   ]
  },
  {
   "cell_type": "markdown",
   "id": "0a0fd51c",
   "metadata": {},
   "source": [
    "**Example 1**"
   ]
  },
  {
   "cell_type": "code",
   "execution_count": 23,
   "id": "d96618f4",
   "metadata": {},
   "outputs": [],
   "source": [
    "x <- c(1,3)\n",
    "y <- c(2,6)"
   ]
  },
  {
   "cell_type": "markdown",
   "id": "5477a478",
   "metadata": {},
   "source": [
    "$d_E(x,y)$ = ??"
   ]
  },
  {
   "cell_type": "markdown",
   "id": "f789000f",
   "metadata": {},
   "source": [
    "**Example 2**"
   ]
  },
  {
   "cell_type": "code",
   "execution_count": 21,
   "id": "51f3494c",
   "metadata": {},
   "outputs": [
    {
     "data": {
      "text/html": [
       "<style>\n",
       ".list-inline {list-style: none; margin:0; padding: 0}\n",
       ".list-inline>li {display: inline-block}\n",
       ".list-inline>li:not(:last-child)::after {content: \"\\00b7\"; padding: 0 .5ex}\n",
       "</style>\n",
       "<ol class=list-inline><li>5</li><li>0</li><li>1</li><li>4</li><li>8</li><li>8</li><li>8</li></ol>\n"
      ],
      "text/latex": [
       "\\begin{enumerate*}\n",
       "\\item 5\n",
       "\\item 0\n",
       "\\item 1\n",
       "\\item 4\n",
       "\\item 8\n",
       "\\item 8\n",
       "\\item 8\n",
       "\\end{enumerate*}\n"
      ],
      "text/markdown": [
       "1. 5\n",
       "2. 0\n",
       "3. 1\n",
       "4. 4\n",
       "5. 8\n",
       "6. 8\n",
       "7. 8\n",
       "\n",
       "\n"
      ],
      "text/plain": [
       "[1] 5 0 1 4 8 8 8"
      ]
     },
     "metadata": {},
     "output_type": "display_data"
    },
    {
     "data": {
      "text/html": [
       "<style>\n",
       ".list-inline {list-style: none; margin:0; padding: 0}\n",
       ".list-inline>li {display: inline-block}\n",
       ".list-inline>li:not(:last-child)::after {content: \"\\00b7\"; padding: 0 .5ex}\n",
       "</style>\n",
       "<ol class=list-inline><li>6</li><li>5</li><li>2</li><li>0</li><li>3</li><li>6</li><li>5</li></ol>\n"
      ],
      "text/latex": [
       "\\begin{enumerate*}\n",
       "\\item 6\n",
       "\\item 5\n",
       "\\item 2\n",
       "\\item 0\n",
       "\\item 3\n",
       "\\item 6\n",
       "\\item 5\n",
       "\\end{enumerate*}\n"
      ],
      "text/markdown": [
       "1. 6\n",
       "2. 5\n",
       "3. 2\n",
       "4. 0\n",
       "5. 3\n",
       "6. 6\n",
       "7. 5\n",
       "\n",
       "\n"
      ],
      "text/plain": [
       "[1] 6 5 2 0 3 6 5"
      ]
     },
     "metadata": {},
     "output_type": "display_data"
    }
   ],
   "source": [
    "x2 <- sample(0:9, 7, replace = T)\n",
    "y2 <- sample(0:9, 7, replace = T)\n",
    "x2\n",
    "y2"
   ]
  },
  {
   "cell_type": "code",
   "execution_count": 22,
   "id": "5f636596",
   "metadata": {},
   "outputs": [
    {
     "data": {
      "text/plain": [
       "   x2\n",
       "y2  9"
      ]
     },
     "metadata": {},
     "output_type": "display_data"
    },
    {
     "data": {
      "text/plain": [
       "   x2\n",
       "y2  9"
      ]
     },
     "metadata": {},
     "output_type": "display_data"
    }
   ],
   "source": [
    "dist(rbind(x2,y2), method = \"euclidean\")\n",
    "dist(rbind(x2,y2), method = \"minkowski\", p=2)"
   ]
  },
  {
   "cell_type": "code",
   "execution_count": 24,
   "id": "2851b41a",
   "metadata": {},
   "outputs": [
    {
     "data": {
      "text/plain": [
       "         x\n",
       "y 3.162278"
      ]
     },
     "metadata": {},
     "output_type": "display_data"
    },
    {
     "data": {
      "text/html": [
       "3.16227766016838"
      ],
      "text/latex": [
       "3.16227766016838"
      ],
      "text/markdown": [
       "3.16227766016838"
      ],
      "text/plain": [
       "[1] 3.162278"
      ]
     },
     "metadata": {},
     "output_type": "display_data"
    }
   ],
   "source": [
    "dist(rbind(x,y), method = \"euclidean\")\n",
    "sqrt(10)"
   ]
  },
  {
   "cell_type": "code",
   "execution_count": null,
   "id": "05603145",
   "metadata": {},
   "outputs": [],
   "source": [
    "# downside of euclidean method (magnitude of the dimensions)"
   ]
  },
  {
   "cell_type": "markdown",
   "id": "684a817d",
   "metadata": {},
   "source": [
    "#### $L_r$-Norm"
   ]
  },
  {
   "cell_type": "markdown",
   "id": "2ae99288",
   "metadata": {},
   "source": [
    "$\\big(\\sum_{i=1}^n|x_i −y_i|^r\\big)^{1/r}$, where $r$ is any constant (not including $\\infty$)."
   ]
  },
  {
   "cell_type": "markdown",
   "id": "1c44e641",
   "metadata": {},
   "source": [
    "#### $L_\\infty$-Norm"
   ]
  },
  {
   "cell_type": "markdown",
   "id": "6e112442",
   "metadata": {},
   "source": [
    "$\\max|x_i − y_i|$ over all dimensions $i$"
   ]
  },
  {
   "cell_type": "code",
   "execution_count": 25,
   "id": "99389916",
   "metadata": {},
   "outputs": [
    {
     "data": {
      "text/plain": [
       "  x\n",
       "y 3"
      ]
     },
     "metadata": {},
     "output_type": "display_data"
    }
   ],
   "source": [
    "dist(rbind(x,y), method = \"maximum\")"
   ]
  },
  {
   "cell_type": "code",
   "execution_count": 1,
   "id": "c5257d00",
   "metadata": {},
   "outputs": [
    {
     "data": {
      "text/html": [
       "3"
      ],
      "text/latex": [
       "3"
      ],
      "text/markdown": [
       "3"
      ],
      "text/plain": [
       "[1] 3"
      ]
     },
     "metadata": {},
     "output_type": "display_data"
    }
   ],
   "source": [
    "abs(3-6)"
   ]
  },
  {
   "cell_type": "markdown",
   "id": "8cf4edba",
   "metadata": {},
   "source": [
    "For more information on the considerations of p values, check this page out: https://www.reddit.com/r/math/comments/7hogva/what_do_higher_norms_than_l2_really_mean_for_a_2d/\n",
    "\n",
    "If it feels like the discussion goes over your head, don't worry. Unless you're dealing with Machine Learning, the most commonly used p values are 1, 2, and $\\infty$."
   ]
  },
  {
   "cell_type": "markdown",
   "id": "0a501579",
   "metadata": {},
   "source": [
    "### Angular / Cosine Distance"
   ]
  },
  {
   "cell_type": "markdown",
   "id": "ac6c4d85",
   "metadata": {},
   "source": [
    "<div>\n",
    "<img src=\"3_points.png\" width=50%/>\n",
    "</div>"
   ]
  },
  {
   "cell_type": "markdown",
   "id": "c5a85f81",
   "metadata": {},
   "source": [
    "<div>\n",
    "<img src=\"vectors.png\" width=50%/>\n",
    "</div>"
   ]
  },
  {
   "cell_type": "markdown",
   "id": "bcf2a80c",
   "metadata": {},
   "source": [
    "<div>\n",
    "<img src=\"ang_dist.png\" width=50%/>\n",
    "</div>"
   ]
  },
  {
   "cell_type": "markdown",
   "id": "ccd8765b",
   "metadata": {},
   "source": [
    "$$\\cos(\\theta) = \\frac{\\sum_{i=1}^n(x_iy_i)}{\\sqrt{\\sum_{i=1}^nx_i^2}\\sqrt{\\sum_{i=1}^ny_i^2}}$$"
   ]
  },
  {
   "cell_type": "markdown",
   "id": "424028a0",
   "metadata": {},
   "source": [
    "$$d_A(x,y) = \\cos^{−1}(\\cos(\\theta))/\\pi$$"
   ]
  },
  {
   "cell_type": "markdown",
   "id": "c2f58ec7",
   "metadata": {},
   "source": [
    "**Example 1**"
   ]
  },
  {
   "cell_type": "markdown",
   "id": "bbf349ec",
   "metadata": {},
   "source": [
    "Let $x = [0,1]$ and $y = [1,0]$. What is the angular distance?"
   ]
  },
  {
   "cell_type": "code",
   "execution_count": 84,
   "id": "0a0295eb",
   "metadata": {},
   "outputs": [
    {
     "data": {
      "image/png": "[encoded data removed]",
      "text/plain": [
       "plot without title"
      ]
     },
     "metadata": {
      "image/png": {
       "height": 420,
       "width": 420
      }
     },
     "output_type": "display_data"
    }
   ],
   "source": [
    "# initialize a plot\n",
    "plot(c(-1, 1), c(-1, 1), type = \"n\", xlab = \"x\", ylab = \"y\")\n",
    "\n",
    "# prepare \"circle data\"\n",
    "radius = 1\n",
    "center_x = 0\n",
    "center_y = 0\n",
    "theta = seq(0, 2 * pi, length = 200) # angles for drawing points around the circle\n",
    "\n",
    "# draw the circle\n",
    "lines(x = radius * cos(theta) + center_x, y = radius * sin(theta) + center_y)\n",
    "points(x = c(0, 1), y = c(1, 0), col = \"red\", pch = 19)\n",
    "abline(h = 0, v = 0)\n",
    "grid()"
   ]
  },
  {
   "cell_type": "markdown",
   "id": "aef3fb03",
   "metadata": {},
   "source": [
    "$d_A = 1/2$"
   ]
  },
  {
   "cell_type": "markdown",
   "id": "37d3e87c",
   "metadata": {},
   "source": [
    "**Example 2**"
   ]
  },
  {
   "cell_type": "markdown",
   "id": "14b42e67",
   "metadata": {},
   "source": [
    "Let $x = [0,0,1,1,1]$ and $y = [1,0,0,1,1]$. What is the angular distance?"
   ]
  },
  {
   "cell_type": "code",
   "execution_count": 38,
   "id": "0b8170b8",
   "metadata": {},
   "outputs": [],
   "source": [
    "x <- c(0, 0, 1, 1, 1)\n",
    "y <- c(1, 0, 0, 1, 1)"
   ]
  },
  {
   "cell_type": "markdown",
   "id": "f9166d44",
   "metadata": {},
   "source": [
    "$\\cos(\\theta) = 2 / 3$"
   ]
  },
  {
   "cell_type": "code",
   "execution_count": 43,
   "id": "dc43147e",
   "metadata": {},
   "outputs": [
    {
     "data": {
      "text/html": [
       "0.26772047280123"
      ],
      "text/latex": [
       "0.26772047280123"
      ],
      "text/markdown": [
       "0.26772047280123"
      ],
      "text/plain": [
       "[1] 0.2677205"
      ]
     },
     "metadata": {},
     "output_type": "display_data"
    }
   ],
   "source": [
    "cos <- 2/3\n",
    "arc_c <- acos(cos)\n",
    "dA <- arc_c / pi\n",
    "dA"
   ]
  },
  {
   "cell_type": "markdown",
   "id": "9748356a",
   "metadata": {},
   "source": [
    "$d_A = 0.26$"
   ]
  },
  {
   "cell_type": "markdown",
   "id": "afa2ab18",
   "metadata": {},
   "source": [
    "### Hamming Distance"
   ]
  },
  {
   "cell_type": "markdown",
   "id": "dc7323b5",
   "metadata": {},
   "source": [
    "**Example**"
   ]
  },
  {
   "cell_type": "code",
   "execution_count": 55,
   "id": "fb5237d6",
   "metadata": {},
   "outputs": [],
   "source": [
    "x = c(\"ATTAAG\")\n",
    "y = c(\"CTTAG\")\n",
    "z = c(\"ATTAA\")"
   ]
  },
  {
   "cell_type": "code",
   "execution_count": 50,
   "id": "f93c0f5e",
   "metadata": {},
   "outputs": [
    {
     "data": {
      "text/html": [
       "<table class=\"dataframe\">\n",
       "<caption>A matrix: 1 × 1 of type dbl</caption>\n",
       "<tbody>\n",
       "\t<tr><td>2</td></tr>\n",
       "</tbody>\n",
       "</table>\n"
      ],
      "text/latex": [
       "A matrix: 1 × 1 of type dbl\n",
       "\\begin{tabular}{l}\n",
       "\t 2\\\\\n",
       "\\end{tabular}\n"
      ],
      "text/markdown": [
       "\n",
       "A matrix: 1 × 1 of type dbl\n",
       "\n",
       "| 2 |\n",
       "\n"
      ],
      "text/plain": [
       "     [,1]\n",
       "[1,] 2   "
      ]
     },
     "metadata": {},
     "output_type": "display_data"
    }
   ],
   "source": [
    "adist(x,y)"
   ]
  },
  {
   "cell_type": "code",
   "execution_count": 48,
   "id": "63e6aa80",
   "metadata": {},
   "outputs": [
    {
     "data": {
      "text/html": [
       "<table class=\"dataframe\">\n",
       "<caption>A matrix: 1 × 1 of type dbl</caption>\n",
       "<tbody>\n",
       "\t<tr><td>2</td></tr>\n",
       "</tbody>\n",
       "</table>\n"
      ],
      "text/latex": [
       "A matrix: 1 × 1 of type dbl\n",
       "\\begin{tabular}{l}\n",
       "\t 2\\\\\n",
       "\\end{tabular}\n"
      ],
      "text/markdown": [
       "\n",
       "A matrix: 1 × 1 of type dbl\n",
       "\n",
       "| 2 |\n",
       "\n"
      ],
      "text/plain": [
       "     [,1]\n",
       "[1,] 2   "
      ]
     },
     "metadata": {},
     "output_type": "display_data"
    }
   ],
   "source": [
    "adist(y, z)"
   ]
  },
  {
   "cell_type": "code",
   "execution_count": 66,
   "id": "fb04ebcf",
   "metadata": {},
   "outputs": [],
   "source": [
    "x <- c('aa', 'bb', 'cc', 'dd')\n",
    "y <- c('aa', 'bb', 'cc', 'dd')"
   ]
  },
  {
   "cell_type": "code",
   "execution_count": 68,
   "id": "4a50db76",
   "metadata": {},
   "outputs": [
    {
     "data": {
      "text/html": [
       "<table class=\"dataframe\">\n",
       "<caption>A matrix: 4 × 4 of type dbl</caption>\n",
       "<tbody>\n",
       "\t<tr><td>0</td><td>2</td><td>2</td><td>2</td></tr>\n",
       "\t<tr><td>2</td><td>0</td><td>2</td><td>2</td></tr>\n",
       "\t<tr><td>2</td><td>2</td><td>0</td><td>2</td></tr>\n",
       "\t<tr><td>2</td><td>2</td><td>2</td><td>0</td></tr>\n",
       "</tbody>\n",
       "</table>\n"
      ],
      "text/latex": [
       "A matrix: 4 × 4 of type dbl\n",
       "\\begin{tabular}{llll}\n",
       "\t 0 & 2 & 2 & 2\\\\\n",
       "\t 2 & 0 & 2 & 2\\\\\n",
       "\t 2 & 2 & 0 & 2\\\\\n",
       "\t 2 & 2 & 2 & 0\\\\\n",
       "\\end{tabular}\n"
      ],
      "text/markdown": [
       "\n",
       "A matrix: 4 × 4 of type dbl\n",
       "\n",
       "| 0 | 2 | 2 | 2 |\n",
       "| 2 | 0 | 2 | 2 |\n",
       "| 2 | 2 | 0 | 2 |\n",
       "| 2 | 2 | 2 | 0 |\n",
       "\n"
      ],
      "text/plain": [
       "     [,1] [,2] [,3] [,4]\n",
       "[1,] 0    2    2    2   \n",
       "[2,] 2    0    2    2   \n",
       "[3,] 2    2    0    2   \n",
       "[4,] 2    2    2    0   "
      ]
     },
     "metadata": {},
     "output_type": "display_data"
    }
   ],
   "source": [
    "adist(x,y)"
   ]
  },
  {
   "cell_type": "code",
   "execution_count": 69,
   "id": "4969702b",
   "metadata": {},
   "outputs": [
    {
     "data": {
      "text/html": [
       "0"
      ],
      "text/latex": [
       "0"
      ],
      "text/markdown": [
       "0"
      ],
      "text/plain": [
       "[1] 0"
      ]
     },
     "metadata": {},
     "output_type": "display_data"
    }
   ],
   "source": [
    "sum(x != y)"
   ]
  },
  {
   "cell_type": "markdown",
   "id": "ebf6e81c",
   "metadata": {},
   "source": [
    "For more on pros/cons of distance metrics, check this page out: https://towardsdatascience.com/9-distance-measures-in-data-science-918109d069fa"
   ]
  },
  {
   "cell_type": "markdown",
   "id": "dc45c2d8",
   "metadata": {},
   "source": [
    "## Assignment"
   ]
  },
  {
   "cell_type": "markdown",
   "id": "d5023efc",
   "metadata": {},
   "source": [
    "Let $x = [2, 3]$, $y = [3, 2]$, and $z = [6, 4.2]$."
   ]
  },
  {
   "cell_type": "markdown",
   "id": "235d6d26",
   "metadata": {},
   "source": [
    "1. Create a function to calculate the $L_r$−norm for any value of r, including $\\infty$, on two n-dimenstional\n",
    "vectors of any size."
   ]
  },
  {
   "cell_type": "code",
   "execution_count": 8,
   "id": "74076a09",
   "metadata": {},
   "outputs": [],
   "source": [
    "Lr_norm <- function(vec1, vec2, r) {\n",
    "    if (r != Inf)\n",
    "        d <- sum(abs(vec1 - vec2)^r)^(1/r)\n",
    "    else\n",
    "        d <- max(abs(vec1 - vec2))\n",
    "    return(d)\n",
    "}"
   ]
  },
  {
   "cell_type": "markdown",
   "id": "ef6863d8",
   "metadata": {},
   "source": [
    "2. Use the function from #1 to calculate the Euclidean distances between each pair of vectors. Confirm your results to one of the functions used in lab. \n",
    "\n",
    "    Compare the distances between each pair. Which one is the smallest? Which one is the largest? (You can use inequalities to show ordering.) "
   ]
  },
  {
   "cell_type": "code",
   "execution_count": 122,
   "id": "f01cc137",
   "metadata": {},
   "outputs": [],
   "source": [
    "x <- c(2,3)\n",
    "y <- c(3,2)\n",
    "z <- c(6,4.2)"
   ]
  },
  {
   "cell_type": "code",
   "execution_count": 123,
   "id": "3ca61899",
   "metadata": {},
   "outputs": [
    {
     "data": {
      "text/html": [
       "1.4142135623731"
      ],
      "text/latex": [
       "1.4142135623731"
      ],
      "text/markdown": [
       "1.4142135623731"
      ],
      "text/plain": [
       "[1] 1.414214"
      ]
     },
     "metadata": {},
     "output_type": "display_data"
    },
    {
     "data": {
      "text/html": [
       "4.17612260356422"
      ],
      "text/latex": [
       "4.17612260356422"
      ],
      "text/markdown": [
       "4.17612260356422"
      ],
      "text/plain": [
       "[1] 4.176123"
      ]
     },
     "metadata": {},
     "output_type": "display_data"
    },
    {
     "data": {
      "text/html": [
       "3.72021504754765"
      ],
      "text/latex": [
       "3.72021504754765"
      ],
      "text/markdown": [
       "3.72021504754765"
      ],
      "text/plain": [
       "[1] 3.720215"
      ]
     },
     "metadata": {},
     "output_type": "display_data"
    },
    {
     "data": {
      "text/plain": [
       "         x\n",
       "y 1.414214"
      ]
     },
     "metadata": {},
     "output_type": "display_data"
    },
    {
     "data": {
      "text/plain": [
       "         x\n",
       "z 4.176123"
      ]
     },
     "metadata": {},
     "output_type": "display_data"
    },
    {
     "data": {
      "text/plain": [
       "         y\n",
       "z 3.720215"
      ]
     },
     "metadata": {},
     "output_type": "display_data"
    }
   ],
   "source": [
    "Lr_norm(x, y, 2)\n",
    "Lr_norm(x, z, 2)\n",
    "Lr_norm(y, z, 2)\n",
    "\n",
    "dist(rbind(x,y), method = \"euclidean\")\n",
    "dist(rbind(x,z), method = \"euclidean\")\n",
    "dist(rbind(y,z), method = \"euclidean\")"
   ]
  },
  {
   "cell_type": "markdown",
   "id": "7406bbff",
   "metadata": {},
   "source": [
    "$d_E(x,y) \\leq d_E(y,z) \\leq d_E(x,z)$"
   ]
  },
  {
   "cell_type": "markdown",
   "id": "6e717c7a",
   "metadata": {},
   "source": [
    "3. Create a function to calculate the angular distance between two vectors of any length. "
   ]
  },
  {
   "cell_type": "markdown",
   "id": "fdc3ee2f",
   "metadata": {},
   "source": [
    "$$\\cos(\\theta) = \\frac{\\sum_{i=1}^n(x_iy_i)}{\\sqrt{\\sum_{i=1}^nx_i^2}\\sqrt{\\sum_{i=1}^ny_i^2}}$$\n",
    "$$d_A(x,y) = \\cos^{−1}(\\cos(\\theta))/\\pi$$"
   ]
  },
  {
   "cell_type": "code",
   "execution_count": 124,
   "id": "d8af4856",
   "metadata": {},
   "outputs": [],
   "source": [
    "ang_dist <- function(vec1, vec2) {\n",
    "    cos <- sum(vec1*vec2) / (sqrt(sum(vec1^2))*sqrt(sum(vec2^2)))\n",
    "    d <- acos(cos)/pi\n",
    "    return(d)\n",
    "}"
   ]
  },
  {
   "cell_type": "markdown",
   "id": "785bf4da",
   "metadata": {},
   "source": [
    "4. Use the function from #3 to calculate the angular distances between each pair of vectors. Confirm your results to one of the functions used in lab. \n",
    "\n",
    "    Compare the distances between each pair. Which one is the smallest? Which one is the largest? (You can use inequalities to show ordering.) "
   ]
  },
  {
   "cell_type": "code",
   "execution_count": 88,
   "id": "d679dae8",
   "metadata": {},
   "outputs": [
    {
     "data": {
      "text/html": [
       "0.125665916378002"
      ],
      "text/latex": [
       "0.125665916378002"
      ],
      "text/markdown": [
       "0.125665916378002"
      ],
      "text/plain": [
       "[1] 0.1256659"
      ]
     },
     "metadata": {},
     "output_type": "display_data"
    },
    {
     "data": {
      "text/html": [
       "0.118432845974786"
      ],
      "text/latex": [
       "0.118432845974786"
      ],
      "text/markdown": [
       "0.118432845974786"
      ],
      "text/plain": [
       "[1] 0.1184328"
      ]
     },
     "metadata": {},
     "output_type": "display_data"
    },
    {
     "data": {
      "text/html": [
       "0.00723307040321513"
      ],
      "text/latex": [
       "0.00723307040321513"
      ],
      "text/markdown": [
       "0.00723307040321513"
      ],
      "text/plain": [
       "[1] 0.00723307"
      ]
     },
     "metadata": {},
     "output_type": "display_data"
    }
   ],
   "source": [
    "ang_dist(x,y)\n",
    "ang_dist(x,z)\n",
    "ang_dist(y,z)"
   ]
  },
  {
   "cell_type": "markdown",
   "id": "be3b250b",
   "metadata": {},
   "source": [
    "$d_A(y,z) \\leq d_A(x,z) \\leq d_A(x,y)$"
   ]
  },
  {
   "cell_type": "markdown",
   "id": "c9c5cba5",
   "metadata": {},
   "source": [
    "5. Now compare the ordering of distances between both methods. Discuss any pitfalls you notice in either or both of the distance metrics. Feel free to plot the 3 points to aid you in visualizing any pitfalls. "
   ]
  },
  {
   "cell_type": "code",
   "execution_count": 121,
   "id": "b809952c",
   "metadata": {},
   "outputs": [
    {
     "data": {
      "image/png": "[encoded data removed]",
      "text/plain": [
       "plot without title"
      ]
     },
     "metadata": {
      "image/png": {
       "height": 420,
       "width": 420
      }
     },
     "output_type": "display_data"
    }
   ],
   "source": [
    "plot(c(0,7), c(0,5), type='n', xlab=\"x-axis\", ylab=\"y-axis\")\n",
    "points(x=c(2, 3, 6), y=c(3, 2, 4.2))\n",
    "text(x=c(2, 3, 6), y=c(3, 2, 4.2), labels = c(\"x\", \"y\", \"z\"), pos = 1)\n",
    "lines(x=c(2, 3, 6, 2), y=c(3, 2, 4.2, 3), col = 'dark green', lwd = 2)\n",
    "lines(x=c(0,2,0,3,0,6), y=c(0,3,0,2,0,4.2), col = 'sky blue', lwd = 2)\n",
    "grid()"
   ]
  },
  {
   "cell_type": "markdown",
   "id": "53079998",
   "metadata": {},
   "source": [
    "$d_E(x,y) \\leq d_E(y,z) \\leq d_E(x,z)$\n",
    "\n",
    "$d_A(y,z) \\leq d_A(x,z) \\leq d_A(x,y)$"
   ]
  },
  {
   "cell_type": "markdown",
   "id": "425c50c9",
   "metadata": {},
   "source": [
    "$d_E(x,y) \\leq d_E(y,z)$, however $d_A(y,z) \\leq d_A(x,y)$. \n",
    "\n",
    "One potential pitfall lies with the angular distance - magnitude of vectors is not taken into account, merely their direction. In practice, this means that the differences in values are not fully taken into account."
   ]
  },
  {
   "cell_type": "markdown",
   "id": "9292800d",
   "metadata": {},
   "source": [
    "6. From the lecture notes, please explain in your own words what the curse of dimensionality means and what could be done to overcome it when analyzing high-dimensional data."
   ]
  },
  {
   "cell_type": "code",
   "execution_count": null,
   "id": "a0ce8cad",
   "metadata": {},
   "outputs": [],
   "source": []
  }
 ],
 "metadata": {
  "kernelspec": {
   "display_name": "R",
   "language": "R",
   "name": "ir"
  },
  "language_info": {
   "codemirror_mode": "r",
   "file_extension": ".r",
   "mimetype": "text/x-r-source",
   "name": "R",
   "pygments_lexer": "r",
   "version": "4.1.2"
  }
 },
 "nbformat": 4,
 "nbformat_minor": 5
}
